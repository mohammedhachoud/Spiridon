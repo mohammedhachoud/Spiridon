{
 "cells": [
  {
   "cell_type": "markdown",
   "metadata": {},
   "source": [
    "# Units Test Notebook"
   ]
  },
  {
   "cell_type": "code",
   "execution_count": 6,
   "metadata": {},
   "outputs": [
    {
     "name": "stdout",
     "output_type": "stream",
     "text": [
      "Seeded everything with seed 42\n",
      "Setup complete. Modules imported.\n",
      "Using data from: c:\\Users\\moham\\OneDrive\\Desktop\\spiridon\\Spiridon\\data\n",
      "Test outputs will be in: c:\\Users\\moham\\OneDrive\\Desktop\\spiridon\\Spiridon\\output\\test_outputs\n",
      "Testing with original ceramic IDs: [48, 49, 10601]\n"
     ]
    }
   ],
   "source": [
    "import pandas as pd\n",
    "import numpy as np\n",
    "import os\n",
    "import json\n",
    "from IPython.display import display, HTML\n",
    "import sys\n",
    "\n",
    "current_dir = os.path.dirname(os.path.abspath(''))\n",
    "if current_dir not in sys.path:\n",
    "    sys.path.insert(0, current_dir)\n",
    "\n",
    "# Import project modules\n",
    "import config \n",
    "from data_loader import load_all_dataframes\n",
    "from preprocess import translate_dataframes, process_tech_cat_names\n",
    "from feature_engineering import create_ceramic_summary, generate_one_hot_embeddings\n",
    "from graph_utils import (\n",
    "    build_category_hierarchy_and_map_ceramics,\n",
    "    calculate_completeness_score,\n",
    "    extract_triplets_for_selection,\n",
    "    get_parents,\n",
    "    memo_parents\n",
    ")\n",
    "from src.data_preparation.format_rgcn_data import (\n",
    "    format_rgcn_data_with_hybrid_embeddings\n",
    ")\n",
    "# Corrected import path for adapt_rgcn_data_for_ceramic_classification\n",
    "from data_preparation.format_rgcn_mlp_classification_data import (\n",
    "    adapt_rgcn_data_for_ceramic_classification\n",
    ")\n",
    "from data_preparation.format_mlp_classification_data import (\n",
    "    create_mlp_input_data\n",
    ")\n",
    "from utils import seed_everything, get_feature_parent_relation_label\n",
    "\n",
    "# --- Configuration for the Test ---\n",
    "seed_everything(42)\n",
    "\n",
    "# LOCAL_DATA_PATH_TEST will come from the imported config module\n",
    "LOCAL_DATA_PATH_TEST = config.LOCAL_DATA_PATH\n",
    "OUTPUT_TEST_DIR = os.path.join(config.OUTPUT_BASE_DIR, \"test_outputs\")\n",
    "os.makedirs(OUTPUT_TEST_DIR, exist_ok=True)\n",
    "\n",
    "TEST_CERAMIC_IDS_ORIGINAL = [48, 49, 10601]\n",
    "\n",
    "print(\"Setup complete. Modules imported.\")\n",
    "print(f\"Using data from: {LOCAL_DATA_PATH_TEST}\") # This now uses config.LOCAL_DATA_PATH\n",
    "print(f\"Test outputs will be in: {OUTPUT_TEST_DIR}\")\n",
    "print(f\"Testing with original ceramic IDs: {TEST_CERAMIC_IDS_ORIGINAL}\")"
   ]
  },
  {
   "cell_type": "markdown",
   "metadata": {},
   "source": [
    "## 1. Select 3 Ceramics as Examples to treat"
   ]
  },
  {
   "cell_type": "code",
   "execution_count": 7,
   "metadata": {},
   "outputs": [
    {
     "name": "stdout",
     "output_type": "stream",
     "text": [
      "--- Raw Data for Test Ceramics from ceramic_summary_prepared.csv ---\n",
      "\n",
      "Found 3 ceramic records\n"
     ]
    },
    {
     "name": "stderr",
     "output_type": "stream",
     "text": [
      "<>:2: SyntaxWarning: invalid escape sequence '\\m'\n",
      "<>:2: SyntaxWarning: invalid escape sequence '\\m'\n",
      "C:\\Users\\moham\\AppData\\Local\\Temp\\ipykernel_8060\\1639807925.py:2: SyntaxWarning: invalid escape sequence '\\m'\n",
      "  ceramic_summary_df = pd.read_csv('C:/Users\\moham\\OneDrive\\Desktop\\spiridon\\Spiridon\\output\\ceramic_summary_prepared.csv')\n"
     ]
    },
    {
     "data": {
      "text/html": [
       "\n",
       "    <style>\n",
       "    #ceramics_table {\n",
       "        font-size: 12px;\n",
       "        border-collapse: collapse;\n",
       "        width: 100%;\n",
       "    }\n",
       "    #ceramics_table th, #ceramics_table td {\n",
       "        border: 1px solid #ddd;\n",
       "        padding: 8px;\n",
       "        text-align: left;\n",
       "        vertical-align: top;\n",
       "        word-wrap: break-word;\n",
       "        max-width: 300px;\n",
       "    }\n",
       "    #ceramics_table th {\n",
       "        background-color: #f2f2f2;\n",
       "        font-weight: bold;\n",
       "    }\n",
       "    #ceramics_table tr:nth-child(even) {\n",
       "        background-color: #f9f9f9;\n",
       "    }\n",
       "    </style>\n",
       "    <table border=\"1\" class=\"dataframe table table-striped table-bordered\" id=\"ceramics_table\">\n",
       "  <thead>\n",
       "    <tr style=\"text-align: right;\">\n",
       "      <th>ceramic_id</th>\n",
       "      <th>ceramic_identifier</th>\n",
       "      <th>origin</th>\n",
       "      <th>tech_cat_id</th>\n",
       "      <th>tech_cat_name</th>\n",
       "      <th>reuse</th>\n",
       "      <th>production_fail</th>\n",
       "      <th>period_name_fr</th>\n",
       "      <th>context_type_name</th>\n",
       "      <th>identifier_origin_source_name</th>\n",
       "      <th>function_id</th>\n",
       "      <th>function_name_fr</th>\n",
       "      <th>feature_id</th>\n",
       "      <th>feature_name_fr</th>\n",
       "      <th>color_name_list</th>\n",
       "      <th>description</th>\n",
       "    </tr>\n",
       "  </thead>\n",
       "  <tbody>\n",
       "    <tr>\n",
       "      <td>48</td>\n",
       "      <td>19188</td>\n",
       "      <td>Sainte-Barbe, France</td>\n",
       "      <td>-1</td>\n",
       "      <td>Unknown Category</td>\n",
       "      <td>NaN</td>\n",
       "      <td>True</td>\n",
       "      <td>NaN</td>\n",
       "      <td>production</td>\n",
       "      <td>LA3M/LAMM Inventory</td>\n",
       "      <td>[np.int64(11)]</td>\n",
       "      <td>['pitcher']</td>\n",
       "      <td>[np.int64(3), np.int64(16), np.int64(41), np.int64(49)]</td>\n",
       "      <td>['Calcareous', 'Lead glaze', 'Oxidizing', 'Thrown']</td>\n",
       "      <td>['Green']</td>\n",
       "      <td>A Green ceramic with a production fault from the production in Sainte-Barbe.</td>\n",
       "    </tr>\n",
       "    <tr>\n",
       "      <td>49</td>\n",
       "      <td>26274</td>\n",
       "      <td>Collège Eugène Vigne, France</td>\n",
       "      <td>1</td>\n",
       "      <td>Category Kaolinitic from the Uzège group</td>\n",
       "      <td>NaN</td>\n",
       "      <td>False</td>\n",
       "      <td>NaN</td>\n",
       "      <td>production</td>\n",
       "      <td>LA3M/LAMM Inventory</td>\n",
       "      <td>[np.int64(11)]</td>\n",
       "      <td>['pitcher']</td>\n",
       "      <td>[np.int64(3), np.int64(19), np.int64(41), np.int64(49)]</td>\n",
       "      <td>['Kaolinitic', 'Lead glaze', 'Oxidizing', 'Thrown']</td>\n",
       "      <td>[]</td>\n",
       "      <td>A Ceramic ceramic from the production in Collège Eugène Vigne.</td>\n",
       "    </tr>\n",
       "    <tr>\n",
       "      <td>10601</td>\n",
       "      <td>3-8</td>\n",
       "      <td>Hôtel d'Agar, France</td>\n",
       "      <td>94</td>\n",
       "      <td>Category White kaolinitic, glazed</td>\n",
       "      <td>False</td>\n",
       "      <td>False</td>\n",
       "      <td>époque moderne occidentale</td>\n",
       "      <td>consumption</td>\n",
       "      <td>Site Archives</td>\n",
       "      <td>[np.int64(21)]</td>\n",
       "      <td>['cooking pot']</td>\n",
       "      <td>[np.int64(3), np.int64(19), np.int64(41), np.int64(49)]</td>\n",
       "      <td>['Kaolinitic', 'Lead glaze', 'Oxidizing', 'Thrown']</td>\n",
       "      <td>[]</td>\n",
       "      <td>A Ceramic ceramic from the consumption in Hôtel d'Agar.</td>\n",
       "    </tr>\n",
       "  </tbody>\n",
       "</table>\n",
       "    "
      ],
      "text/plain": [
       "<IPython.core.display.HTML object>"
      ]
     },
     "metadata": {},
     "output_type": "display_data"
    },
    {
     "name": "stdout",
     "output_type": "stream",
     "text": [
      "\n",
      "--- Individual Ceramic Details ---\n",
      "\n",
      "==================================================\n",
      "CERAMIC ID: 48\n",
      "==================================================\n",
      "ceramic_id: 48\n",
      "------------------------------\n",
      "ceramic_identifier: 19188\n",
      "------------------------------\n",
      "origin: Sainte-Barbe, France\n",
      "------------------------------\n",
      "tech_cat_id: -1\n",
      "------------------------------\n",
      "tech_cat_name: Unknown Category\n",
      "------------------------------\n",
      "production_fail: True\n",
      "------------------------------\n",
      "context_type_name: production\n",
      "------------------------------\n",
      "identifier_origin_source_name: LA3M/LAMM Inventory\n",
      "------------------------------\n",
      "function_id: [np.int64(11)]\n",
      "------------------------------\n",
      "function_name_fr: ['pitcher']\n",
      "------------------------------\n",
      "feature_id: [np.int64(3), np.int64(16), np.int64(41), np.int64(49)]\n",
      "------------------------------\n",
      "feature_name_fr: ['Calcareous', 'Lead glaze', 'Oxidizing', 'Thrown']\n",
      "------------------------------\n",
      "color_name_list: ['Green']\n",
      "------------------------------\n",
      "description: A Green ceramic with a production fault from the production in Sainte-Barbe.\n",
      "------------------------------\n",
      "\n",
      "==================================================\n",
      "CERAMIC ID: 49\n",
      "==================================================\n",
      "ceramic_id: 49\n",
      "------------------------------\n",
      "ceramic_identifier: 26274\n",
      "------------------------------\n",
      "origin: Collège Eugène Vigne, France\n",
      "------------------------------\n",
      "tech_cat_id: 1\n",
      "------------------------------\n",
      "tech_cat_name:  Category Kaolinitic from the Uzège group\n",
      "------------------------------\n",
      "production_fail: False\n",
      "------------------------------\n",
      "context_type_name: production\n",
      "------------------------------\n",
      "identifier_origin_source_name: LA3M/LAMM Inventory\n",
      "------------------------------\n",
      "function_id: [np.int64(11)]\n",
      "------------------------------\n",
      "function_name_fr: ['pitcher']\n",
      "------------------------------\n",
      "feature_id: [np.int64(3), np.int64(19), np.int64(41), np.int64(49)]\n",
      "------------------------------\n",
      "feature_name_fr: ['Kaolinitic', 'Lead glaze', 'Oxidizing', 'Thrown']\n",
      "------------------------------\n",
      "color_name_list: []\n",
      "------------------------------\n",
      "description: A Ceramic ceramic from the production in Collège Eugène Vigne.\n",
      "------------------------------\n",
      "\n",
      "==================================================\n",
      "CERAMIC ID: 10601\n",
      "==================================================\n",
      "ceramic_id: 10601\n",
      "------------------------------\n",
      "ceramic_identifier: 3-8\n",
      "------------------------------\n",
      "origin: Hôtel d'Agar, France\n",
      "------------------------------\n",
      "tech_cat_id: 94\n",
      "------------------------------\n",
      "tech_cat_name:  Category White kaolinitic, glazed\n",
      "------------------------------\n",
      "reuse: False\n",
      "------------------------------\n",
      "production_fail: False\n",
      "------------------------------\n",
      "period_name_fr: époque moderne occidentale\n",
      "------------------------------\n",
      "context_type_name: consumption\n",
      "------------------------------\n",
      "identifier_origin_source_name: Site Archives\n",
      "------------------------------\n",
      "function_id: [np.int64(21)]\n",
      "------------------------------\n",
      "function_name_fr: ['cooking pot']\n",
      "------------------------------\n",
      "feature_id: [np.int64(3), np.int64(19), np.int64(41), np.int64(49)]\n",
      "------------------------------\n",
      "feature_name_fr: ['Kaolinitic', 'Lead glaze', 'Oxidizing', 'Thrown']\n",
      "------------------------------\n",
      "color_name_list: []\n",
      "------------------------------\n",
      "description: A Ceramic ceramic from the consumption in Hôtel d'Agar.\n",
      "------------------------------\n"
     ]
    }
   ],
   "source": [
    "# Load the prepared ceramic summary data\n",
    "ceramic_summary_df = pd.read_csv('C:/Users\\moham\\OneDrive\\Desktop\\spiridon\\Spiridon\\output\\ceramic_summary_prepared.csv')\n",
    "\n",
    "# Set pandas display options to show full content\n",
    "pd.set_option('display.max_columns', None)\n",
    "pd.set_option('display.max_colwidth', None)\n",
    "pd.set_option('display.width', None)\n",
    "pd.set_option('display.max_rows', None)\n",
    "\n",
    "# Display raw data for test ceramics\n",
    "print(\"--- Raw Data for Test Ceramics from ceramic_summary_prepared.csv ---\")\n",
    "\n",
    "# Filter data for all test ceramic IDs\n",
    "test_ceramics_data = ceramic_summary_df[ceramic_summary_df['ceramic_id'].isin(TEST_CERAMIC_IDS_ORIGINAL)]\n",
    "\n",
    "if not test_ceramics_data.empty:\n",
    "    print(f\"\\nFound {len(test_ceramics_data)} ceramic records\")\n",
    "    \n",
    "    # Display in HTML format for better readability\n",
    "    from IPython.display import HTML\n",
    "    \n",
    "    # Create HTML table with better formatting\n",
    "    html_table = test_ceramics_data.to_html(\n",
    "        escape=False,\n",
    "        index=False,\n",
    "        table_id='ceramics_table',\n",
    "        classes='table table-striped table-bordered'\n",
    "    )\n",
    "    \n",
    "    # Add some CSS styling for better readability\n",
    "    styled_html = f\"\"\"\n",
    "    <style>\n",
    "    #ceramics_table {{\n",
    "        font-size: 12px;\n",
    "        border-collapse: collapse;\n",
    "        width: 100%;\n",
    "    }}\n",
    "    #ceramics_table th, #ceramics_table td {{\n",
    "        border: 1px solid #ddd;\n",
    "        padding: 8px;\n",
    "        text-align: left;\n",
    "        vertical-align: top;\n",
    "        word-wrap: break-word;\n",
    "        max-width: 300px;\n",
    "    }}\n",
    "    #ceramics_table th {{\n",
    "        background-color: #f2f2f2;\n",
    "        font-weight: bold;\n",
    "    }}\n",
    "    #ceramics_table tr:nth-child(even) {{\n",
    "        background-color: #f9f9f9;\n",
    "    }}\n",
    "    </style>\n",
    "    {html_table}\n",
    "    \"\"\"\n",
    "    \n",
    "    display(HTML(styled_html))\n",
    "    \n",
    "    # Also display each ceramic individually for detailed view\n",
    "    print(\"\\n--- Individual Ceramic Details ---\")\n",
    "    for ceramic_id in TEST_CERAMIC_IDS_ORIGINAL:\n",
    "        ceramic_row = ceramic_summary_df[ceramic_summary_df['ceramic_id'] == ceramic_id]\n",
    "        if not ceramic_row.empty:\n",
    "            print(f\"\\n{'='*50}\")\n",
    "            print(f\"CERAMIC ID: {ceramic_id}\")\n",
    "            print(f\"{'='*50}\")\n",
    "            \n",
    "            # Display each column and its value\n",
    "            for column in ceramic_row.columns:\n",
    "                value = ceramic_row[column].iloc[0]\n",
    "                if pd.notna(value) and str(value).strip():\n",
    "                    print(f\"{column}: {value}\")\n",
    "                    print(\"-\" * 30)\n",
    "        else:\n",
    "            print(f\"No data found for Ceramic ID {ceramic_id}\")\n",
    "            \n",
    "else:\n",
    "    print(\"No ceramic data found for the specified IDs\")"
   ]
  },
  {
   "cell_type": "markdown",
   "metadata": {},
   "source": [
    "## 2. Generate One-Hot Embeddings (For mlp)"
   ]
  },
  {
   "cell_type": "code",
   "execution_count": 8,
   "metadata": {},
   "outputs": [
    {
     "name": "stdout",
     "output_type": "stream",
     "text": [
      "Loading data from: c:\\Users\\moham\\OneDrive\\Desktop\\spiridon\\Spiridon\\data\n",
      "  Loaded ceramic.csv as dfs['ceramic']\n",
      "  Loaded object_colors.csv as dfs['object_colors']\n",
      "  Loaded object_colors_attrib.csv as dfs['object_colors_attrib']\n",
      "  Loaded object_feature.csv as dfs['object_feature']\n",
      "  Loaded object_feature_combined_names.csv as dfs['object_feature_combined_names']\n",
      "  Loaded object_feature_attrib.csv as dfs['object_feature_attrib']\n",
      "  Loaded object_function_translated.csv as dfs['object_function']\n",
      "  Loaded object_function_attrib.csv as dfs['object_function_attrib']\n",
      "  Loaded tech_cat_translated.csv as dfs['tech_cat']\n",
      "  Loaded archaeological_sites.csv as dfs['archaeological_sites']\n",
      "  Loaded traditional_designation.csv as dfs['traditional_designation']\n",
      "  Loaded historical_period.csv as dfs['historical_period']\n",
      "  Loaded tech_cat_color_attrib.csv as dfs['tech_cat_color_attrib']\n",
      "  Loaded tech_cat_feature_attrib.csv as dfs['tech_cat_feature_attrib']\n",
      "  Loaded tech_cat_function_attrib.csv as dfs['tech_cat_function_attrib']\n",
      "  Loaded relations_type.csv as dfs['relations_type']\n",
      "  Loaded relations.csv as dfs['relations']\n",
      "  Loaded context_type_list.csv as dfs['context_type_list']\n",
      "  Loaded object_data_source.csv as dfs['object_data_source']\n",
      "  Loaded category_hierarchy_combined_names.csv as dfs['category_hierarchy_combined_names']\n",
      "  Loaded Features_Ontology_PF_translated.csv as dfs['Features_Ontology']\n",
      "\n",
      "--- Testing create_mlp_input_data ---\n",
      "\n",
      "--- Testing create_mlp_input_data ---\n",
      "\n",
      "--- Testing MLP Data Creation: Study 'etude1', Embedding Type 1 (Functions + Features) ---\n",
      "Preparing data for MLP Classifier...\n",
      "Study configuration: etude1\n",
      "Embedding type: 0\n",
      "Embedding strategy: Ceramic attributes only (origin, color, context, source, reuse, production_fail)\n",
      "  Root categories found (IDs): [140, 135, 144, 132, 137]\n",
      "  Total categorized ceramics before sampling: 8697\n",
      "  Original class distribution:\n",
      "    Class 132 (Categories with transparent glazes on slip): 1396 ceramics\n",
      "    Class 135 (Categories with transparent glazes): 913 ceramics\n",
      "    Class 137 (Unglazed categories (literally: Categories without vitreous coating)): 5301 ceramics\n",
      "    Class 140 (Categories in artificial fabrics): 138 ceramics\n",
      "    Class 144 (Categories with opaque or opacified coating): 949 ceramics\n",
      "  Minimum class: 140 with 138 ceramics\n",
      "  Applying etude1 strategy: 138 ceramics per class\n",
      "  Final class distribution after etude1 sampling:\n",
      "    Class 132 (Categories with transparent glazes on slip): 138 ceramics\n",
      "    Class 135 (Categories with transparent glazes): 138 ceramics\n",
      "    Class 137 (Unglazed categories (literally: Categories without vitreous coating)): 138 ceramics\n",
      "    Class 140 (Categories in artificial fabrics): 138 ceramics\n",
      "    Class 144 (Categories with opaque or opacified coating): 138 ceramics\n",
      "  Total ceramics after etude1 sampling: 690\n",
      "  Generating ceramic attribute embeddings...\n",
      "    Attribute map sizes: origin=39, color=11, context=3, source=4\n",
      "    Ceramic attribute embedding generated. Length: 61\n",
      "    Breakdown: origin(39) + color(11) + context(3) + source(4) + reuse(2) + prod_fail(2)\n",
      "  Final MLP embedding generated. Length: 61\n",
      "\n",
      "  Final MLP data shapes:\n",
      "    X shape: (690, 61)\n",
      "    y shape: (690,)\n",
      "    Unique labels: [132 135 137 140 144]\n",
      "  MLP data saved to: c:\\Users\\moham\\OneDrive\\Desktop\\spiridon\\Spiridon\\output\\mlp_classification_data\\etude1_type0\n",
      "  Study configuration saved as study_config.json\n",
      "\n",
      "Data for etude1, type 1:\n",
      "  X_mlp shape: (690, 61)\n",
      "  y_mlp shape: (690,)\n",
      "  Number of unique labels: 5\n",
      "  Embedding info: {'origin_dim': 39, 'color_dim': 11, 'context_dim': 3, 'source_dim': 4, 'reuse_dim': 2, 'production_fail_dim': 2, 'total_dim': 61}\n",
      "\n",
      "--- Verifying embedding for a specific test ceramic (if present in the sample) ---\n",
      "  Example MLP Embedding (first ceramic in etude1, type 1 sample):\n",
      "    Length: 61\n",
      "    Embedding (first 20 values): [0 0 0 0 0 0 0 1 0 0 0 0 0 0 0 0 0 0 0 0 0 0 0 0 0 0 0 0 0 0 0 0 0 0 0 0 0\n",
      " 0 0 0 1 0 0 0 0 0 0 0 0 0 1 0 0 1 0 0 0 1 0 1 0]\n",
      "    Corresponding label: 132 (Categories with transparent glazes on slip)\n"
     ]
    }
   ],
   "source": [
    "dfs_raw = load_all_dataframes(data_base_path=LOCAL_DATA_PATH_TEST)\n",
    "dfs_raw['ceramic_summary'] = ceramic_summary_df\n",
    "\n",
    "print(\"\\n--- Testing create_mlp_input_data ---\")\n",
    "\n",
    "dfs_for_mlp_test = dfs_raw.copy()\n",
    "\n",
    "print(\"\\n--- Testing create_mlp_input_data ---\")\n",
    "if 'ceramic_summary' not in dfs_for_mlp_test or dfs_for_mlp_test['ceramic_summary'].empty:\n",
    "    if 'ceramic_summary_df' in locals() and not ceramic_summary_df.empty:\n",
    "        dfs_for_mlp_test['ceramic_summary'] = ceramic_summary_df\n",
    "    else:\n",
    "        print(\"ERROR: ceramic_summary_df not available for MLP data creation test.\")\n",
    "\n",
    "# --- Test with Embedding Type 1 (Functions + Features) for 'etude1' sampling ---\n",
    "print(\"\\n--- Testing MLP Data Creation: Study 'etude1', Embedding Type 1 (Functions + Features) ---\")\n",
    "X_mlp_e1_t1, y_mlp_e1_t1, root_names_e1_t1, maps_e1_t1, emb_info_e1_t1 = create_mlp_input_data(\n",
    "    dfs_for_mlp_test,\n",
    "    study_name=\"etude1\",\n",
    "    embedding_type=0\n",
    ")\n",
    "\n",
    "if X_mlp_e1_t1 is not None:\n",
    "    print(f\"\\nData for etude1, type 1:\")\n",
    "    print(f\"  X_mlp shape: {X_mlp_e1_t1.shape}\")\n",
    "    print(f\"  y_mlp shape: {y_mlp_e1_t1.shape}\")\n",
    "    print(f\"  Number of unique labels: {len(np.unique(y_mlp_e1_t1))}\")\n",
    "    print(f\"  Embedding info: {emb_info_e1_t1}\")\n",
    "\n",
    "    print(\"\\n--- Verifying embedding for a specific test ceramic (if present in the sample) ---\")\n",
    "    if X_mlp_e1_t1.shape[0] > 0:\n",
    "        print(f\"  Example MLP Embedding (first ceramic in etude1, type 1 sample):\")\n",
    "        print(f\"    Length: {len(X_mlp_e1_t1[2])}\")\n",
    "        \n",
    "        print(f\"    Embedding (first 20 values): {X_mlp_e1_t1[2]}\")\n",
    "      #  print(f\"    Embedding (Functions): {X_mlp_e1_t1[2][:181]}\")\n",
    "      #  print(f\"    Embedding (Features): {X_mlp_e1_t1[2][181:]}\")\n",
    "        print(f\"    Corresponding label: {y_mlp_e1_t1[2]} ({root_names_e1_t1.get(y_mlp_e1_t1[2])})\")\n",
    "else:\n",
    "    print(\"MLP data creation for etude1, type 1 failed.\")"
   ]
  },
  {
   "cell_type": "markdown",
   "metadata": {},
   "source": [
    "## 3. RGCN DATA (Bert Embedding)"
   ]
  },
  {
   "cell_type": "markdown",
   "metadata": {},
   "source": [
    "### 3.A Triplets Extraction"
   ]
  },
  {
   "cell_type": "code",
   "execution_count": 4,
   "metadata": {},
   "outputs": [
    {
     "name": "stdout",
     "output_type": "stream",
     "text": [
      "\n",
      "Ceramic 48:\n",
      "  Functions: [11] (type: <class 'list'>)\n",
      "  Features: [3, 16, 41, 49] (type: <class 'list'>)\n",
      "\n",
      "Ceramic 49:\n",
      "  Functions: [11] (type: <class 'list'>)\n",
      "  Features: [3, 19, 41, 49] (type: <class 'list'>)\n",
      "\n",
      "Ceramic 10601:\n",
      "  Functions: [21] (type: <class 'list'>)\n",
      "  Features: [3, 19, 41, 49] (type: <class 'list'>)\n",
      "\n",
      "--- Triplet Extraction with Fixed Data ---\n",
      "Extracting triplets for 3 selected ceramics (handling lists)...\n"
     ]
    },
    {
     "name": "stderr",
     "output_type": "stream",
     "text": [
      "c:\\Users\\moham\\OneDrive\\Desktop\\spiridon\\Spiridon\\src\\graph_utils.py:242: FutureWarning: errors='ignore' is deprecated and will raise in a future version. Use to_numeric without passing `errors` and catch exceptions explicitly instead\n",
      "  new_col_values.append([pd.to_numeric(i, errors='ignore') for i in item])\n"
     ]
    },
    {
     "name": "stdout",
     "output_type": "stream",
     "text": [
      "Finished extraction for selection. Got results structure for 3 ceramics.\n",
      "\n",
      "Triplets extracted successfully!\n",
      "\n",
      "Ceramic ID: 48\n",
      "  Categories: [-1]\n",
      "  Functions: [(11, [10, 1])]\n",
      "  Features: [('3', ['2', '1']), ('16', ['15', '14']), ('41', ['40', '35']), ('49', ['48', '47'])]\n",
      "\n",
      "Ceramic ID: 49\n",
      "  Categories: [1, 76, 135]\n",
      "  Functions: [(11, [10, 1])]\n",
      "  Features: [('3', ['2', '1']), ('19', ['15', '14']), ('41', ['40', '35']), ('49', ['48', '47'])]\n",
      "\n",
      "Ceramic ID: 10601\n",
      "  Categories: [94, 76, 135]\n",
      "  Functions: [(21, [19, 1])]\n",
      "  Features: [('3', ['2', '1']), ('19', ['15', '14']), ('41', ['40', '35']), ('49', ['48', '47'])]\n"
     ]
    }
   ],
   "source": [
    "import ast\n",
    "import re\n",
    "import numpy as np\n",
    "\n",
    "# Function to safely parse list-like strings containing numpy types\n",
    "def parse_numpy_list_string(list_str):\n",
    "    \"\"\"\n",
    "    Parse strings like '[np.int64(11)]' or '[np.int64(3), np.int64(16)]' \n",
    "    into Python lists of integers.\n",
    "    \"\"\"\n",
    "    if pd.isna(list_str) or list_str == '[]':\n",
    "        return []\n",
    "    \n",
    "    if isinstance(list_str, list):\n",
    "        return list_str  # Already a list\n",
    "    \n",
    "    if isinstance(list_str, str):\n",
    "        # Remove numpy type wrappers: np.int64(X) -> X\n",
    "        cleaned = re.sub(r'np\\.int64\\((\\d+)\\)', r'\\1', list_str)\n",
    "        \n",
    "        try:\n",
    "            # Try to evaluate as Python literal\n",
    "            parsed = ast.literal_eval(cleaned)\n",
    "            if isinstance(parsed, list):\n",
    "                return [int(x) for x in parsed]\n",
    "            else:\n",
    "                return [int(parsed)]\n",
    "        except (ValueError, SyntaxError):\n",
    "            # Fallback: extract numbers using regex\n",
    "            numbers = re.findall(r'\\d+', str(list_str))\n",
    "            return [int(x) for x in numbers]\n",
    "    \n",
    "    return []\n",
    "\n",
    "# Create a copy and fix the list columns\n",
    "ceramic_summary_fixed = ceramic_summary_df.copy()\n",
    "ceramic_summary_fixed['function_id'] = ceramic_summary_fixed['function_id'].apply(parse_numpy_list_string)\n",
    "ceramic_summary_fixed['feature_id'] = ceramic_summary_fixed['feature_id'].apply(parse_numpy_list_string)\n",
    "\n",
    "\n",
    "\n",
    "# Verify the fix worked for our test ceramics\n",
    "for ceramic_id in TEST_CERAMIC_IDS_ORIGINAL:\n",
    "    row = ceramic_summary_fixed[ceramic_summary_fixed['ceramic_id'] == ceramic_id]\n",
    "    if not row.empty:\n",
    "        print(f\"\\nCeramic {ceramic_id}:\")\n",
    "        print(f\"  Functions: {row['function_id'].iloc[0]} (type: {type(row['function_id'].iloc[0])})\")\n",
    "        print(f\"  Features: {row['feature_id'].iloc[0]} (type: {type(row['feature_id'].iloc[0])})\")\n",
    "\n",
    "# Now retry the triplet extraction with the fixed data\n",
    "print(\"\\n--- Triplet Extraction with Fixed Data ---\")\n",
    "dfs_for_triplets_fixed = {\n",
    "    'ceramic_summary': ceramic_summary_fixed,  # Use the fixed version\n",
    "    'tech_cat': dfs_raw['tech_cat'],\n",
    "    'object_function': dfs_raw['object_function'],\n",
    "    'Features_Ontology': dfs_raw['Features_Ontology']\n",
    "}\n",
    "\n",
    "triplets_for_test_ceramics = extract_triplets_for_selection(TEST_CERAMIC_IDS_ORIGINAL, dfs_for_triplets_fixed)\n",
    "\n",
    "if triplets_for_test_ceramics:\n",
    "    print(\"\\nTriplets extracted successfully!\")\n",
    "    for entry in triplets_for_test_ceramics:\n",
    "        if entry['ceramic_id'] in TEST_CERAMIC_IDS_ORIGINAL:\n",
    "            print(f\"\\nCeramic ID: {entry['ceramic_id']}\")\n",
    "            print(f\"  Categories: {[cat['category_id'] for cat in entry['categories']]}\")\n",
    "            print(f\"  Functions: {entry['functions']}\")\n",
    "            print(f\"  Features: {entry['features']}\")\n",
    "else:\n",
    "    print(\"  Triplet extraction still failed.\")"
   ]
  },
  {
   "cell_type": "markdown",
   "metadata": {},
   "source": [
    "### 3.B Embedding Generation and Relations "
   ]
  },
  {
   "cell_type": "code",
   "execution_count": 5,
   "metadata": {},
   "outputs": [
    {
     "name": "stdout",
     "output_type": "stream",
     "text": [
      "\n",
      "--- Formatting RGCN Data for Link Prediction (Test Sample with BERT for Ceramics) ---\n",
      "  Formatting test_study_link_pred data for RGCN with ALL-BERT Embeddings (BERT: paraphrase-multilingual-mpnet-base-v2)...\n",
      "    Using device: cpu\n"
     ]
    },
    {
     "name": "stderr",
     "output_type": "stream",
     "text": [
      "c:\\ProgramData\\miniconda3\\Lib\\site-packages\\tqdm\\auto.py:21: TqdmWarning: IProgress not found. Please update jupyter and ipywidgets. See https://ipywidgets.readthedocs.io/en/stable/user_install.html\n",
      "  from .autonotebook import tqdm as notebook_tqdm\n"
     ]
    },
    {
     "name": "stdout",
     "output_type": "stream",
     "text": [
      "    Loaded Sentence-BERT model 'paraphrase-multilingual-mpnet-base-v2' (Native Dim: 768)\n",
      "    Building category hierarchy to get root mapping (using original category IDs)...\n",
      "    Obtained mapping for 229 original categories to their original root IDs.\n",
      "    Identifying all unique nodes in the sampled data (Ceramics, Functions, Features, and ONLY ROOT Categories)...\n",
      "    Found 26 unique node identifiers in the sample (ceramics, functions, features, and ROOT categories).\n",
      "    Assigning graph indices and generating ALL-BERT embeddings...\n",
      "    ALL-BERT Embeddings - Generated: 26, Failed/Missing Text: 0\n",
      "\n",
      "    --- Node Type Examples with BERT Embeddings ---\n",
      "    Ceramic Node Example:\n",
      "      Node ID: Ceramic_10601\n",
      "      Text: 'A Ceramic ceramic from the consumption in Hôtel d'Agar.'\n",
      "      Embedding (first 5 dims): [ 0.10687211 -0.12885433 -0.01231622  0.12119691 -0.04013303]\n",
      "\n",
      "    Function Node Example:\n",
      "      Node ID: Func_1\n",
      "      Text: 'dishware (or tableware)'\n",
      "      Embedding (first 5 dims): [ 0.0166124  -0.11477309 -0.00935472 -0.12030761 -0.0673581 ]\n",
      "\n",
      "    Category Node Example:\n",
      "      Node ID: Cat_132_Root_132\n",
      "      Text: 'Categories with transparent glazes on slip'\n",
      "      Embedding (first 5 dims): [ 0.04153645 -0.07711426 -0.01183737  0.10898539  0.06632965]\n",
      "\n",
      "    Feature Node Example:\n",
      "      Node ID: Feat_1\n",
      "      Text: 'Forming/Shaping'\n",
      "      Embedding (first 5 dims): [-0.15521666 -0.25642768 -0.01476311  0.05541804  0.01365412]\n",
      "\n",
      "    --- End Node Type Examples ---\n",
      "\n",
      "    Populated final ALL-BERT embedding matrix with shape (26 nodes, 768 dim). 26 nodes have non-zero embeddings.\n",
      "    Identifying root category node indices in the final graph map (all 'Cat_' nodes are roots)...\n",
      "    Identified 5 unique root category nodes in the graph's node_to_idx map.\n",
      "    Created cat_idx_to_root_idx_map with 5 entries (each root maps to itself).\n",
      "    Processing triplets using pre-assigned graph indices...\n",
      "    Added 0 RootCat->Function and 1 RootCat->Feature triplets (direct connections only).\n",
      "    Removed 17 duplicate training triplets.\n",
      "    Removed 0 duplicate evaluation triplets (Ceramic->RootCat).\n",
      "\n",
      "    --- RGCN Data Summary (Hybrid Embeddings with PCA) ---\n",
      "    Study: test_study_link_pred\n",
      "    BERT Model for Non-Ceramics: paraphrase-multilingual-mpnet-base-v2 (Native Dim: 768)\n",
      "    Ceramic Embeddings Source: OHE from 'Embedding' column (Expected Dim: 768)\n",
      "    Final Hybrid Embedding Dimension: 768\n",
      "    Total Nodes in Graph: 26\n",
      "    Nodes with Non-Zero Embedding in Final Matrix: 26\n",
      "    Total Relation Types in Graph: 7\n",
      "    Training Triplets (for GNN structure): 29\n",
      "    Evaluation Triplets (Ceramic->RootCat, for BTC task): 2\n",
      "    Number of Root Category Nodes in Graph (for neg. sampling): 5\n",
      "    --- End Summary ---\n",
      "\n",
      "RGCN Data Formatted (sample stats):\n",
      "  Num Nodes: 26\n",
      "  Num Relations: 7\n",
      "  Embedding Dim: 768\n",
      "  Training Triplets: 29\n",
      "  Evaluation Triplets (Ceramic->RootCat): 2\n",
      "  Embedding for Ceramic_48 (idx 6, first 5 values): [-0.0198269  -0.13833101 -0.01217625  0.14767088 -0.03060706]\n",
      "  Is embedding for Ceramic_48 all zeros? False\n"
     ]
    }
   ],
   "source": [
    "print(\"\\n--- Formatting RGCN Data for Link Prediction (Test Sample with BERT for Ceramics) ---\")\n",
    "dfs_for_rgcn_format = dfs_raw.copy() \n",
    "dfs_for_rgcn_format['ceramic_summary'] = ceramic_summary_df \n",
    "\n",
    "if triplets_for_test_ceramics:\n",
    "    rgcn_data_test = format_rgcn_data_with_hybrid_embeddings(\n",
    "        dfs=dfs_for_rgcn_format,\n",
    "        triplets_for_study=triplets_for_test_ceramics, \n",
    "        study_name=\"test_study_link_pred\"\n",
    "    )\n",
    "\n",
    "    if rgcn_data_test:\n",
    "        print(\"\\nRGCN Data Formatted (sample stats):\")\n",
    "        print(f\"  Num Nodes: {rgcn_data_test['num_nodes']}\")\n",
    "        print(f\"  Num Relations: {rgcn_data_test['num_relations']}\")\n",
    "        print(f\"  Embedding Dim: {rgcn_data_test['embedding_dim']}\")\n",
    "        print(f\"  Training Triplets: {len(rgcn_data_test['training_triplets'])}\")\n",
    "        print(f\"  Evaluation Triplets (Ceramic->RootCat): {len(rgcn_data_test['evaluation_triplets'])}\")\n",
    "        \n",
    "        # Check embeddings for one of our test ceramics\n",
    "        test_ceramic_graph_id_str = f\"Ceramic_{TEST_CERAMIC_IDS_ORIGINAL[0]}\"\n",
    "        if test_ceramic_graph_id_str in rgcn_data_test['node_to_idx']:\n",
    "            idx = rgcn_data_test['node_to_idx'][test_ceramic_graph_id_str]\n",
    "            print(f\"  Embedding for {test_ceramic_graph_id_str} (idx {idx}, first 5 values): {rgcn_data_test['node_embeddings'][idx][:5]}\")\n",
    "            is_zero = np.all(rgcn_data_test['node_embeddings'][idx] == 0)\n",
    "            print(f\"  Is embedding for {test_ceramic_graph_id_str} all zeros? {is_zero}\")\n",
    "    else:\n",
    "        print(\"  RGCN data formatting failed.\")\n",
    "else:\n",
    "    print(\"  Skipping RGCN data formatting as triplet extraction failed.\")"
   ]
  },
  {
   "cell_type": "markdown",
   "metadata": {},
   "source": [
    "### 3.C Reformat For Classification Task"
   ]
  },
  {
   "cell_type": "code",
   "execution_count": 6,
   "metadata": {},
   "outputs": [
    {
     "name": "stdout",
     "output_type": "stream",
     "text": [
      "\n",
      "--- Adapting RGCN Data for Classification (Test Sample) ---\n",
      "\n",
      "--- Adapting RGCN Data for Ceramic Classification (Root Labels) ---\n",
      "  Original nodes: 26\n",
      "  Nodes kept for classification: 26\n",
      "  Extracting root category labels from 31 available triplets...\n",
      "  Looking for relation ID 0 ('BELONGS_TO_CATEGORY')\n",
      "  Extracted labels for 2 ceramic nodes. Found 1 unique root labels.\n",
      "  Label mapping (1 labels):\n",
      "    Label 0: 'Categories with transparent glazes' (Original Root ID: 135, 2 ceramics)\n",
      "  Identified 3 ceramic nodes in the new mapping for classification.\n",
      "\n",
      "--- Adaptation for Classification Complete ---\n",
      "  Final ceramic nodes with labels: 2\n",
      "  Total classes: 1\n",
      "\n",
      "Classification Data Adapted (sample stats):\n",
      "  Num Nodes (for classifier graph): 26\n",
      "  Num Classes: 1\n",
      "  Ceramic Labels (first 5): {5: 0, 7: 0}\n",
      "  Label to Category Name: {0: 'Categories with transparent glazes'}\n",
      "  Ceramic_48 (new_idx 6) not found in ceramic_labels.\n"
     ]
    }
   ],
   "source": [
    "print(\"\\n--- Adapting RGCN Data for Classification (Test Sample) ---\")\n",
    "if rgcn_data_test: \n",
    "    classification_data_test = adapt_rgcn_data_for_ceramic_classification(rgcn_data_test, dfs_raw)\n",
    "    \n",
    "    if classification_data_test:\n",
    "        print(\"\\nClassification Data Adapted (sample stats):\")\n",
    "        print(f\"  Num Nodes (for classifier graph): {classification_data_test['num_nodes']}\")\n",
    "        print(f\"  Num Classes: {classification_data_test['stats']['classification_num_classes']}\")\n",
    "        print(f\"  Ceramic Labels (first 5): {dict(list(classification_data_test['ceramic_labels'].items())[:5])}\")\n",
    "        print(f\"  Label to Category Name: {classification_data_test['label_to_category_name']}\")\n",
    "\n",
    "        original_ceramic_id_for_label_check = TEST_CERAMIC_IDS_ORIGINAL[0]\n",
    "        ceramic_identifier_for_label_check = f\"Ceramic_{original_ceramic_id_for_label_check}\"\n",
    "        \n",
    "        if ceramic_identifier_for_label_check in classification_data_test['node_to_idx']:\n",
    "            new_ceramic_idx_clf = classification_data_test['node_to_idx'][ceramic_identifier_for_label_check]\n",
    "            if new_ceramic_idx_clf in classification_data_test['ceramic_labels']:\n",
    "                label_id = classification_data_test['ceramic_labels'][new_ceramic_idx_clf]\n",
    "                label_name = classification_data_test['label_to_category_name'].get(label_id)\n",
    "                print(f\"  Label for {ceramic_identifier_for_label_check} (new_idx {new_ceramic_idx_clf}): Label ID {label_id} ({label_name})\")\n",
    "            else:\n",
    "                print(f\"  {ceramic_identifier_for_label_check} (new_idx {new_ceramic_idx_clf}) not found in ceramic_labels.\")\n",
    "        else:\n",
    "            print(f\"  {ceramic_identifier_for_label_check} not found in node_to_idx of classification data.\")\n",
    "    else:\n",
    "        print(\"  Classification data adaptation failed.\")\n",
    "else:\n",
    "    print(\"  Skipping classification data adaptation as RGCN data formatting failed.\")"
   ]
  },
  {
   "cell_type": "markdown",
   "metadata": {},
   "source": [
    "## 4. Training Functions Test"
   ]
  },
  {
   "cell_type": "markdown",
   "metadata": {},
   "source": [
    "### 4.1 MLP\n",
    "#### 4.1.1 MLP with Embedding  Type 0: Ceramic attributes only"
   ]
  },
  {
   "cell_type": "code",
   "execution_count": 14,
   "metadata": {},
   "outputs": [
    {
     "name": "stdout",
     "output_type": "stream",
     "text": [
      "\n",
      "--- Testing MLP Training and Evaluation Pipeline ---\n",
      "NOTE: This test uses the full data loaded in previous steps to train the model.\n",
      "\n",
      "Running MLP classification for study: 'etude2' with embedding type: 0\n",
      "\n",
      "============================================================\n",
      "STARTING MLP CLASSIFICATION SCENARIOS FOR: etude2\n",
      "============================================================\n",
      "\n",
      "Preparing MLP input data with multi-label encoding...\n",
      "Preparing data for MLP Classifier...\n",
      "Study configuration: etude2\n",
      "Embedding type: 0\n",
      "Embedding strategy: Ceramic attributes only (origin, color, context, source, reuse, production_fail)\n",
      "  Root categories found (IDs): [140, 135, 144, 132, 137]\n",
      "  Total categorized ceramics before sampling: 8697\n",
      "  Original class distribution:\n",
      "    Class 132 (Categories with transparent glazes on slip): 1396 ceramics\n",
      "    Class 135 (Categories with transparent glazes): 913 ceramics\n",
      "    Class 137 (Unglazed categories (literally: Categories without vitreous coating)): 5301 ceramics\n",
      "    Class 140 (Categories in artificial fabrics): 138 ceramics\n",
      "    Class 144 (Categories with opaque or opacified coating): 949 ceramics\n",
      "  Minimum class: 140 with 138 ceramics\n",
      "  Applying etude2 strategy: Remove minimum class (140), sample 950 from remaining classes\n",
      "  Remaining classes after removing minimum:\n",
      "    Class 132 (Categories with transparent glazes on slip): 1396 ceramics\n",
      "    Class 135 (Categories with transparent glazes): 913 ceramics\n",
      "    Class 137 (Unglazed categories (literally: Categories without vitreous coating)): 5301 ceramics\n",
      "    Class 144 (Categories with opaque or opacified coating): 949 ceramics\n",
      "    WARNING: Class 135 has only 913 ceramics, less than target 950\n",
      "    WARNING: Class 144 has only 949 ceramics, less than target 950\n",
      "  Final class distribution after etude2 sampling:\n",
      "    Class 132 (Categories with transparent glazes on slip): 950 ceramics\n",
      "    Class 135 (Categories with transparent glazes): 913 ceramics\n",
      "    Class 137 (Unglazed categories (literally: Categories without vitreous coating)): 950 ceramics\n",
      "    Class 144 (Categories with opaque or opacified coating): 949 ceramics\n",
      "  Total ceramics after etude2 sampling: 3762\n",
      "  Generating ceramic attribute embeddings...\n",
      "    Attribute map sizes: origin=55, color=12, context=3, source=4\n",
      "    Ceramic attribute embedding generated. Length: 78\n",
      "    Breakdown: origin(55) + color(12) + context(3) + source(4) + reuse(2) + prod_fail(2)\n",
      "  Final MLP embedding generated. Length: 78\n",
      "\n",
      "  Final MLP data shapes:\n",
      "    X shape: (3762, 78)\n",
      "    y shape: (3762,)\n",
      "    Unique labels: [132 135 137 144]\n",
      "  MLP data saved to: c:\\Users\\moham\\OneDrive\\Desktop\\spiridon\\Spiridon\\output\\mlp_classification_data\\etude2_type0\n",
      "  Study configuration saved as study_config.json\n",
      "Data prepared successfully:\n",
      "  X shape: (3762, 78)\n",
      "  y shape: (3762,)\n",
      "  Unique classes: 4\n",
      "Train/Test split completed:\n",
      "  Training samples: 3197\n",
      "  Test samples: 565\n",
      "\n",
      "==================================================\n",
      "RUNNING SCENARIO: baseline_architecture\n",
      "Architecture: (256, 128)\n",
      "==================================================\n",
      "\n",
      "==================================================\n",
      "SCENARIO: etude2_baseline_architecture - MLP Classifier\n",
      "==================================================\n",
      "Training samples: 3197\n",
      "Test samples: 565\n",
      "Input features: 78\n",
      "Number of classes (train): 4\n",
      "Number of classes (test): 4\n",
      "Training distribution: Counter({np.int64(144): 807, np.int64(137): 807, np.int64(132): 807, np.int64(135): 776})\n",
      "Test distribution: Counter({np.int64(132): 143, np.int64(137): 143, np.int64(144): 142, np.int64(135): 137})\n",
      "\n",
      "Neural Network Architecture:\n",
      "Input layer: 78 features\n",
      "Hidden layers: (256, 128)\n",
      "Output layer: 4 neurons (softmax)\n",
      "\n",
      "Training MLP model...\n",
      "\n",
      "==============================\n",
      "TRAINING METRICS:\n",
      "==============================\n",
      "Training accuracy: 0.8449\n",
      "Test accuracy: 0.8142\n",
      "\n",
      "==============================\n",
      "DETAILED CLASSIFICATION REPORT:\n",
      "==============================\n",
      "                                                                      precision    recall  f1-score   support\n",
      "\n",
      "                          Categories with transparent glazes on slip       0.67      0.87      0.76       143\n",
      "                                  Categories with transparent glazes       0.76      0.72      0.74       137\n",
      "Unglazed categories (literally: Categories without vitreous coating)       0.98      0.87      0.92       143\n",
      "                         Categories with opaque or opacified coating       0.93      0.79      0.85       142\n",
      "\n",
      "                                                            accuracy                           0.81       565\n",
      "                                                           macro avg       0.83      0.81      0.82       565\n",
      "                                                        weighted avg       0.83      0.81      0.82       565\n",
      "\n",
      "\n",
      "==============================\n",
      "PERFORMANCE BY ROOT CATEGORY:\n",
      "==============================\n",
      "Categories with transparent glazes on slip (ID: 132): 0.8741 accuracy (143 samples)\n",
      "Categories with transparent glazes (ID: 135): 0.7226 accuracy (137 samples)\n",
      "Unglazed categories (literally: Categories without vitreous coating) (ID: 137): 0.8671 accuracy (143 samples)\n",
      "Categories with opaque or opacified coating (ID: 144): 0.7887 accuracy (142 samples)\n",
      "\n",
      "==============================\n",
      "CONFUSION MATRIX:\n",
      "==============================\n",
      "Rows: True labels, Columns: Predicted labels\n",
      "                                                                      Categories with transparent glazes on slip  \\\n",
      "Categories with transparent glazes on slip                                                                   125   \n",
      "Categories with transparent glazes                                                                            36   \n",
      "Unglazed categories (literally: Categories without vitreous coating)                                           8   \n",
      "Categories with opaque or opacified coating                                                                   18   \n",
      "\n",
      "                                                                      Categories with transparent glazes  \\\n",
      "Categories with transparent glazes on slip                                                            15   \n",
      "Categories with transparent glazes                                                                    99   \n",
      "Unglazed categories (literally: Categories without vitreous coating)                                   7   \n",
      "Categories with opaque or opacified coating                                                           10   \n",
      "\n",
      "                                                                      Unglazed categories (literally: Categories without vitreous coating)  \\\n",
      "Categories with transparent glazes on slip                                                                                               0   \n",
      "Categories with transparent glazes                                                                                                       1   \n",
      "Unglazed categories (literally: Categories without vitreous coating)                                                                   124   \n",
      "Categories with opaque or opacified coating                                                                                              2   \n",
      "\n",
      "                                                                      Categories with opaque or opacified coating  \n",
      "Categories with transparent glazes on slip                                                                      3  \n",
      "Categories with transparent glazes                                                                              1  \n",
      "Unglazed categories (literally: Categories without vitreous coating)                                            4  \n",
      "Categories with opaque or opacified coating                                                                   112  \n",
      "Generating plots for baseline_architecture...\n",
      "  Saved MLP training history plot to c:\\Users\\moham\\OneDrive\\Desktop\\spiridon\\Spiridon\\output\\mlp_classification_results\\etude2\\baseline_architecture\\etude2_baseline_architecture_training_history.png\n",
      "Model and results saved to: c:\\Users\\moham\\OneDrive\\Desktop\\spiridon\\Spiridon\\output\\mlp_classification_results\\etude2\\baseline_architecture\n",
      "Test Accuracy for baseline_architecture: 0.8142\n",
      "\n",
      "--- MLP Training Test Complete ---\n",
      "Summary of results:\n",
      "  ✓ Scenario 'baseline_architecture' | Test Accuracy: 0.8142\n",
      "\n",
      "Models, scalers, and metadata saved in subdirectories of: c:\\Users\\moham\\OneDrive\\Desktop\\spiridon\\Spiridon\\output\\mlp_classification_results\\etude2\n"
     ]
    }
   ],
   "source": [
    "# Import the main function for MLP classification\n",
    "from src.main_mlp_classification import run_mlp_classification_scenarios\n",
    "\n",
    "print(\"\\n--- Testing MLP Training and Evaluation Pipeline ---\")\n",
    "print(\"NOTE: This test uses the full data loaded in previous steps to train the model.\")\n",
    "\n",
    "STUDY_NAME_MLP = \"etude2\"\n",
    "# Type 0: Ceramic attributes only | Type 1: Functions/Features only | Type 2: Combined\n",
    "EMBEDDING_TYPE_MLP = 0\n",
    "\n",
    "print(f\"\\nRunning MLP classification for study: '{STUDY_NAME_MLP}' with embedding type: {EMBEDDING_TYPE_MLP}\")\n",
    "\n",
    "mlp_test_results = run_mlp_classification_scenarios(\n",
    "    dfs=dfs_raw,\n",
    "    study_name=STUDY_NAME_MLP,\n",
    "    embedding_type=EMBEDDING_TYPE_MLP\n",
    ")\n",
    "\n",
    "print(\"\\n--- MLP Training Test Complete ---\")\n",
    "if mlp_test_results:\n",
    "    print(\"Summary of results:\")\n",
    "    for scenario, accuracy in mlp_test_results.items():\n",
    "        if accuracy is not None:\n",
    "            print(f\"  ✓ Scenario '{scenario}' | Test Accuracy: {accuracy:.4f}\")\n",
    "        else:\n",
    "            print(f\"  ✗ Scenario '{scenario}' failed.\")\n",
    "    output_dir = os.path.join(config.OUTPUT_BASE_DIR, 'mlp_classification_results', STUDY_NAME_MLP)\n",
    "    print(f\"\\nModels, scalers, and metadata saved in subdirectories of: {output_dir}\")\n",
    "else:\n",
    "    print(\"MLP training scenarios did not produce any results.\")"
   ]
  },
  {
   "cell_type": "markdown",
   "metadata": {},
   "source": [
    "#### 4.1.2 MLP with Embedding Type 1: Functions/Features only"
   ]
  },
  {
   "cell_type": "code",
   "execution_count": 13,
   "metadata": {},
   "outputs": [
    {
     "name": "stdout",
     "output_type": "stream",
     "text": [
      "\n",
      "--- Testing MLP Training and Evaluation Pipeline ---\n",
      "NOTE: This test uses the full data loaded in previous steps to train the model.\n",
      "\n",
      "Running MLP classification for study: 'etude2' with embedding type: 1\n",
      "\n",
      "============================================================\n",
      "STARTING MLP CLASSIFICATION SCENARIOS FOR: etude2\n",
      "============================================================\n",
      "\n",
      "Preparing MLP input data with multi-label encoding...\n",
      "Preparing data for MLP Classifier...\n",
      "Study configuration: etude2\n",
      "Embedding type: 1\n",
      "Embedding strategy: Functions + Features multi-label one-hot encoding\n",
      "  Root categories found (IDs): [140, 135, 144, 132, 137]\n",
      "Epoch 1:   5%|▌         | 4/80 [17:20<5:29:33,  0.00it/s, v_num=6, val_loss=5.820, val_acc=0.000, val_f1=0.000, train_loss=0.507, train_acc=0.813, train_f1=0.813]\n",
      "Epoch 3:  31%|███▏      | 5/16 [15:33<34:13,  0.01it/s, v_num=0, val_loss=0.403, val_acc=1.000, val_f1=1.000, train_loss=0.176, train_acc=0.957, train_f1=0.956]\n",
      "  Total categorized ceramics before sampling: 8697\n",
      "  Original class distribution:\n",
      "    Class 132 (Categories with transparent glazes on slip): 1396 ceramics\n",
      "    Class 135 (Categories with transparent glazes): 913 ceramics\n",
      "    Class 137 (Unglazed categories (literally: Categories without vitreous coating)): 5301 ceramics\n",
      "    Class 140 (Categories in artificial fabrics): 138 ceramics\n",
      "    Class 144 (Categories with opaque or opacified coating): 949 ceramics\n",
      "  Minimum class: 140 with 138 ceramics\n",
      "  Applying etude2 strategy: Remove minimum class (140), sample 950 from remaining classes\n",
      "  Remaining classes after removing minimum:\n",
      "    Class 132 (Categories with transparent glazes on slip): 1396 ceramics\n",
      "    Class 135 (Categories with transparent glazes): 913 ceramics\n",
      "    Class 137 (Unglazed categories (literally: Categories without vitreous coating)): 5301 ceramics\n",
      "    Class 144 (Categories with opaque or opacified coating): 949 ceramics\n",
      "    WARNING: Class 135 has only 913 ceramics, less than target 950\n",
      "    WARNING: Class 144 has only 949 ceramics, less than target 950\n",
      "  Final class distribution after etude2 sampling:\n",
      "    Class 132 (Categories with transparent glazes on slip): 950 ceramics\n",
      "    Class 135 (Categories with transparent glazes): 913 ceramics\n",
      "    Class 137 (Unglazed categories (literally: Categories without vitreous coating)): 950 ceramics\n",
      "    Class 144 (Categories with opaque or opacified coating): 949 ceramics\n",
      "  Total ceramics after etude2 sampling: 3762\n",
      "  Generating function/feature embeddings...\n",
      "    DataFrame shape: (3762, 17)\n",
      "    Sample function_id: '[np.int64(5)]'\n",
      "    Sample feature_id: '[np.int64(3), np.int64(16), np.int64(41), np.int64(46), np.int64(49)]'\n",
      "    Function embedding length: 181\n",
      "    Available function IDs: [np.int64(1), np.int64(2), np.int64(3), np.int64(4), np.int64(5), np.int64(6), np.int64(7), np.int64(8), np.int64(10), np.int64(11), np.int64(12), np.int64(13), np.int64(14), np.int64(15), np.int64(16), np.int64(17), np.int64(18), np.int64(19), np.int64(20), np.int64(21)]...\n",
      "    Feature embedding length: 105\n",
      "    Available feature IDs: [np.int64(1), np.int64(2), np.int64(3), np.int64(4), np.int64(5), np.int64(6), np.int64(7), np.int64(9), np.int64(10), np.int64(11), np.int64(12), np.int64(13), np.int64(14), np.int64(15), np.int64(16), np.int64(17), np.int64(18), np.int64(19), np.int64(20), np.int64(21)]...\n",
      "    Testing on first 3 rows...\n",
      "      Row 0 function_id parsed: [5]\n",
      "      Row 0 feature_id parsed: [3, 16, 41, 46, 49]\n",
      "      Row 0 embedding sum: 6\n",
      "      Row 1 function_id parsed: [2]\n",
      "      Row 1 feature_id parsed: [3, 18, 41, 46, 49, 59]\n",
      "      Row 1 embedding sum: 7\n",
      "      Row 2 function_id parsed: [3]\n",
      "      Row 2 feature_id parsed: [3, 16, 41, 46, 49]\n",
      "      Row 2 embedding sum: 6\n",
      "    Applying to all rows...\n",
      "    Function/feature embedding generated. Length: 286\n",
      "    Breakdown: functions(181) + features(105)\n",
      "    Embeddings with non-zero values: 3760/3762\n",
      "    SUCCESS: 3760 rows have valid embeddings!\n",
      "  Final MLP embedding generated. Length: 286\n",
      "\n",
      "  Final MLP data shapes:\n",
      "    X shape: (3762, 286)\n",
      "    y shape: (3762,)\n",
      "    Unique labels: [132 135 137 144]\n",
      "  MLP data saved to: c:\\Users\\moham\\OneDrive\\Desktop\\spiridon\\Spiridon\\output\\mlp_classification_data\\etude2_type1\n",
      "  Study configuration saved as study_config.json\n",
      "Data prepared successfully:\n",
      "  X shape: (3762, 286)\n",
      "  y shape: (3762,)\n",
      "  Unique classes: 4\n",
      "Train/Test split completed:\n",
      "  Training samples: 3197\n",
      "  Test samples: 565\n",
      "\n",
      "==================================================\n",
      "RUNNING SCENARIO: baseline_architecture\n",
      "Architecture: (256, 128)\n",
      "==================================================\n",
      "\n",
      "==================================================\n",
      "SCENARIO: etude2_baseline_architecture - MLP Classifier\n",
      "==================================================\n",
      "Training samples: 3197\n",
      "Test samples: 565\n",
      "Input features: 286\n",
      "Number of classes (train): 4\n",
      "Number of classes (test): 4\n",
      "Training distribution: Counter({np.int64(144): 807, np.int64(137): 807, np.int64(132): 807, np.int64(135): 776})\n",
      "Test distribution: Counter({np.int64(132): 143, np.int64(137): 143, np.int64(144): 142, np.int64(135): 137})\n",
      "\n",
      "Neural Network Architecture:\n",
      "Input layer: 286 features\n",
      "Hidden layers: (256, 128)\n",
      "Output layer: 4 neurons (softmax)\n",
      "\n",
      "Training MLP model...\n",
      "\n",
      "==============================\n",
      "TRAINING METRICS:\n",
      "==============================\n",
      "Training accuracy: 0.9571\n",
      "Test accuracy: 0.9540\n",
      "\n",
      "==============================\n",
      "DETAILED CLASSIFICATION REPORT:\n",
      "==============================\n",
      "                                                                      precision    recall  f1-score   support\n",
      "\n",
      "                          Categories with transparent glazes on slip       0.97      0.90      0.93       143\n",
      "                                  Categories with transparent glazes       0.90      0.95      0.93       137\n",
      "Unglazed categories (literally: Categories without vitreous coating)       0.98      0.98      0.98       143\n",
      "                         Categories with opaque or opacified coating       0.97      0.99      0.98       142\n",
      "\n",
      "                                                            accuracy                           0.95       565\n",
      "                                                           macro avg       0.95      0.95      0.95       565\n",
      "                                                        weighted avg       0.95      0.95      0.95       565\n",
      "\n",
      "\n",
      "==============================\n",
      "PERFORMANCE BY ROOT CATEGORY:\n",
      "==============================\n",
      "Categories with transparent glazes on slip (ID: 132): 0.9021 accuracy (143 samples)\n",
      "Categories with transparent glazes (ID: 135): 0.9489 accuracy (137 samples)\n",
      "Unglazed categories (literally: Categories without vitreous coating) (ID: 137): 0.9790 accuracy (143 samples)\n",
      "Categories with opaque or opacified coating (ID: 144): 0.9859 accuracy (142 samples)\n",
      "\n",
      "==============================\n",
      "CONFUSION MATRIX:\n",
      "==============================\n",
      "Rows: True labels, Columns: Predicted labels\n",
      "                                                                      Categories with transparent glazes on slip  \\\n",
      "Categories with transparent glazes on slip                                                                   129   \n",
      "Categories with transparent glazes                                                                             4   \n",
      "Unglazed categories (literally: Categories without vitreous coating)                                           0   \n",
      "Categories with opaque or opacified coating                                                                    0   \n",
      "\n",
      "                                                                      Categories with transparent glazes  \\\n",
      "Categories with transparent glazes on slip                                                            11   \n",
      "Categories with transparent glazes                                                                   130   \n",
      "Unglazed categories (literally: Categories without vitreous coating)                                   2   \n",
      "Categories with opaque or opacified coating                                                            1   \n",
      "\n",
      "                                                                      Unglazed categories (literally: Categories without vitreous coating)  \\\n",
      "Categories with transparent glazes on slip                                                                                               0   \n",
      "Categories with transparent glazes                                                                                                       2   \n",
      "Unglazed categories (literally: Categories without vitreous coating)                                                                   140   \n",
      "Categories with opaque or opacified coating                                                                                              1   \n",
      "\n",
      "                                                                      Categories with opaque or opacified coating  \n",
      "Categories with transparent glazes on slip                                                                      3  \n",
      "Categories with transparent glazes                                                                              1  \n",
      "Unglazed categories (literally: Categories without vitreous coating)                                            1  \n",
      "Categories with opaque or opacified coating                                                                   140  \n",
      "Generating plots for baseline_architecture...\n",
      "  Saved MLP training history plot to c:\\Users\\moham\\OneDrive\\Desktop\\spiridon\\Spiridon\\output\\mlp_classification_results\\etude2\\baseline_architecture\\etude2_baseline_architecture_training_history.png\n",
      "Model and results saved to: c:\\Users\\moham\\OneDrive\\Desktop\\spiridon\\Spiridon\\output\\mlp_classification_results\\etude2\\baseline_architecture\n",
      "Test Accuracy for baseline_architecture: 0.9540\n",
      "\n",
      "--- MLP Training Test Complete ---\n",
      "Summary of results:\n",
      "  ✓ Scenario 'baseline_architecture' | Test Accuracy: 0.9540\n",
      "\n",
      "Models, scalers, and metadata saved in subdirectories of: c:\\Users\\moham\\OneDrive\\Desktop\\spiridon\\Spiridon\\output\\mlp_classification_results\\etude2\n"
     ]
    }
   ],
   "source": [
    "# Import the main function for MLP classification\n",
    "from src.main_mlp_classification import run_mlp_classification_scenarios\n",
    "\n",
    "print(\"\\n--- Testing MLP Training and Evaluation Pipeline ---\")\n",
    "print(\"NOTE: This test uses the full data loaded in previous steps to train the model.\")\n",
    "\n",
    "STUDY_NAME_MLP = \"etude2\"\n",
    "# Type 0: Ceramic attributes only | Type 1: Functions/Features only | Type 2: Combined\n",
    "EMBEDDING_TYPE_MLP = 1\n",
    "\n",
    "print(f\"\\nRunning MLP classification for study: '{STUDY_NAME_MLP}' with embedding type: {EMBEDDING_TYPE_MLP}\")\n",
    "\n",
    "mlp_test_results = run_mlp_classification_scenarios(\n",
    "    dfs=dfs_raw,\n",
    "    study_name=STUDY_NAME_MLP,\n",
    "    embedding_type=EMBEDDING_TYPE_MLP\n",
    ")\n",
    "\n",
    "print(\"\\n--- MLP Training Test Complete ---\")\n",
    "if mlp_test_results:\n",
    "    print(\"Summary of results:\")\n",
    "    for scenario, accuracy in mlp_test_results.items():\n",
    "        if accuracy is not None:\n",
    "            print(f\"  ✓ Scenario '{scenario}' | Test Accuracy: {accuracy:.4f}\")\n",
    "        else:\n",
    "            print(f\"  ✗ Scenario '{scenario}' failed.\")\n",
    "    output_dir = os.path.join(config.OUTPUT_BASE_DIR, 'mlp_classification_results', STUDY_NAME_MLP)\n",
    "    print(f\"\\nModels, scalers, and metadata saved in subdirectories of: {output_dir}\")\n",
    "else:\n",
    "    print(\"MLP training scenarios did not produce any results.\")"
   ]
  },
  {
   "cell_type": "markdown",
   "metadata": {},
   "source": [
    "#### 4.1.3 MLP with Embedding  Type 2: Combined"
   ]
  },
  {
   "cell_type": "code",
   "execution_count": 12,
   "metadata": {},
   "outputs": [
    {
     "name": "stdout",
     "output_type": "stream",
     "text": [
      "\n",
      "--- Testing MLP Training and Evaluation Pipeline ---\n",
      "NOTE: This test uses the full data loaded in previous steps to train the model.\n",
      "\n",
      "Running MLP classification for study: 'etude2' with embedding type: 2\n",
      "\n",
      "============================================================\n",
      "STARTING MLP CLASSIFICATION SCENARIOS FOR: etude2\n",
      "============================================================\n",
      "\n",
      "Preparing MLP input data with multi-label encoding...\n",
      "Preparing data for MLP Classifier...\n",
      "Study configuration: etude2\n",
      "Embedding type: 2\n",
      "Embedding strategy: Combined: Ceramic attributes + Functions + Features\n",
      "  Root categories found (IDs): [140, 135, 144, 132, 137]\n",
      "  Total categorized ceramics before sampling: 8697\n",
      "  Original class distribution:\n",
      "    Class 132 (Categories with transparent glazes on slip): 1396 ceramics\n",
      "    Class 135 (Categories with transparent glazes): 913 ceramics\n",
      "    Class 137 (Unglazed categories (literally: Categories without vitreous coating)): 5301 ceramics\n",
      "    Class 140 (Categories in artificial fabrics): 138 ceramics\n",
      "    Class 144 (Categories with opaque or opacified coating): 949 ceramics\n",
      "  Minimum class: 140 with 138 ceramics\n",
      "  Applying etude2 strategy: Remove minimum class (140), sample 950 from remaining classes\n",
      "  Remaining classes after removing minimum:\n",
      "    Class 132 (Categories with transparent glazes on slip): 1396 ceramics\n",
      "    Class 135 (Categories with transparent glazes): 913 ceramics\n",
      "    Class 137 (Unglazed categories (literally: Categories without vitreous coating)): 5301 ceramics\n",
      "    Class 144 (Categories with opaque or opacified coating): 949 ceramics\n",
      "    WARNING: Class 135 has only 913 ceramics, less than target 950\n",
      "    WARNING: Class 144 has only 949 ceramics, less than target 950\n",
      "  Final class distribution after etude2 sampling:\n",
      "    Class 132 (Categories with transparent glazes on slip): 950 ceramics\n",
      "    Class 135 (Categories with transparent glazes): 913 ceramics\n",
      "    Class 137 (Unglazed categories (literally: Categories without vitreous coating)): 950 ceramics\n",
      "    Class 144 (Categories with opaque or opacified coating): 949 ceramics\n",
      "  Total ceramics after etude2 sampling: 3762\n",
      "  Generating ceramic attribute embeddings...\n",
      "    Attribute map sizes: origin=55, color=12, context=3, source=4\n",
      "    Ceramic attribute embedding generated. Length: 78\n",
      "    Breakdown: origin(55) + color(12) + context(3) + source(4) + reuse(2) + prod_fail(2)\n",
      "  Generating function/feature embeddings...\n",
      "    DataFrame shape: (3762, 18)\n",
      "    Sample function_id: '[np.int64(5)]'\n",
      "    Sample feature_id: '[np.int64(3), np.int64(16), np.int64(41), np.int64(46), np.int64(49)]'\n",
      "    Function embedding length: 181\n",
      "    Available function IDs: [np.int64(1), np.int64(2), np.int64(3), np.int64(4), np.int64(5), np.int64(6), np.int64(7), np.int64(8), np.int64(10), np.int64(11), np.int64(12), np.int64(13), np.int64(14), np.int64(15), np.int64(16), np.int64(17), np.int64(18), np.int64(19), np.int64(20), np.int64(21)]...\n",
      "    Feature embedding length: 105\n",
      "    Available feature IDs: [np.int64(1), np.int64(2), np.int64(3), np.int64(4), np.int64(5), np.int64(6), np.int64(7), np.int64(9), np.int64(10), np.int64(11), np.int64(12), np.int64(13), np.int64(14), np.int64(15), np.int64(16), np.int64(17), np.int64(18), np.int64(19), np.int64(20), np.int64(21)]...\n",
      "    Testing on first 3 rows...\n",
      "      Row 0 function_id parsed: [5]\n",
      "      Row 0 feature_id parsed: [3, 16, 41, 46, 49]\n",
      "      Row 0 embedding sum: 6\n",
      "      Row 1 function_id parsed: [2]\n",
      "      Row 1 feature_id parsed: [3, 18, 41, 46, 49, 59]\n",
      "      Row 1 embedding sum: 7\n",
      "      Row 2 function_id parsed: [3]\n",
      "      Row 2 feature_id parsed: [3, 16, 41, 46, 49]\n",
      "      Row 2 embedding sum: 6\n",
      "    Applying to all rows...\n",
      "    Function/feature embedding generated. Length: 286\n",
      "    Breakdown: functions(181) + features(105)\n",
      "    Embeddings with non-zero values: 3760/3762\n",
      "    SUCCESS: 3760 rows have valid embeddings!\n",
      "  Final MLP embedding generated. Length: 364\n",
      "\n",
      "  Final MLP data shapes:\n",
      "    X shape: (3762, 364)\n",
      "    y shape: (3762,)\n",
      "    Unique labels: [132 135 137 144]\n",
      "  MLP data saved to: c:\\Users\\moham\\OneDrive\\Desktop\\spiridon\\Spiridon\\output\\mlp_classification_data\\etude2_type2\n",
      "  Study configuration saved as study_config.json\n",
      "Data prepared successfully:\n",
      "  X shape: (3762, 364)\n",
      "  y shape: (3762,)\n",
      "  Unique classes: 4\n",
      "Train/Test split completed:\n",
      "  Training samples: 3197\n",
      "  Test samples: 565\n",
      "\n",
      "==================================================\n",
      "RUNNING SCENARIO: baseline_architecture\n",
      "Architecture: (256, 128)\n",
      "==================================================\n",
      "\n",
      "==================================================\n",
      "SCENARIO: etude2_baseline_architecture - MLP Classifier\n",
      "==================================================\n",
      "Training samples: 3197\n",
      "Test samples: 565\n",
      "Input features: 364\n",
      "Number of classes (train): 4\n",
      "Number of classes (test): 4\n",
      "Training distribution: Counter({np.int64(144): 807, np.int64(137): 807, np.int64(132): 807, np.int64(135): 776})\n",
      "Test distribution: Counter({np.int64(132): 143, np.int64(137): 143, np.int64(144): 142, np.int64(135): 137})\n",
      "\n",
      "Neural Network Architecture:\n",
      "Input layer: 364 features\n",
      "Hidden layers: (256, 128)\n",
      "Output layer: 4 neurons (softmax)\n",
      "\n",
      "Training MLP model...\n",
      "\n",
      "==============================\n",
      "TRAINING METRICS:\n",
      "==============================\n",
      "Training accuracy: 0.9847\n",
      "Test accuracy: 0.9681\n",
      "\n",
      "==============================\n",
      "DETAILED CLASSIFICATION REPORT:\n",
      "==============================\n",
      "                                                                      precision    recall  f1-score   support\n",
      "\n",
      "                          Categories with transparent glazes on slip       0.99      0.92      0.95       143\n",
      "                                  Categories with transparent glazes       0.91      0.97      0.94       137\n",
      "Unglazed categories (literally: Categories without vitreous coating)       0.99      0.99      0.99       143\n",
      "                         Categories with opaque or opacified coating       0.99      0.99      0.99       142\n",
      "\n",
      "                                                            accuracy                           0.97       565\n",
      "                                                           macro avg       0.97      0.97      0.97       565\n",
      "                                                        weighted avg       0.97      0.97      0.97       565\n",
      "\n",
      "\n",
      "==============================\n",
      "PERFORMANCE BY ROOT CATEGORY:\n",
      "==============================\n",
      "Categories with transparent glazes on slip (ID: 132): 0.9231 accuracy (143 samples)\n",
      "Categories with transparent glazes (ID: 135): 0.9708 accuracy (137 samples)\n",
      "Unglazed categories (literally: Categories without vitreous coating) (ID: 137): 0.9860 accuracy (143 samples)\n",
      "Categories with opaque or opacified coating (ID: 144): 0.9930 accuracy (142 samples)\n",
      "\n",
      "==============================\n",
      "CONFUSION MATRIX:\n",
      "==============================\n",
      "Rows: True labels, Columns: Predicted labels\n",
      "                                                                      Categories with transparent glazes on slip  \\\n",
      "Categories with transparent glazes on slip                                                                   132   \n",
      "Categories with transparent glazes                                                                             2   \n",
      "Unglazed categories (literally: Categories without vitreous coating)                                           0   \n",
      "Categories with opaque or opacified coating                                                                    0   \n",
      "\n",
      "                                                                      Categories with transparent glazes  \\\n",
      "Categories with transparent glazes on slip                                                            10   \n",
      "Categories with transparent glazes                                                                   133   \n",
      "Unglazed categories (literally: Categories without vitreous coating)                                   2   \n",
      "Categories with opaque or opacified coating                                                            1   \n",
      "\n",
      "                                                                      Unglazed categories (literally: Categories without vitreous coating)  \\\n",
      "Categories with transparent glazes on slip                                                                                               0   \n",
      "Categories with transparent glazes                                                                                                       2   \n",
      "Unglazed categories (literally: Categories without vitreous coating)                                                                   141   \n",
      "Categories with opaque or opacified coating                                                                                              0   \n",
      "\n",
      "                                                                      Categories with opaque or opacified coating  \n",
      "Categories with transparent glazes on slip                                                                      1  \n",
      "Categories with transparent glazes                                                                              0  \n",
      "Unglazed categories (literally: Categories without vitreous coating)                                            0  \n",
      "Categories with opaque or opacified coating                                                                   141  \n",
      "Generating plots for baseline_architecture...\n",
      "  Saved MLP training history plot to c:\\Users\\moham\\OneDrive\\Desktop\\spiridon\\Spiridon\\output\\mlp_classification_results\\etude2\\baseline_architecture\\etude2_baseline_architecture_training_history.png\n",
      "Model and results saved to: c:\\Users\\moham\\OneDrive\\Desktop\\spiridon\\Spiridon\\output\\mlp_classification_results\\etude2\\baseline_architecture\n",
      "Test Accuracy for baseline_architecture: 0.9681\n",
      "\n",
      "--- MLP Training Test Complete ---\n",
      "Summary of results:\n",
      "  ✓ Scenario 'baseline_architecture' | Test Accuracy: 0.9681\n",
      "\n",
      "Models, scalers, and metadata saved in subdirectories of: c:\\Users\\moham\\OneDrive\\Desktop\\spiridon\\Spiridon\\output\\mlp_classification_results\\etude2\n"
     ]
    }
   ],
   "source": [
    "# Import the main function for MLP classification\n",
    "from src.main_mlp_classification import run_mlp_classification_scenarios\n",
    "\n",
    "print(\"\\n--- Testing MLP Training and Evaluation Pipeline ---\")\n",
    "print(\"NOTE: This test uses the full data loaded in previous steps to train the model.\")\n",
    "\n",
    "STUDY_NAME_MLP = \"etude2\"\n",
    "# Type 0: Ceramic attributes only | Type 1: Functions/Features only | Type 2: Combined\n",
    "EMBEDDING_TYPE_MLP = 2\n",
    "\n",
    "print(f\"\\nRunning MLP classification for study: '{STUDY_NAME_MLP}' with embedding type: {EMBEDDING_TYPE_MLP}\")\n",
    "\n",
    "mlp_test_results = run_mlp_classification_scenarios(\n",
    "    dfs=dfs_raw,\n",
    "    study_name=STUDY_NAME_MLP,\n",
    "    embedding_type=EMBEDDING_TYPE_MLP\n",
    ")\n",
    "\n",
    "print(\"\\n--- MLP Training Test Complete ---\")\n",
    "if mlp_test_results:\n",
    "    print(\"Summary of results:\")\n",
    "    for scenario, accuracy in mlp_test_results.items():\n",
    "        if accuracy is not None:\n",
    "            print(f\"  ✓ Scenario '{scenario}' | Test Accuracy: {accuracy:.4f}\")\n",
    "        else:\n",
    "            print(f\"  ✗ Scenario '{scenario}' failed.\")\n",
    "    output_dir = os.path.join(config.OUTPUT_BASE_DIR, 'mlp_classification_results', STUDY_NAME_MLP)\n",
    "    print(f\"\\nModels, scalers, and metadata saved in subdirectories of: {output_dir}\")\n",
    "else:\n",
    "    print(\"MLP training scenarios did not produce any results.\")"
   ]
  },
  {
   "cell_type": "markdown",
   "metadata": {},
   "source": [
    "### 4.2 RGCN+MlP"
   ]
  },
  {
   "cell_type": "code",
   "execution_count": 2,
   "metadata": {},
   "outputs": [
    {
     "name": "stdout",
     "output_type": "stream",
     "text": [
      "\n",
      "--- Running Full Data Preparation Pipeline (from main_prepare_data.py) ---\n",
      "This will generate all necessary files for both link prediction and classification tasks.\n",
      "This may take a few minutes, especially the BERT embedding generation...\n",
      "Using data path: c:\\Users\\moham\\OneDrive\\Desktop\\spiridon\\Spiridon\\data\n",
      "Seeded everything with seed 42\n",
      "Using data source path: c:\\Users\\moham\\OneDrive\\Desktop\\spiridon\\Spiridon\\data\n",
      "Loading data from: c:\\Users\\moham\\OneDrive\\Desktop\\spiridon\\Spiridon\\data\n",
      "  Loaded ceramic.csv as dfs['ceramic']\n",
      "  Loaded object_colors.csv as dfs['object_colors']\n",
      "  Loaded object_colors_attrib.csv as dfs['object_colors_attrib']\n",
      "  Loaded object_feature.csv as dfs['object_feature']\n",
      "  Loaded object_feature_combined_names.csv as dfs['object_feature_combined_names']\n",
      "  Loaded object_feature_attrib.csv as dfs['object_feature_attrib']\n",
      "  Loaded object_function_translated.csv as dfs['object_function']\n",
      "  Loaded object_function_attrib.csv as dfs['object_function_attrib']\n",
      "  Loaded tech_cat_translated.csv as dfs['tech_cat']\n",
      "  Loaded archaeological_sites.csv as dfs['archaeological_sites']\n",
      "  Loaded traditional_designation.csv as dfs['traditional_designation']\n",
      "  Loaded historical_period.csv as dfs['historical_period']\n",
      "  Loaded tech_cat_color_attrib.csv as dfs['tech_cat_color_attrib']\n",
      "  Loaded tech_cat_feature_attrib.csv as dfs['tech_cat_feature_attrib']\n",
      "  Loaded tech_cat_function_attrib.csv as dfs['tech_cat_function_attrib']\n",
      "  Loaded relations_type.csv as dfs['relations_type']\n",
      "  Loaded relations.csv as dfs['relations']\n",
      "  Loaded context_type_list.csv as dfs['context_type_list']\n",
      "  Loaded object_data_source.csv as dfs['object_data_source']\n",
      "  Loaded category_hierarchy_combined_names.csv as dfs['category_hierarchy_combined_names']\n",
      "  Loaded Features_Ontology_PF_translated.csv as dfs['Features_Ontology']\n",
      "Creating ceramic_summary DataFrame...\n",
      "  ceramic_summary created with 10482 rows.\n",
      "Ceramic Summary saved to: c:\\Users\\moham\\OneDrive\\Desktop\\spiridon\\Spiridon\\output\\ceramic_summary_prepared.csv\n",
      "Generating one-hot embeddings...\n",
      "  OHE map sizes: origin=62, color=12, context=3, source=4\n",
      "  'Embedding' column added. Example length: 85\n",
      "Preparing Link Prediction Study Datasets...\n",
      "Identifying all valid ceramic IDs from ceramic_summary...\n",
      "Found 10482 unique valid ceramic IDs in summary.\n",
      "Building category hierarchy and mapping ceramics (for sampling info)...\n",
      "\n",
      "Building category hierarchy and mapping ceramics...\n",
      "Finding root for each category...\n",
      "Mapped 229 categories to their roots.\n",
      "Mapping ceramics to root categories...\n",
      "Mapped 8697 ceramics to a root category.\n",
      "\n",
      "📊 Ceramic Counts per Root Category:\n",
      "  - Root ID 140 ('Categories in artificial fabrics'): 138 ceramics\n",
      "  - Root ID 135 ('Categories with transparent glazes'): 913 ceramics\n",
      "  - Root ID 144 ('Categories with opaque or opacified coating'): 949 ceramics\n",
      "  - Root ID 132 ('Categories with transparent glazes on slip'): 1396 ceramics\n",
      "  - Root ID 137 ('Unglazed categories (literally: Categories without vitreous coating)'): 5301 ceramics\n",
      "\n",
      "--- Target Sample Sizes ---\n",
      "Etude 1 (Min Count among roots: 138): Sample Size = 138\n",
      "Etude 1' (Fixed): Sample Size = 276\n",
      "Etude 2 (Exclude root 140, Min Rem Count: 913): Sample Size = 913\n",
      "Etude All: Using all 10482 ceramics from summary\n",
      "\n",
      "--- Preparing Dataset: etude1 ---\n",
      "  Sampling 138 ceramics per root from roots: {132, 135, 137, 140, 144}\n",
      "  Total unique ceramics selected for etude1: 690\n",
      "  Extracting triplets for 690 ceramics in etude1...\n",
      "Extracting triplets for 690 selected ceramics (handling lists)...\n"
     ]
    },
    {
     "name": "stderr",
     "output_type": "stream",
     "text": [
      "c:\\Users\\moham\\OneDrive\\Desktop\\spiridon\\Spiridon\\src\\graph_utils.py:242: FutureWarning: errors='ignore' is deprecated and will raise in a future version. Use to_numeric without passing `errors` and catch exceptions explicitly instead\n",
      "  new_col_values.append([pd.to_numeric(i, errors='ignore') for i in item])\n"
     ]
    },
    {
     "name": "stdout",
     "output_type": "stream",
     "text": [
      "Finished extraction for selection. Got results structure for 690 ceramics.\n",
      "  Extracted 690 primary entries for triplet generation.\n",
      "  Formatting data for RGCN model for etude1...\n",
      "  Formatting etude1 data for RGCN with ALL-BERT Embeddings (BERT: paraphrase-multilingual-mpnet-base-v2)...\n",
      "    Using device: cpu\n"
     ]
    },
    {
     "name": "stderr",
     "output_type": "stream",
     "text": [
      "c:\\ProgramData\\miniconda3\\Lib\\site-packages\\tqdm\\auto.py:21: TqdmWarning: IProgress not found. Please update jupyter and ipywidgets. See https://ipywidgets.readthedocs.io/en/stable/user_install.html\n",
      "  from .autonotebook import tqdm as notebook_tqdm\n"
     ]
    },
    {
     "name": "stdout",
     "output_type": "stream",
     "text": [
      "    Loaded Sentence-BERT model 'paraphrase-multilingual-mpnet-base-v2' (Native Dim: 768)\n",
      "    Building category hierarchy to get root mapping (using original category IDs)...\n",
      "    Obtained mapping for 229 original categories to their original root IDs.\n",
      "    Identifying all unique nodes in the sampled data (Ceramics, Functions, Features, and ONLY ROOT Categories)...\n",
      "    Found 812 unique node identifiers in the sample (ceramics, functions, features, and ROOT categories).\n",
      "    Assigning graph indices and generating ALL-BERT embeddings...\n",
      "    ALL-BERT Embeddings - Generated: 812, Failed/Missing Text: 0\n",
      "\n",
      "    --- Node Type Examples with BERT Embeddings ---\n",
      "    Ceramic Node Example:\n",
      "      Node ID: Ceramic_10057\n",
      "      Text: 'A Ceramic ceramic from the consumption in Barralerie.'\n",
      "      Embedding (first 5 dims): [ 0.03479291 -0.24756464 -0.01379733  0.11515333 -0.03970487]\n",
      "\n",
      "    Function Node Example:\n",
      "      Node ID: Func_1\n",
      "      Text: 'dishware'\n",
      "      Embedding (first 5 dims): [-0.04249287 -0.09050374 -0.01082283 -0.08826792 -0.01394795]\n",
      "\n",
      "    Category Node Example:\n",
      "      Node ID: Cat_132_Root_132\n",
      "      Text: 'Categories with transparent glazes on slip'\n",
      "      Embedding (first 5 dims): [ 0.04153645 -0.07711426 -0.01183737  0.10898539  0.06632965]\n",
      "\n",
      "    Feature Node Example:\n",
      "      Node ID: Feat_1\n",
      "      Text: 'Forming'\n",
      "      Embedding (first 5 dims): [-0.15884797 -0.16376425 -0.01642389  0.06936691  0.05116959]\n",
      "\n",
      "    --- End Node Type Examples ---\n",
      "\n",
      "    Populated final ALL-BERT embedding matrix with shape (812 nodes, 768 dim). 812 nodes have non-zero embeddings.\n",
      "    Identifying root category node indices in the final graph map (all 'Cat_' nodes are roots)...\n",
      "    Identified 5 unique root category nodes in the graph's node_to_idx map.\n",
      "    Created cat_idx_to_root_idx_map with 5 entries (each root maps to itself).\n",
      "    Processing triplets using pre-assigned graph indices...\n",
      "    Added 0 RootCat->Function and 6 RootCat->Feature triplets (direct connections only).\n",
      "    Removed 6048 duplicate training triplets.\n",
      "    Removed 0 duplicate evaluation triplets (Ceramic->RootCat).\n",
      "\n",
      "    --- RGCN Data Summary (Hybrid Embeddings with PCA) ---\n",
      "    Study: etude1\n",
      "    BERT Model for Non-Ceramics: paraphrase-multilingual-mpnet-base-v2 (Native Dim: 768)\n",
      "    Ceramic Embeddings Source: OHE from 'Embedding' column (Expected Dim: 768)\n",
      "    Final Hybrid Embedding Dimension: 768\n",
      "    Total Nodes in Graph: 812\n",
      "    Nodes with Non-Zero Embedding in Final Matrix: 812\n",
      "    Total Relation Types in Graph: 11\n",
      "    Training Triplets (for GNN structure): 3605\n",
      "    Evaluation Triplets (Ceramic->RootCat, for BTC task): 690\n",
      "    Number of Root Category Nodes in Graph (for neg. sampling): 5\n",
      "    --- End Summary ---\n",
      "  ✅ Successfully prepared and formatted dataset for etude1.\n",
      "\n",
      "--- Preparing Dataset: etude1_prime ---\n",
      "  Sampling 276 ceramics per root from roots: {132, 135, 137, 140, 144}\n",
      "  Total unique ceramics selected for etude1_prime: 1242\n",
      "  Extracting triplets for 1242 ceramics in etude1_prime...\n",
      "Extracting triplets for 1242 selected ceramics (handling lists)...\n"
     ]
    },
    {
     "name": "stderr",
     "output_type": "stream",
     "text": [
      "c:\\Users\\moham\\OneDrive\\Desktop\\spiridon\\Spiridon\\src\\graph_utils.py:242: FutureWarning: errors='ignore' is deprecated and will raise in a future version. Use to_numeric without passing `errors` and catch exceptions explicitly instead\n",
      "  new_col_values.append([pd.to_numeric(i, errors='ignore') for i in item])\n"
     ]
    },
    {
     "name": "stdout",
     "output_type": "stream",
     "text": [
      "Finished extraction for selection. Got results structure for 1242 ceramics.\n",
      "  Extracted 1242 primary entries for triplet generation.\n",
      "  Formatting data for RGCN model for etude1_prime...\n",
      "  Formatting etude1_prime data for RGCN with ALL-BERT Embeddings (BERT: paraphrase-multilingual-mpnet-base-v2)...\n",
      "    Using device: cpu\n",
      "    Loaded Sentence-BERT model 'paraphrase-multilingual-mpnet-base-v2' (Native Dim: 768)\n",
      "    Building category hierarchy to get root mapping (using original category IDs)...\n",
      "    Obtained mapping for 229 original categories to their original root IDs.\n",
      "    Identifying all unique nodes in the sampled data (Ceramics, Functions, Features, and ONLY ROOT Categories)...\n",
      "    Found 1404 unique node identifiers in the sample (ceramics, functions, features, and ROOT categories).\n",
      "    Assigning graph indices and generating ALL-BERT embeddings...\n",
      "    ALL-BERT Embeddings - Generated: 1404, Failed/Missing Text: 0\n",
      "\n",
      "    --- Node Type Examples with BERT Embeddings ---\n",
      "    Ceramic Node Example:\n",
      "      Node ID: Ceramic_10057\n",
      "      Text: 'A Ceramic ceramic from the consumption in Barralerie.'\n",
      "      Embedding (first 5 dims): [ 0.03479291 -0.24756464 -0.01379733  0.11515333 -0.03970487]\n",
      "\n",
      "    Function Node Example:\n",
      "      Node ID: Func_1\n",
      "      Text: 'dishware'\n",
      "      Embedding (first 5 dims): [-0.04249287 -0.09050374 -0.01082283 -0.08826792 -0.01394795]\n",
      "\n",
      "    Category Node Example:\n",
      "      Node ID: Cat_132_Root_132\n",
      "      Text: 'Categories with transparent glazes on slip'\n",
      "      Embedding (first 5 dims): [ 0.04153645 -0.07711426 -0.01183737  0.10898539  0.06632965]\n",
      "\n",
      "    Feature Node Example:\n",
      "      Node ID: Feat_1\n",
      "      Text: 'Forming'\n",
      "      Embedding (first 5 dims): [-0.15884797 -0.16376425 -0.01642389  0.06936691  0.05116959]\n",
      "\n",
      "    --- End Node Type Examples ---\n",
      "\n",
      "    Populated final ALL-BERT embedding matrix with shape (1404 nodes, 768 dim). 1404 nodes have non-zero embeddings.\n",
      "    Identifying root category node indices in the final graph map (all 'Cat_' nodes are roots)...\n",
      "    Identified 5 unique root category nodes in the graph's node_to_idx map.\n",
      "    Created cat_idx_to_root_idx_map with 5 entries (each root maps to itself).\n",
      "    Processing triplets using pre-assigned graph indices...\n",
      "    Added 0 RootCat->Function and 6 RootCat->Feature triplets (direct connections only).\n",
      "    Removed 11528 duplicate training triplets.\n",
      "    Removed 0 duplicate evaluation triplets (Ceramic->RootCat).\n",
      "\n",
      "    --- RGCN Data Summary (Hybrid Embeddings with PCA) ---\n",
      "    Study: etude1_prime\n",
      "    BERT Model for Non-Ceramics: paraphrase-multilingual-mpnet-base-v2 (Native Dim: 768)\n",
      "    Ceramic Embeddings Source: OHE from 'Embedding' column (Expected Dim: 768)\n",
      "    Final Hybrid Embedding Dimension: 768\n",
      "    Total Nodes in Graph: 1404\n",
      "    Nodes with Non-Zero Embedding in Final Matrix: 1404\n",
      "    Total Relation Types in Graph: 12\n",
      "    Training Triplets (for GNN structure): 6644\n",
      "    Evaluation Triplets (Ceramic->RootCat, for BTC task): 1242\n",
      "    Number of Root Category Nodes in Graph (for neg. sampling): 5\n",
      "    --- End Summary ---\n",
      "  ✅ Successfully prepared and formatted dataset for etude1_prime.\n",
      "\n",
      "--- Preparing Dataset: etude2 ---\n",
      "  Sampling 913 ceramics per root from roots: {132, 135, 137, 144}\n",
      "  Total unique ceramics selected for etude2: 3652\n",
      "  Extracting triplets for 3652 ceramics in etude2...\n",
      "Extracting triplets for 3652 selected ceramics (handling lists)...\n"
     ]
    },
    {
     "name": "stderr",
     "output_type": "stream",
     "text": [
      "c:\\Users\\moham\\OneDrive\\Desktop\\spiridon\\Spiridon\\src\\graph_utils.py:242: FutureWarning: errors='ignore' is deprecated and will raise in a future version. Use to_numeric without passing `errors` and catch exceptions explicitly instead\n",
      "  new_col_values.append([pd.to_numeric(i, errors='ignore') for i in item])\n"
     ]
    },
    {
     "name": "stdout",
     "output_type": "stream",
     "text": [
      "Finished extraction for selection. Got results structure for 3652 ceramics.\n",
      "  Extracted 3652 primary entries for triplet generation.\n",
      "  Formatting data for RGCN model for etude2...\n",
      "  Formatting etude2 data for RGCN with ALL-BERT Embeddings (BERT: paraphrase-multilingual-mpnet-base-v2)...\n",
      "    Using device: cpu\n",
      "    Loaded Sentence-BERT model 'paraphrase-multilingual-mpnet-base-v2' (Native Dim: 768)\n",
      "    Building category hierarchy to get root mapping (using original category IDs)...\n",
      "    Obtained mapping for 229 original categories to their original root IDs.\n",
      "    Identifying all unique nodes in the sampled data (Ceramics, Functions, Features, and ONLY ROOT Categories)...\n",
      "    Found 3857 unique node identifiers in the sample (ceramics, functions, features, and ROOT categories).\n",
      "    Assigning graph indices and generating ALL-BERT embeddings...\n",
      "    ALL-BERT Embeddings - Generated: 3857, Failed/Missing Text: 0\n",
      "\n",
      "    --- Node Type Examples with BERT Embeddings ---\n",
      "    Ceramic Node Example:\n",
      "      Node ID: Ceramic_10000\n",
      "      Text: 'A Ceramic ceramic from the consumption in Barralerie.'\n",
      "      Embedding (first 5 dims): [ 0.03479291 -0.24756464 -0.01379733  0.11515333 -0.03970487]\n",
      "\n",
      "    Function Node Example:\n",
      "      Node ID: Func_1\n",
      "      Text: 'dishware'\n",
      "      Embedding (first 5 dims): [-0.04249287 -0.09050374 -0.01082283 -0.08826792 -0.01394795]\n",
      "\n",
      "    Category Node Example:\n",
      "      Node ID: Cat_132_Root_132\n",
      "      Text: 'Categories with transparent glazes on slip'\n",
      "      Embedding (first 5 dims): [ 0.04153645 -0.07711426 -0.01183737  0.10898539  0.06632965]\n",
      "\n",
      "    Feature Node Example:\n",
      "      Node ID: Feat_1\n",
      "      Text: 'Forming'\n",
      "      Embedding (first 5 dims): [-0.15884797 -0.16376425 -0.01642389  0.06936691  0.05116959]\n",
      "\n",
      "    --- End Node Type Examples ---\n",
      "\n",
      "    Populated final ALL-BERT embedding matrix with shape (3857 nodes, 768 dim). 3857 nodes have non-zero embeddings.\n",
      "    Identifying root category node indices in the final graph map (all 'Cat_' nodes are roots)...\n",
      "    Identified 5 unique root category nodes in the graph's node_to_idx map.\n",
      "    Created cat_idx_to_root_idx_map with 5 entries (each root maps to itself).\n",
      "    Processing triplets using pre-assigned graph indices...\n",
      "    Added 0 RootCat->Function and 3 RootCat->Feature triplets (direct connections only).\n",
      "    Removed 36344 duplicate training triplets.\n",
      "    Removed 0 duplicate evaluation triplets (Ceramic->RootCat).\n",
      "\n",
      "    --- RGCN Data Summary (Hybrid Embeddings with PCA) ---\n",
      "    Study: etude2\n",
      "    BERT Model for Non-Ceramics: paraphrase-multilingual-mpnet-base-v2 (Native Dim: 768)\n",
      "    Ceramic Embeddings Source: OHE from 'Embedding' column (Expected Dim: 768)\n",
      "    Final Hybrid Embedding Dimension: 768\n",
      "    Total Nodes in Graph: 3857\n",
      "    Nodes with Non-Zero Embedding in Final Matrix: 3857\n",
      "    Total Relation Types in Graph: 12\n",
      "    Training Triplets (for GNN structure): 19960\n",
      "    Evaluation Triplets (Ceramic->RootCat, for BTC task): 3652\n",
      "    Number of Root Category Nodes in Graph (for neg. sampling): 5\n",
      "    --- End Summary ---\n",
      "  ✅ Successfully prepared and formatted dataset for etude2.\n",
      "\n",
      "--- Finished Preparing All Study Datasets ---\n",
      "Saving link prediction study datasets...\n",
      "\n",
      "--- Saving Study Datasets to subdirectories under: 'c:\\Users\\moham\\OneDrive\\Desktop\\spiridon\\Spiridon\\output\\rgcn_study_datasets' ---\n",
      "\n",
      "--- Processing study: 'etude1' ---\n",
      "Saving 'etude1' data to directory: 'c:\\Users\\moham\\OneDrive\\Desktop\\spiridon\\Spiridon\\output\\rgcn_study_datasets\\etude1'\n",
      "  Output directory 'c:\\Users\\moham\\OneDrive\\Desktop\\spiridon\\Spiridon\\output\\rgcn_study_datasets\\etude1' ensured.\n",
      "    Node embeddings saved to 'c:\\Users\\moham\\OneDrive\\Desktop\\spiridon\\Spiridon\\output\\rgcn_study_datasets\\etude1\\node_embeddings.npy' (Shape: (812, 768))\n",
      "  Finished saving for 'etude1'. 7 files created/attempted in 'c:\\Users\\moham\\OneDrive\\Desktop\\spiridon\\Spiridon\\output\\rgcn_study_datasets\\etude1'.\n",
      "\n",
      "--- Processing study: 'etude1_prime' ---\n",
      "Saving 'etude1_prime' data to directory: 'c:\\Users\\moham\\OneDrive\\Desktop\\spiridon\\Spiridon\\output\\rgcn_study_datasets\\etude1_prime'\n",
      "  Output directory 'c:\\Users\\moham\\OneDrive\\Desktop\\spiridon\\Spiridon\\output\\rgcn_study_datasets\\etude1_prime' ensured.\n",
      "    Node embeddings saved to 'c:\\Users\\moham\\OneDrive\\Desktop\\spiridon\\Spiridon\\output\\rgcn_study_datasets\\etude1_prime\\node_embeddings.npy' (Shape: (1404, 768))\n",
      "  Finished saving for 'etude1_prime'. 7 files created/attempted in 'c:\\Users\\moham\\OneDrive\\Desktop\\spiridon\\Spiridon\\output\\rgcn_study_datasets\\etude1_prime'.\n",
      "\n",
      "--- Processing study: 'etude2' ---\n",
      "Saving 'etude2' data to directory: 'c:\\Users\\moham\\OneDrive\\Desktop\\spiridon\\Spiridon\\output\\rgcn_study_datasets\\etude2'\n",
      "  Output directory 'c:\\Users\\moham\\OneDrive\\Desktop\\spiridon\\Spiridon\\output\\rgcn_study_datasets\\etude2' ensured.\n",
      "    Node embeddings saved to 'c:\\Users\\moham\\OneDrive\\Desktop\\spiridon\\Spiridon\\output\\rgcn_study_datasets\\etude2\\node_embeddings.npy' (Shape: (3857, 768))\n",
      "  Finished saving for 'etude2'. 7 files created/attempted in 'c:\\Users\\moham\\OneDrive\\Desktop\\spiridon\\Spiridon\\output\\rgcn_study_datasets\\etude2'.\n",
      "\n",
      "--- Finished saving all study datasets under 'c:\\Users\\moham\\OneDrive\\Desktop\\spiridon\\Spiridon\\output\\rgcn_study_datasets' ---\n",
      "Preparing Classification Study Datasets...\n",
      "\n",
      ">>> Processing and saving classification data for study: etude1 <<<\n",
      "\n",
      "--- Adapting RGCN Data for Ceramic Classification (Root Labels) ---\n",
      "  Original nodes: 812\n",
      "  Nodes kept for classification: 812\n",
      "  Extracting root category labels from 4295 available triplets...\n",
      "  Looking for relation ID 0 ('BELONGS_TO_CATEGORY')\n",
      "  Extracted labels for 690 ceramic nodes. Found 5 unique root labels.\n",
      "  Label mapping (5 labels):\n",
      "    Label 0: ' Category with transparent glazes' (Original Root ID: 135, 138 ceramics)\n",
      "    Label 1: ' Category in artificial fabrics' (Original Root ID: 140, 138 ceramics)\n",
      "    Label 2: ' Category with transparent glazes on slip' (Original Root ID: 132, 138 ceramics)\n",
      "    Label 3: ' Category with opaque or opacified coating' (Original Root ID: 144, 138 ceramics)\n",
      "    Label 4: ' Category Unglazed categories (literally: Categories without vitreous coating)' (Original Root ID: 137, 138 ceramics)\n",
      "  Identified 690 ceramic nodes in the new mapping for classification.\n",
      "\n",
      "--- Adaptation for Classification Complete ---\n",
      "  Final ceramic nodes with labels: 690\n",
      "  Total classes: 5\n",
      "  Output directory created/ensured: c:\\Users\\moham\\OneDrive\\Desktop\\spiridon\\Spiridon\\output\\classification_data\\etude1_root_classification_data\n",
      "  Saving data components...\n",
      "    Saved node_embeddings.npy\n",
      "    Saved node_mapping.csv\n",
      "    Saved relation_mapping.csv\n",
      "    Saved training_triplets.csv\n",
      "    Ceramic labels DataFrame shape: (690, 2)\n",
      "    Ceramic labels DataFrame dtypes:\n",
      "new_ceramic_node_idx    int64\n",
      "label_id                int64\n",
      "dtype: object\n",
      "    Ceramic labels DataFrame head:\n",
      "   new_ceramic_node_idx  label_id\n",
      "0                     5         0\n",
      "1                     6         0\n",
      "2                     7         0\n",
      "3                     8         0\n",
      "4                     9         1\n",
      "    Saved ceramic_labels.csv\n",
      "    Saved label_mapping.csv\n",
      "    Saved classification_stats.json\n",
      "  ✅ Successfully processed and saved classification data for 'etude1' to c:\\Users\\moham\\OneDrive\\Desktop\\spiridon\\Spiridon\\output\\classification_data\\etude1_root_classification_data\n",
      "\n",
      ">>> Processing and saving classification data for study: etude1_prime <<<\n",
      "\n",
      "--- Adapting RGCN Data for Ceramic Classification (Root Labels) ---\n",
      "  Original nodes: 1404\n",
      "  Nodes kept for classification: 1404\n",
      "  Extracting root category labels from 7886 available triplets...\n",
      "  Looking for relation ID 0 ('BELONGS_TO_CATEGORY')\n",
      "  Extracted labels for 1242 ceramic nodes. Found 5 unique root labels.\n",
      "  Label mapping (5 labels):\n",
      "    Label 0: ' Category with transparent glazes' (Original Root ID: 135, 276 ceramics)\n",
      "    Label 1: ' Category with opaque or opacified coating' (Original Root ID: 144, 276 ceramics)\n",
      "    Label 2: ' Category in artificial fabrics' (Original Root ID: 140, 138 ceramics)\n",
      "    Label 3: ' Category with transparent glazes on slip' (Original Root ID: 132, 276 ceramics)\n",
      "    Label 4: ' Category Unglazed categories (literally: Categories without vitreous coating)' (Original Root ID: 137, 276 ceramics)\n",
      "  Identified 1242 ceramic nodes in the new mapping for classification.\n",
      "\n",
      "--- Adaptation for Classification Complete ---\n",
      "  Final ceramic nodes with labels: 1242\n",
      "  Total classes: 5\n",
      "  Output directory created/ensured: c:\\Users\\moham\\OneDrive\\Desktop\\spiridon\\Spiridon\\output\\classification_data\\etude1_prime_root_classification_data\n",
      "  Saving data components...\n",
      "    Saved node_embeddings.npy\n",
      "    Saved node_mapping.csv\n",
      "    Saved relation_mapping.csv\n",
      "    Saved training_triplets.csv\n",
      "    Ceramic labels DataFrame shape: (1242, 2)\n",
      "    Ceramic labels DataFrame dtypes:\n",
      "new_ceramic_node_idx    int64\n",
      "label_id                int64\n",
      "dtype: object\n",
      "    Ceramic labels DataFrame head:\n",
      "   new_ceramic_node_idx  label_id\n",
      "0                     5         0\n",
      "1                     6         0\n",
      "2                     7         0\n",
      "3                     8         0\n",
      "4                     9         1\n",
      "    Saved ceramic_labels.csv\n",
      "    Saved label_mapping.csv\n",
      "    Saved classification_stats.json\n",
      "  ✅ Successfully processed and saved classification data for 'etude1_prime' to c:\\Users\\moham\\OneDrive\\Desktop\\spiridon\\Spiridon\\output\\classification_data\\etude1_prime_root_classification_data\n",
      "\n",
      ">>> Processing and saving classification data for study: etude2 <<<\n",
      "\n",
      "--- Adapting RGCN Data for Ceramic Classification (Root Labels) ---\n",
      "  Original nodes: 3857\n",
      "  Nodes kept for classification: 3857\n",
      "  Extracting root category labels from 23612 available triplets...\n",
      "  Looking for relation ID 0 ('BELONGS_TO_CATEGORY')\n",
      "  Extracted labels for 3652 ceramic nodes. Found 4 unique root labels.\n",
      "  Label mapping (4 labels):\n",
      "    Label 0: ' Category Unglazed categories (literally: Categories without vitreous coating)' (Original Root ID: 137, 913 ceramics)\n",
      "    Label 1: ' Category with transparent glazes' (Original Root ID: 135, 913 ceramics)\n",
      "    Label 2: ' Category with opaque or opacified coating' (Original Root ID: 144, 913 ceramics)\n",
      "    Label 3: ' Category with transparent glazes on slip' (Original Root ID: 132, 913 ceramics)\n",
      "  Identified 3652 ceramic nodes in the new mapping for classification.\n",
      "\n",
      "--- Adaptation for Classification Complete ---\n",
      "  Final ceramic nodes with labels: 3652\n",
      "  Total classes: 4\n",
      "  Output directory created/ensured: c:\\Users\\moham\\OneDrive\\Desktop\\spiridon\\Spiridon\\output\\classification_data\\etude2_root_classification_data\n",
      "  Saving data components...\n",
      "    Saved node_embeddings.npy\n",
      "    Saved node_mapping.csv\n",
      "    Saved relation_mapping.csv\n",
      "    Saved training_triplets.csv\n",
      "    Ceramic labels DataFrame shape: (3652, 2)\n",
      "    Ceramic labels DataFrame dtypes:\n",
      "new_ceramic_node_idx    int64\n",
      "label_id                int64\n",
      "dtype: object\n",
      "    Ceramic labels DataFrame head:\n",
      "   new_ceramic_node_idx  label_id\n",
      "0                     5         0\n",
      "1                     6         0\n",
      "2                     7         0\n",
      "3                     8         0\n",
      "4                     9         0\n",
      "    Saved ceramic_labels.csv\n",
      "    Saved label_mapping.csv\n",
      "    Saved classification_stats.json\n",
      "  ✅ Successfully processed and saved classification data for 'etude2' to c:\\Users\\moham\\OneDrive\\Desktop\\spiridon\\Spiridon\\output\\classification_data\\etude2_root_classification_data\n",
      "Data Preparation Script Finished\n",
      "\n",
      "--- Full Data Preparation Complete ---\n",
      "The necessary files, including 'data.pt' for classification, should now be created in the 'output' directory.\n",
      "You can now re-run the 'RGCN+MLP Training and Evaluation' cell below.\n"
     ]
    }
   ],
   "source": [
    "from src.main_prepare_data import main as prepare_all_data\n",
    "\n",
    "print(\"\\n--- Running Full Data Preparation Pipeline (from main_prepare_data.py) ---\")\n",
    "print(\"This will generate all necessary files for both link prediction and classification tasks.\")\n",
    "print(\"This may take a few minutes, especially the BERT embedding generation...\")\n",
    "if 'LOCAL_DATA_PATH_TEST' in locals():\n",
    "    print(f\"Using data path: {LOCAL_DATA_PATH_TEST}\")\n",
    "    prepare_all_data(data_source_path=LOCAL_DATA_PATH_TEST)\n",
    "    \n",
    "    print(\"\\n--- Full Data Preparation Complete ---\")\n",
    "    print(\"The necessary files, including 'data.pt' for classification, should now be created in the 'output' directory.\")\n",
    "    print(\"You can now re-run the 'RGCN+MLP Training and Evaluation' cell below.\")\n",
    "else:\n",
    "    print(\"[ERROR] LOCAL_DATA_PATH_TEST variable not found. Cannot run data preparation.\")"
   ]
  },
  {
   "cell_type": "code",
   "execution_count": 16,
   "metadata": {},
   "outputs": [
    {
     "name": "stderr",
     "output_type": "stream",
     "text": [
      "GPU available: False, used: False\n"
     ]
    },
    {
     "name": "stdout",
     "output_type": "stream",
     "text": [
      "\n",
      "--- Testing RGCN+MLP Training and Evaluation Pipeline ---\n",
      "NOTE: This test requires the full pre-processed graph data from 'main_prepare_data.py'.\n",
      "It will fail if the data has not been generated first.\n",
      "\n",
      "Found classification data for study 'etude1'.\n",
      "Proceeding with a short training session (2 epochs)...\n",
      "\n",
      ">>> Training and Testing Classification Model for study: etude1 <<<\n",
      "Loading classification data from: c:\\Users\\moham\\OneDrive\\Desktop\\spiridon\\Spiridon\\output\\classification_data\\etude1_root_classification_data\n",
      "\n",
      "Node type distribution:\n",
      "  Type 0 (Only outgoing): 692\n",
      "  Type 1 (Only incoming): 12\n",
      "  Type 2 (Bidirectional): 105\n",
      "  Type 3 (Isolated): 3\n",
      "Loaded data: 812 nodes, 11 relations, 3605 edges, 690 labeled nodes, 5 classes.\n",
      "Overriding hyperparameters:\n",
      "  rgcn_hidden_dim: 64 -> 128\n",
      "  learning_rate: 5e-05 -> 0.001\n",
      "  patience: 20 -> 20\n",
      "  dropout: 0.2 -> 0.3\n",
      "  l2_reg: 0.0001 -> 0.0001\n",
      "\n",
      "Class distribution for 'etude1':\n",
      "  Class 0: 138 samples\n",
      "  Class 1: 138 samples\n",
      "  Class 2: 138 samples\n",
      "  Class 3: 138 samples\n",
      "  Class 4: 138 samples\n",
      "  Class 0: 96 train, 20 val, 22 test\n",
      "  Class 1: 96 train, 20 val, 22 test\n",
      "  Class 2: 96 train, 20 val, 22 test\n",
      "  Class 3: 96 train, 20 val, 22 test\n",
      "  Class 4: 96 train, 20 val, 22 test\n",
      "\n",
      "📊 Final Split Summary for 'etude1':\n",
      "  Train: 480 nodes\n",
      "  Validation: 100 nodes\n",
      "  Test: 110 nodes\n",
      "  Train class distribution: {np.int64(0): np.int64(96), np.int64(1): np.int64(96), np.int64(2): np.int64(96), np.int64(3): np.int64(96), np.int64(4): np.int64(96)}\n",
      "  Val class distribution: {np.int64(0): np.int64(20), np.int64(1): np.int64(20), np.int64(2): np.int64(20), np.int64(3): np.int64(20), np.int64(4): np.int64(20)}\n",
      "  Test class distribution: {np.int64(0): np.int64(22), np.int64(1): np.int64(22), np.int64(2): np.int64(22), np.int64(3): np.int64(22), np.int64(4): np.int64(22)}\n",
      "Instantiating RGCNClassifier model...\n",
      "Initializing RGCNClassifier:\n",
      "  - Nodes: 812\n",
      "  - Base relations: 11\n",
      "  - Total relations (with inverses): 22\n",
      "  - Embedding dim: 768\n",
      "  - Classes: 5\n",
      "  - Original edges: 3605\n",
      "  - Edge types: [1, 2, 3, 4, 5, 6, 7, 8, 9, 10]\n",
      "RGCN Layer 0: 768 → 384 (relations: 22)\n",
      "RGCN Layer 1: 384 → 128 (relations: 22)\n",
      "Adding inverse relations...\n",
      "  - Original edges: 3605\n",
      "  - After adding inverses: 7210\n",
      "  - Original relation types: [1, 2, 3, 4, 5, 6, 7, 8, 9, 10]\n",
      "  - All relation types: [1, 2, 3, 4, 5, 6, 7, 8, 9, 10, 12, 13, 14, 15, 16, 17, 18, 19, 20, 21]\n",
      "Model instantiated successfully.\n",
      "Overriding trainer parameters:\n",
      "  max_epochs: 100 -> 100\n",
      "  accelerator: auto -> cpu\n",
      "  devices: auto -> 1\n",
      "  enable_progress_bar: True -> True\n",
      "Using default EarlyStopping and ModelCheckpoint callbacks.\n"
     ]
    },
    {
     "name": "stderr",
     "output_type": "stream",
     "text": [
      "TPU available: False, using: 0 TPU cores\n",
      "HPU available: False, using: 0 HPUs\n",
      "c:\\ProgramData\\miniconda3\\Lib\\site-packages\\pytorch_lightning\\callbacks\\model_checkpoint.py:654: Checkpoint directory C:\\Users\\moham\\OneDrive\\Desktop\\spiridon\\Spiridon\\output\\classification_data\\etude1_root_classification_data\\checkpoints exists and is not empty.\n",
      "c:\\ProgramData\\miniconda3\\Lib\\site-packages\\torch\\optim\\lr_scheduler.py:60: UserWarning: The verbose parameter is deprecated. Please use get_last_lr() to access the learning rate.\n",
      "  warnings.warn(\n",
      "\n",
      "   | Name                | Type                | Params | Mode \n",
      "---------------------------------------------------------------------\n",
      "0  | train_acc           | MulticlassAccuracy  | 0      | train\n",
      "1  | val_acc             | MulticlassAccuracy  | 0      | train\n",
      "2  | test_acc            | MulticlassAccuracy  | 0      | train\n",
      "3  | train_f1            | MulticlassF1Score   | 0      | train\n",
      "4  | val_f1              | MulticlassF1Score   | 0      | train\n",
      "5  | test_f1             | MulticlassF1Score   | 0      | train\n",
      "6  | test_precision      | MulticlassPrecision | 0      | train\n",
      "7  | test_recall         | MulticlassRecall    | 0      | train\n",
      "8  | node_emb            | Embedding           | 623 K  | train\n",
      "9  | rgcn_layers         | ModuleList          | 2.4 M  | train\n",
      "10 | dropout_layer       | Dropout             | 0      | train\n",
      "11 | classification_head | Sequential          | 8.8 K  | train\n",
      "12 | loss_fn             | CrossEntropyLoss    | 0      | train\n",
      "---------------------------------------------------------------------\n",
      "3.0 M     Trainable params\n",
      "0         Non-trainable params\n",
      "3.0 M     Total params\n",
      "12.167    Total estimated model params size (MB)\n",
      "22        Modules in train mode\n",
      "0         Modules in eval mode\n"
     ]
    },
    {
     "name": "stdout",
     "output_type": "stream",
     "text": [
      "PyTorch Lightning Trainer initialized.\n",
      "Starting model training...\n",
      "Using AdamW optimizer with weight_decay=0.0001\n",
      "Sanity Checking DataLoader 0:   0%|          | 0/1 [00:00<?, ?it/s]"
     ]
    },
    {
     "name": "stderr",
     "output_type": "stream",
     "text": [
      "c:\\ProgramData\\miniconda3\\Lib\\site-packages\\pytorch_lightning\\trainer\\connectors\\data_connector.py:425: The 'val_dataloader' does not have many workers which may be a bottleneck. Consider increasing the value of the `num_workers` argument` to `num_workers=7` in the `DataLoader` to improve performance.\n"
     ]
    },
    {
     "name": "stdout",
     "output_type": "stream",
     "text": [
      "                                                                           "
     ]
    },
    {
     "name": "stderr",
     "output_type": "stream",
     "text": [
      "c:\\ProgramData\\miniconda3\\Lib\\site-packages\\pytorch_lightning\\trainer\\connectors\\data_connector.py:425: The 'train_dataloader' does not have many workers which may be a bottleneck. Consider increasing the value of the `num_workers` argument` to `num_workers=7` in the `DataLoader` to improve performance.\n",
      "c:\\ProgramData\\miniconda3\\Lib\\site-packages\\pytorch_lightning\\loops\\fit_loop.py:310: The number of training batches (1) is smaller than the logging interval Trainer(log_every_n_steps=50). Set a lower value for log_every_n_steps if you want to see logs for the training epoch.\n"
     ]
    },
    {
     "name": "stdout",
     "output_type": "stream",
     "text": [
      "Epoch 0: 100%|██████████| 1/1 [00:01<00:00,  0.61it/s, v_num=49, val_loss=1.700, val_acc=0.310, val_f1=0.175, train_loss=3.100, train_acc=0.198, train_f1=0.0783]"
     ]
    },
    {
     "name": "stderr",
     "output_type": "stream",
     "text": [
      "Metric val_loss improved. New best score: 1.698\n",
      "Epoch 0, global step 1: 'val_loss' reached 1.69752 (best 1.69752), saving model to 'C:\\\\Users\\\\moham\\\\OneDrive\\\\Desktop\\\\spiridon\\\\Spiridon\\\\output\\\\classification_data\\\\etude1_root_classification_data\\\\checkpoints\\\\best-checkpoint-v43.ckpt' as top 1\n"
     ]
    },
    {
     "name": "stdout",
     "output_type": "stream",
     "text": [
      "Epoch 1: 100%|██████████| 1/1 [00:01<00:00,  0.59it/s, v_num=49, val_loss=1.250, val_acc=0.510, val_f1=0.417, train_loss=1.750, train_acc=0.306, train_f1=0.254] "
     ]
    },
    {
     "name": "stderr",
     "output_type": "stream",
     "text": [
      "Metric val_loss improved by 0.445 >= min_delta = 0.0001. New best score: 1.253\n",
      "Epoch 1, global step 2: 'val_loss' reached 1.25250 (best 1.25250), saving model to 'C:\\\\Users\\\\moham\\\\OneDrive\\\\Desktop\\\\spiridon\\\\Spiridon\\\\output\\\\classification_data\\\\etude1_root_classification_data\\\\checkpoints\\\\best-checkpoint-v43.ckpt' as top 1\n"
     ]
    },
    {
     "name": "stdout",
     "output_type": "stream",
     "text": [
      "Epoch 2: 100%|██████████| 1/1 [00:01<00:00,  0.63it/s, v_num=49, val_loss=1.000, val_acc=0.690, val_f1=0.624, train_loss=1.350, train_acc=0.417, train_f1=0.372]"
     ]
    },
    {
     "name": "stderr",
     "output_type": "stream",
     "text": [
      "Metric val_loss improved by 0.252 >= min_delta = 0.0001. New best score: 1.000\n",
      "Epoch 2, global step 3: 'val_loss' reached 1.00037 (best 1.00037), saving model to 'C:\\\\Users\\\\moham\\\\OneDrive\\\\Desktop\\\\spiridon\\\\Spiridon\\\\output\\\\classification_data\\\\etude1_root_classification_data\\\\checkpoints\\\\best-checkpoint-v43.ckpt' as top 1\n"
     ]
    },
    {
     "name": "stdout",
     "output_type": "stream",
     "text": [
      "Epoch 3: 100%|██████████| 1/1 [00:01<00:00,  0.63it/s, v_num=49, val_loss=0.811, val_acc=0.840, val_f1=0.840, train_loss=1.080, train_acc=0.604, train_f1=0.571]"
     ]
    },
    {
     "name": "stderr",
     "output_type": "stream",
     "text": [
      "Metric val_loss improved by 0.189 >= min_delta = 0.0001. New best score: 0.811\n",
      "Epoch 3, global step 4: 'val_loss' reached 0.81099 (best 0.81099), saving model to 'C:\\\\Users\\\\moham\\\\OneDrive\\\\Desktop\\\\spiridon\\\\Spiridon\\\\output\\\\classification_data\\\\etude1_root_classification_data\\\\checkpoints\\\\best-checkpoint-v43.ckpt' as top 1\n"
     ]
    },
    {
     "name": "stdout",
     "output_type": "stream",
     "text": [
      "Epoch 4: 100%|██████████| 1/1 [00:01<00:00,  0.67it/s, v_num=49, val_loss=0.679, val_acc=0.880, val_f1=0.882, train_loss=0.908, train_acc=0.715, train_f1=0.703]"
     ]
    },
    {
     "name": "stderr",
     "output_type": "stream",
     "text": [
      "Metric val_loss improved by 0.132 >= min_delta = 0.0001. New best score: 0.679\n",
      "Epoch 4, global step 5: 'val_loss' reached 0.67889 (best 0.67889), saving model to 'C:\\\\Users\\\\moham\\\\OneDrive\\\\Desktop\\\\spiridon\\\\Spiridon\\\\output\\\\classification_data\\\\etude1_root_classification_data\\\\checkpoints\\\\best-checkpoint-v43.ckpt' as top 1\n"
     ]
    },
    {
     "name": "stdout",
     "output_type": "stream",
     "text": [
      "Epoch 5: 100%|██████████| 1/1 [00:01<00:00,  0.65it/s, v_num=49, val_loss=0.569, val_acc=0.890, val_f1=0.889, train_loss=0.799, train_acc=0.756, train_f1=0.755]"
     ]
    },
    {
     "name": "stderr",
     "output_type": "stream",
     "text": [
      "Metric val_loss improved by 0.110 >= min_delta = 0.0001. New best score: 0.569\n",
      "Epoch 5, global step 6: 'val_loss' reached 0.56880 (best 0.56880), saving model to 'C:\\\\Users\\\\moham\\\\OneDrive\\\\Desktop\\\\spiridon\\\\Spiridon\\\\output\\\\classification_data\\\\etude1_root_classification_data\\\\checkpoints\\\\best-checkpoint-v43.ckpt' as top 1\n"
     ]
    },
    {
     "name": "stdout",
     "output_type": "stream",
     "text": [
      "Epoch 6: 100%|██████████| 1/1 [00:01<00:00,  0.57it/s, v_num=49, val_loss=0.458, val_acc=0.870, val_f1=0.867, train_loss=0.655, train_acc=0.794, train_f1=0.791]"
     ]
    },
    {
     "name": "stderr",
     "output_type": "stream",
     "text": [
      "Metric val_loss improved by 0.111 >= min_delta = 0.0001. New best score: 0.458\n",
      "Epoch 6, global step 7: 'val_loss' reached 0.45818 (best 0.45818), saving model to 'C:\\\\Users\\\\moham\\\\OneDrive\\\\Desktop\\\\spiridon\\\\Spiridon\\\\output\\\\classification_data\\\\etude1_root_classification_data\\\\checkpoints\\\\best-checkpoint-v43.ckpt' as top 1\n"
     ]
    },
    {
     "name": "stdout",
     "output_type": "stream",
     "text": [
      "Epoch 7: 100%|██████████| 1/1 [00:01<00:00,  0.62it/s, v_num=49, val_loss=0.340, val_acc=0.930, val_f1=0.930, train_loss=0.559, train_acc=0.819, train_f1=0.813]"
     ]
    },
    {
     "name": "stderr",
     "output_type": "stream",
     "text": [
      "Metric val_loss improved by 0.118 >= min_delta = 0.0001. New best score: 0.340\n",
      "Epoch 7, global step 8: 'val_loss' reached 0.33994 (best 0.33994), saving model to 'C:\\\\Users\\\\moham\\\\OneDrive\\\\Desktop\\\\spiridon\\\\Spiridon\\\\output\\\\classification_data\\\\etude1_root_classification_data\\\\checkpoints\\\\best-checkpoint-v43.ckpt' as top 1\n"
     ]
    },
    {
     "name": "stdout",
     "output_type": "stream",
     "text": [
      "Epoch 8: 100%|██████████| 1/1 [00:01<00:00,  0.59it/s, v_num=49, val_loss=0.308, val_acc=0.900, val_f1=0.901, train_loss=0.499, train_acc=0.840, train_f1=0.833]"
     ]
    },
    {
     "name": "stderr",
     "output_type": "stream",
     "text": [
      "Metric val_loss improved by 0.032 >= min_delta = 0.0001. New best score: 0.308\n",
      "Epoch 8, global step 9: 'val_loss' reached 0.30763 (best 0.30763), saving model to 'C:\\\\Users\\\\moham\\\\OneDrive\\\\Desktop\\\\spiridon\\\\Spiridon\\\\output\\\\classification_data\\\\etude1_root_classification_data\\\\checkpoints\\\\best-checkpoint-v43.ckpt' as top 1\n"
     ]
    },
    {
     "name": "stdout",
     "output_type": "stream",
     "text": [
      "Epoch 9: 100%|██████████| 1/1 [00:01<00:00,  0.57it/s, v_num=49, val_loss=0.259, val_acc=0.920, val_f1=0.920, train_loss=0.433, train_acc=0.865, train_f1=0.865]"
     ]
    },
    {
     "name": "stderr",
     "output_type": "stream",
     "text": [
      "Metric val_loss improved by 0.049 >= min_delta = 0.0001. New best score: 0.259\n",
      "Epoch 9, global step 10: 'val_loss' reached 0.25908 (best 0.25908), saving model to 'C:\\\\Users\\\\moham\\\\OneDrive\\\\Desktop\\\\spiridon\\\\Spiridon\\\\output\\\\classification_data\\\\etude1_root_classification_data\\\\checkpoints\\\\best-checkpoint-v43.ckpt' as top 1\n"
     ]
    },
    {
     "name": "stdout",
     "output_type": "stream",
     "text": [
      "Epoch 10: 100%|██████████| 1/1 [00:01<00:00,  0.60it/s, v_num=49, val_loss=0.227, val_acc=0.930, val_f1=0.930, train_loss=0.354, train_acc=0.881, train_f1=0.882]"
     ]
    },
    {
     "name": "stderr",
     "output_type": "stream",
     "text": [
      "Metric val_loss improved by 0.032 >= min_delta = 0.0001. New best score: 0.227\n",
      "Epoch 10, global step 11: 'val_loss' reached 0.22681 (best 0.22681), saving model to 'C:\\\\Users\\\\moham\\\\OneDrive\\\\Desktop\\\\spiridon\\\\Spiridon\\\\output\\\\classification_data\\\\etude1_root_classification_data\\\\checkpoints\\\\best-checkpoint-v43.ckpt' as top 1\n"
     ]
    },
    {
     "name": "stdout",
     "output_type": "stream",
     "text": [
      "Epoch 11: 100%|██████████| 1/1 [00:01<00:00,  0.56it/s, v_num=49, val_loss=0.232, val_acc=0.940, val_f1=0.940, train_loss=0.288, train_acc=0.906, train_f1=0.906]"
     ]
    },
    {
     "name": "stderr",
     "output_type": "stream",
     "text": [
      "Epoch 11, global step 12: 'val_loss' was not in top 1\n"
     ]
    },
    {
     "name": "stdout",
     "output_type": "stream",
     "text": [
      "Epoch 12: 100%|██████████| 1/1 [00:01<00:00,  0.56it/s, v_num=49, val_loss=0.220, val_acc=0.950, val_f1=0.950, train_loss=0.296, train_acc=0.900, train_f1=0.901]"
     ]
    },
    {
     "name": "stderr",
     "output_type": "stream",
     "text": [
      "Metric val_loss improved by 0.007 >= min_delta = 0.0001. New best score: 0.220\n",
      "Epoch 12, global step 13: 'val_loss' reached 0.21994 (best 0.21994), saving model to 'C:\\\\Users\\\\moham\\\\OneDrive\\\\Desktop\\\\spiridon\\\\Spiridon\\\\output\\\\classification_data\\\\etude1_root_classification_data\\\\checkpoints\\\\best-checkpoint-v43.ckpt' as top 1\n"
     ]
    },
    {
     "name": "stdout",
     "output_type": "stream",
     "text": [
      "Epoch 13: 100%|██████████| 1/1 [00:01<00:00,  0.52it/s, v_num=49, val_loss=0.172, val_acc=0.950, val_f1=0.950, train_loss=0.249, train_acc=0.942, train_f1=0.942]"
     ]
    },
    {
     "name": "stderr",
     "output_type": "stream",
     "text": [
      "Metric val_loss improved by 0.048 >= min_delta = 0.0001. New best score: 0.172\n",
      "Epoch 13, global step 14: 'val_loss' reached 0.17231 (best 0.17231), saving model to 'C:\\\\Users\\\\moham\\\\OneDrive\\\\Desktop\\\\spiridon\\\\Spiridon\\\\output\\\\classification_data\\\\etude1_root_classification_data\\\\checkpoints\\\\best-checkpoint-v43.ckpt' as top 1\n"
     ]
    },
    {
     "name": "stdout",
     "output_type": "stream",
     "text": [
      "Epoch 14: 100%|██████████| 1/1 [00:01<00:00,  0.53it/s, v_num=49, val_loss=0.135, val_acc=0.950, val_f1=0.950, train_loss=0.182, train_acc=0.950, train_f1=0.950]"
     ]
    },
    {
     "name": "stderr",
     "output_type": "stream",
     "text": [
      "Metric val_loss improved by 0.037 >= min_delta = 0.0001. New best score: 0.135\n",
      "Epoch 14, global step 15: 'val_loss' reached 0.13501 (best 0.13501), saving model to 'C:\\\\Users\\\\moham\\\\OneDrive\\\\Desktop\\\\spiridon\\\\Spiridon\\\\output\\\\classification_data\\\\etude1_root_classification_data\\\\checkpoints\\\\best-checkpoint-v43.ckpt' as top 1\n"
     ]
    },
    {
     "name": "stdout",
     "output_type": "stream",
     "text": [
      "Epoch 15: 100%|██████████| 1/1 [00:01<00:00,  0.54it/s, v_num=49, val_loss=0.115, val_acc=0.960, val_f1=0.960, train_loss=0.204, train_acc=0.935, train_f1=0.935]"
     ]
    },
    {
     "name": "stderr",
     "output_type": "stream",
     "text": [
      "Metric val_loss improved by 0.020 >= min_delta = 0.0001. New best score: 0.115\n",
      "Epoch 15, global step 16: 'val_loss' reached 0.11468 (best 0.11468), saving model to 'C:\\\\Users\\\\moham\\\\OneDrive\\\\Desktop\\\\spiridon\\\\Spiridon\\\\output\\\\classification_data\\\\etude1_root_classification_data\\\\checkpoints\\\\best-checkpoint-v43.ckpt' as top 1\n"
     ]
    },
    {
     "name": "stdout",
     "output_type": "stream",
     "text": [
      "Epoch 16: 100%|██████████| 1/1 [00:02<00:00,  0.46it/s, v_num=49, val_loss=0.106, val_acc=0.980, val_f1=0.980, train_loss=0.179, train_acc=0.950, train_f1=0.950]"
     ]
    },
    {
     "name": "stderr",
     "output_type": "stream",
     "text": [
      "Metric val_loss improved by 0.008 >= min_delta = 0.0001. New best score: 0.106\n",
      "Epoch 16, global step 17: 'val_loss' reached 0.10634 (best 0.10634), saving model to 'C:\\\\Users\\\\moham\\\\OneDrive\\\\Desktop\\\\spiridon\\\\Spiridon\\\\output\\\\classification_data\\\\etude1_root_classification_data\\\\checkpoints\\\\best-checkpoint-v43.ckpt' as top 1\n"
     ]
    },
    {
     "name": "stdout",
     "output_type": "stream",
     "text": [
      "Epoch 17: 100%|██████████| 1/1 [00:01<00:00,  0.53it/s, v_num=49, val_loss=0.0942, val_acc=0.990, val_f1=0.990, train_loss=0.174, train_acc=0.940, train_f1=0.940]"
     ]
    },
    {
     "name": "stderr",
     "output_type": "stream",
     "text": [
      "Metric val_loss improved by 0.012 >= min_delta = 0.0001. New best score: 0.094\n",
      "Epoch 17, global step 18: 'val_loss' reached 0.09421 (best 0.09421), saving model to 'C:\\\\Users\\\\moham\\\\OneDrive\\\\Desktop\\\\spiridon\\\\Spiridon\\\\output\\\\classification_data\\\\etude1_root_classification_data\\\\checkpoints\\\\best-checkpoint-v43.ckpt' as top 1\n"
     ]
    },
    {
     "name": "stdout",
     "output_type": "stream",
     "text": [
      "Epoch 18: 100%|██████████| 1/1 [00:01<00:00,  0.51it/s, v_num=49, val_loss=0.104, val_acc=0.970, val_f1=0.970, train_loss=0.124, train_acc=0.971, train_f1=0.971] "
     ]
    },
    {
     "name": "stderr",
     "output_type": "stream",
     "text": [
      "Epoch 18, global step 19: 'val_loss' was not in top 1\n"
     ]
    },
    {
     "name": "stdout",
     "output_type": "stream",
     "text": [
      "Epoch 19: 100%|██████████| 1/1 [00:02<00:00,  0.48it/s, v_num=49, val_loss=0.102, val_acc=0.960, val_f1=0.960, train_loss=0.127, train_acc=0.969, train_f1=0.969]"
     ]
    },
    {
     "name": "stderr",
     "output_type": "stream",
     "text": [
      "Epoch 19, global step 20: 'val_loss' was not in top 1\n"
     ]
    },
    {
     "name": "stdout",
     "output_type": "stream",
     "text": [
      "Epoch 20: 100%|██████████| 1/1 [00:02<00:00,  0.46it/s, v_num=49, val_loss=0.0906, val_acc=0.970, val_f1=0.970, train_loss=0.105, train_acc=0.971, train_f1=0.971]"
     ]
    },
    {
     "name": "stderr",
     "output_type": "stream",
     "text": [
      "Metric val_loss improved by 0.004 >= min_delta = 0.0001. New best score: 0.091\n",
      "Epoch 20, global step 21: 'val_loss' reached 0.09056 (best 0.09056), saving model to 'C:\\\\Users\\\\moham\\\\OneDrive\\\\Desktop\\\\spiridon\\\\Spiridon\\\\output\\\\classification_data\\\\etude1_root_classification_data\\\\checkpoints\\\\best-checkpoint-v43.ckpt' as top 1\n"
     ]
    },
    {
     "name": "stdout",
     "output_type": "stream",
     "text": [
      "Epoch 21: 100%|██████████| 1/1 [00:02<00:00,  0.48it/s, v_num=49, val_loss=0.0747, val_acc=0.980, val_f1=0.980, train_loss=0.115, train_acc=0.971, train_f1=0.971]"
     ]
    },
    {
     "name": "stderr",
     "output_type": "stream",
     "text": [
      "Metric val_loss improved by 0.016 >= min_delta = 0.0001. New best score: 0.075\n",
      "Epoch 21, global step 22: 'val_loss' reached 0.07468 (best 0.07468), saving model to 'C:\\\\Users\\\\moham\\\\OneDrive\\\\Desktop\\\\spiridon\\\\Spiridon\\\\output\\\\classification_data\\\\etude1_root_classification_data\\\\checkpoints\\\\best-checkpoint-v43.ckpt' as top 1\n"
     ]
    },
    {
     "name": "stdout",
     "output_type": "stream",
     "text": [
      "Epoch 22: 100%|██████████| 1/1 [00:01<00:00,  0.53it/s, v_num=49, val_loss=0.0681, val_acc=0.970, val_f1=0.970, train_loss=0.0816, train_acc=0.981, train_f1=0.981]"
     ]
    },
    {
     "name": "stderr",
     "output_type": "stream",
     "text": [
      "Metric val_loss improved by 0.007 >= min_delta = 0.0001. New best score: 0.068\n",
      "Epoch 22, global step 23: 'val_loss' reached 0.06809 (best 0.06809), saving model to 'C:\\\\Users\\\\moham\\\\OneDrive\\\\Desktop\\\\spiridon\\\\Spiridon\\\\output\\\\classification_data\\\\etude1_root_classification_data\\\\checkpoints\\\\best-checkpoint-v43.ckpt' as top 1\n"
     ]
    },
    {
     "name": "stdout",
     "output_type": "stream",
     "text": [
      "Epoch 23: 100%|██████████| 1/1 [00:02<00:00,  0.39it/s, v_num=49, val_loss=0.0558, val_acc=0.990, val_f1=0.990, train_loss=0.083, train_acc=0.973, train_f1=0.973] "
     ]
    },
    {
     "name": "stderr",
     "output_type": "stream",
     "text": [
      "Metric val_loss improved by 0.012 >= min_delta = 0.0001. New best score: 0.056\n",
      "Epoch 23, global step 24: 'val_loss' reached 0.05582 (best 0.05582), saving model to 'C:\\\\Users\\\\moham\\\\OneDrive\\\\Desktop\\\\spiridon\\\\Spiridon\\\\output\\\\classification_data\\\\etude1_root_classification_data\\\\checkpoints\\\\best-checkpoint-v43.ckpt' as top 1\n"
     ]
    },
    {
     "name": "stdout",
     "output_type": "stream",
     "text": [
      "Epoch 24: 100%|██████████| 1/1 [00:01<00:00,  0.51it/s, v_num=49, val_loss=0.045, val_acc=0.990, val_f1=0.990, train_loss=0.0808, train_acc=0.983, train_f1=0.983]"
     ]
    },
    {
     "name": "stderr",
     "output_type": "stream",
     "text": [
      "Metric val_loss improved by 0.011 >= min_delta = 0.0001. New best score: 0.045\n",
      "Epoch 24, global step 25: 'val_loss' reached 0.04500 (best 0.04500), saving model to 'C:\\\\Users\\\\moham\\\\OneDrive\\\\Desktop\\\\spiridon\\\\Spiridon\\\\output\\\\classification_data\\\\etude1_root_classification_data\\\\checkpoints\\\\best-checkpoint-v43.ckpt' as top 1\n"
     ]
    },
    {
     "name": "stdout",
     "output_type": "stream",
     "text": [
      "Epoch 25: 100%|██████████| 1/1 [00:02<00:00,  0.47it/s, v_num=49, val_loss=0.0367, val_acc=0.990, val_f1=0.990, train_loss=0.0856, train_acc=0.977, train_f1=0.977]"
     ]
    },
    {
     "name": "stderr",
     "output_type": "stream",
     "text": [
      "Metric val_loss improved by 0.008 >= min_delta = 0.0001. New best score: 0.037\n",
      "Epoch 25, global step 26: 'val_loss' reached 0.03669 (best 0.03669), saving model to 'C:\\\\Users\\\\moham\\\\OneDrive\\\\Desktop\\\\spiridon\\\\Spiridon\\\\output\\\\classification_data\\\\etude1_root_classification_data\\\\checkpoints\\\\best-checkpoint-v43.ckpt' as top 1\n"
     ]
    },
    {
     "name": "stdout",
     "output_type": "stream",
     "text": [
      "Epoch 26: 100%|██████████| 1/1 [00:02<00:00,  0.46it/s, v_num=49, val_loss=0.0456, val_acc=0.970, val_f1=0.970, train_loss=0.0605, train_acc=0.990, train_f1=0.990]"
     ]
    },
    {
     "name": "stderr",
     "output_type": "stream",
     "text": [
      "Epoch 26, global step 27: 'val_loss' was not in top 1\n"
     ]
    },
    {
     "name": "stdout",
     "output_type": "stream",
     "text": [
      "Epoch 27: 100%|██████████| 1/1 [00:02<00:00,  0.50it/s, v_num=49, val_loss=0.0586, val_acc=0.960, val_f1=0.960, train_loss=0.0774, train_acc=0.979, train_f1=0.979]"
     ]
    },
    {
     "name": "stderr",
     "output_type": "stream",
     "text": [
      "Epoch 27, global step 28: 'val_loss' was not in top 1\n"
     ]
    },
    {
     "name": "stdout",
     "output_type": "stream",
     "text": [
      "Epoch 28: 100%|██████████| 1/1 [00:02<00:00,  0.46it/s, v_num=49, val_loss=0.0658, val_acc=0.980, val_f1=0.980, train_loss=0.0929, train_acc=0.977, train_f1=0.977]"
     ]
    },
    {
     "name": "stderr",
     "output_type": "stream",
     "text": [
      "Epoch 28, global step 29: 'val_loss' was not in top 1\n"
     ]
    },
    {
     "name": "stdout",
     "output_type": "stream",
     "text": [
      "Epoch 29: 100%|██████████| 1/1 [00:02<00:00,  0.48it/s, v_num=49, val_loss=0.0781, val_acc=0.980, val_f1=0.980, train_loss=0.0504, train_acc=0.988, train_f1=0.987]"
     ]
    },
    {
     "name": "stderr",
     "output_type": "stream",
     "text": [
      "Epoch 29, global step 30: 'val_loss' was not in top 1\n"
     ]
    },
    {
     "name": "stdout",
     "output_type": "stream",
     "text": [
      "Epoch 30: 100%|██████████| 1/1 [00:02<00:00,  0.42it/s, v_num=49, val_loss=0.094, val_acc=0.970, val_f1=0.969, train_loss=0.0485, train_acc=0.988, train_f1=0.987] "
     ]
    },
    {
     "name": "stderr",
     "output_type": "stream",
     "text": [
      "Epoch 30, global step 31: 'val_loss' was not in top 1\n"
     ]
    },
    {
     "name": "stdout",
     "output_type": "stream",
     "text": [
      "Epoch 31: 100%|██████████| 1/1 [00:02<00:00,  0.50it/s, v_num=49, val_loss=0.0817, val_acc=0.970, val_f1=0.969, train_loss=0.0522, train_acc=0.988, train_f1=0.987]"
     ]
    },
    {
     "name": "stderr",
     "output_type": "stream",
     "text": [
      "Epoch 31, global step 32: 'val_loss' was not in top 1\n"
     ]
    },
    {
     "name": "stdout",
     "output_type": "stream",
     "text": [
      "Epoch 32: 100%|██████████| 1/1 [00:02<00:00,  0.49it/s, v_num=49, val_loss=0.0762, val_acc=0.970, val_f1=0.969, train_loss=0.0367, train_acc=0.990, train_f1=0.990]"
     ]
    },
    {
     "name": "stderr",
     "output_type": "stream",
     "text": [
      "Epoch 32, global step 33: 'val_loss' was not in top 1\n"
     ]
    },
    {
     "name": "stdout",
     "output_type": "stream",
     "text": [
      "Epoch 33: 100%|██████████| 1/1 [00:02<00:00,  0.41it/s, v_num=49, val_loss=0.0474, val_acc=0.990, val_f1=0.990, train_loss=0.055, train_acc=0.985, train_f1=0.985] "
     ]
    },
    {
     "name": "stderr",
     "output_type": "stream",
     "text": [
      "Epoch 33, global step 34: 'val_loss' was not in top 1\n"
     ]
    },
    {
     "name": "stdout",
     "output_type": "stream",
     "text": [
      "Epoch 34: 100%|██████████| 1/1 [00:02<00:00,  0.50it/s, v_num=49, val_loss=0.0356, val_acc=0.990, val_f1=0.990, train_loss=0.0295, train_acc=0.992, train_f1=0.992]"
     ]
    },
    {
     "name": "stderr",
     "output_type": "stream",
     "text": [
      "Metric val_loss improved by 0.001 >= min_delta = 0.0001. New best score: 0.036\n",
      "Epoch 34, global step 35: 'val_loss' reached 0.03564 (best 0.03564), saving model to 'C:\\\\Users\\\\moham\\\\OneDrive\\\\Desktop\\\\spiridon\\\\Spiridon\\\\output\\\\classification_data\\\\etude1_root_classification_data\\\\checkpoints\\\\best-checkpoint-v43.ckpt' as top 1\n"
     ]
    },
    {
     "name": "stdout",
     "output_type": "stream",
     "text": [
      "Epoch 35: 100%|██████████| 1/1 [00:02<00:00,  0.47it/s, v_num=49, val_loss=0.0329, val_acc=0.990, val_f1=0.990, train_loss=0.0289, train_acc=0.994, train_f1=0.994]"
     ]
    },
    {
     "name": "stderr",
     "output_type": "stream",
     "text": [
      "Metric val_loss improved by 0.003 >= min_delta = 0.0001. New best score: 0.033\n",
      "Epoch 35, global step 36: 'val_loss' reached 0.03287 (best 0.03287), saving model to 'C:\\\\Users\\\\moham\\\\OneDrive\\\\Desktop\\\\spiridon\\\\Spiridon\\\\output\\\\classification_data\\\\etude1_root_classification_data\\\\checkpoints\\\\best-checkpoint-v43.ckpt' as top 1\n"
     ]
    },
    {
     "name": "stdout",
     "output_type": "stream",
     "text": [
      "Epoch 36: 100%|██████████| 1/1 [00:02<00:00,  0.49it/s, v_num=49, val_loss=0.0317, val_acc=0.990, val_f1=0.990, train_loss=0.0434, train_acc=0.994, train_f1=0.994]"
     ]
    },
    {
     "name": "stderr",
     "output_type": "stream",
     "text": [
      "Metric val_loss improved by 0.001 >= min_delta = 0.0001. New best score: 0.032\n",
      "Epoch 36, global step 37: 'val_loss' reached 0.03167 (best 0.03167), saving model to 'C:\\\\Users\\\\moham\\\\OneDrive\\\\Desktop\\\\spiridon\\\\Spiridon\\\\output\\\\classification_data\\\\etude1_root_classification_data\\\\checkpoints\\\\best-checkpoint-v43.ckpt' as top 1\n"
     ]
    },
    {
     "name": "stdout",
     "output_type": "stream",
     "text": [
      "Epoch 37: 100%|██████████| 1/1 [00:02<00:00,  0.47it/s, v_num=49, val_loss=0.0372, val_acc=0.990, val_f1=0.990, train_loss=0.0239, train_acc=0.992, train_f1=0.992]"
     ]
    },
    {
     "name": "stderr",
     "output_type": "stream",
     "text": [
      "Epoch 37, global step 38: 'val_loss' was not in top 1\n"
     ]
    },
    {
     "name": "stdout",
     "output_type": "stream",
     "text": [
      "Epoch 38: 100%|██████████| 1/1 [00:02<00:00,  0.47it/s, v_num=49, val_loss=0.0407, val_acc=0.990, val_f1=0.990, train_loss=0.0313, train_acc=0.992, train_f1=0.992]"
     ]
    },
    {
     "name": "stderr",
     "output_type": "stream",
     "text": [
      "Epoch 38, global step 39: 'val_loss' was not in top 1\n"
     ]
    },
    {
     "name": "stdout",
     "output_type": "stream",
     "text": [
      "Epoch 39: 100%|██████████| 1/1 [00:02<00:00,  0.49it/s, v_num=49, val_loss=0.0381, val_acc=0.990, val_f1=0.990, train_loss=0.0284, train_acc=0.994, train_f1=0.994]"
     ]
    },
    {
     "name": "stderr",
     "output_type": "stream",
     "text": [
      "Epoch 39, global step 40: 'val_loss' was not in top 1\n"
     ]
    },
    {
     "name": "stdout",
     "output_type": "stream",
     "text": [
      "Epoch 40: 100%|██████████| 1/1 [00:02<00:00,  0.42it/s, v_num=49, val_loss=0.0373, val_acc=0.990, val_f1=0.990, train_loss=0.0184, train_acc=0.994, train_f1=0.994]"
     ]
    },
    {
     "name": "stderr",
     "output_type": "stream",
     "text": [
      "Epoch 40, global step 41: 'val_loss' was not in top 1\n"
     ]
    },
    {
     "name": "stdout",
     "output_type": "stream",
     "text": [
      "Epoch 41: 100%|██████████| 1/1 [00:02<00:00,  0.48it/s, v_num=49, val_loss=0.0377, val_acc=0.990, val_f1=0.990, train_loss=0.0244, train_acc=0.992, train_f1=0.992]"
     ]
    },
    {
     "name": "stderr",
     "output_type": "stream",
     "text": [
      "Epoch 41, global step 42: 'val_loss' was not in top 1\n"
     ]
    },
    {
     "name": "stdout",
     "output_type": "stream",
     "text": [
      "Epoch 42: 100%|██████████| 1/1 [00:02<00:00,  0.49it/s, v_num=49, val_loss=0.0384, val_acc=0.990, val_f1=0.990, train_loss=0.0224, train_acc=0.992, train_f1=0.992]"
     ]
    },
    {
     "name": "stderr",
     "output_type": "stream",
     "text": [
      "Epoch 42, global step 43: 'val_loss' was not in top 1\n"
     ]
    },
    {
     "name": "stdout",
     "output_type": "stream",
     "text": [
      "Epoch 43: 100%|██████████| 1/1 [00:02<00:00,  0.42it/s, v_num=49, val_loss=0.0405, val_acc=0.990, val_f1=0.990, train_loss=0.0166, train_acc=0.998, train_f1=0.998]"
     ]
    },
    {
     "name": "stderr",
     "output_type": "stream",
     "text": [
      "Epoch 43, global step 44: 'val_loss' was not in top 1\n"
     ]
    },
    {
     "name": "stdout",
     "output_type": "stream",
     "text": [
      "Epoch 44: 100%|██████████| 1/1 [00:01<00:00,  0.50it/s, v_num=49, val_loss=0.0447, val_acc=0.980, val_f1=0.980, train_loss=0.0147, train_acc=0.998, train_f1=0.998]"
     ]
    },
    {
     "name": "stderr",
     "output_type": "stream",
     "text": [
      "Epoch 44, global step 45: 'val_loss' was not in top 1\n"
     ]
    },
    {
     "name": "stdout",
     "output_type": "stream",
     "text": [
      "Epoch 45: 100%|██████████| 1/1 [00:02<00:00,  0.45it/s, v_num=49, val_loss=0.0486, val_acc=0.980, val_f1=0.980, train_loss=0.0175, train_acc=0.996, train_f1=0.996]"
     ]
    },
    {
     "name": "stderr",
     "output_type": "stream",
     "text": [
      "Epoch 45, global step 46: 'val_loss' was not in top 1\n"
     ]
    },
    {
     "name": "stdout",
     "output_type": "stream",
     "text": [
      "Epoch 46: 100%|██████████| 1/1 [00:02<00:00,  0.45it/s, v_num=49, val_loss=0.0502, val_acc=0.980, val_f1=0.980, train_loss=0.0141, train_acc=0.998, train_f1=0.998]"
     ]
    },
    {
     "name": "stderr",
     "output_type": "stream",
     "text": [
      "Epoch 46, global step 47: 'val_loss' was not in top 1\n"
     ]
    },
    {
     "name": "stdout",
     "output_type": "stream",
     "text": [
      "Epoch 47: 100%|██████████| 1/1 [00:02<00:00,  0.44it/s, v_num=49, val_loss=0.0447, val_acc=0.980, val_f1=0.980, train_loss=0.0196, train_acc=0.998, train_f1=0.998]"
     ]
    },
    {
     "name": "stderr",
     "output_type": "stream",
     "text": [
      "Epoch 47, global step 48: 'val_loss' was not in top 1\n"
     ]
    },
    {
     "name": "stdout",
     "output_type": "stream",
     "text": [
      "Epoch 48: 100%|██████████| 1/1 [00:02<00:00,  0.45it/s, v_num=49, val_loss=0.0455, val_acc=0.980, val_f1=0.980, train_loss=0.0122, train_acc=0.998, train_f1=0.998]"
     ]
    },
    {
     "name": "stderr",
     "output_type": "stream",
     "text": [
      "Epoch 48, global step 49: 'val_loss' was not in top 1\n"
     ]
    },
    {
     "name": "stdout",
     "output_type": "stream",
     "text": [
      "Epoch 49: 100%|██████████| 1/1 [00:02<00:00,  0.50it/s, v_num=49, val_loss=0.046, val_acc=0.980, val_f1=0.980, train_loss=0.00672, train_acc=1.000, train_f1=1.000]"
     ]
    },
    {
     "name": "stderr",
     "output_type": "stream",
     "text": [
      "Epoch 49, global step 50: 'val_loss' was not in top 1\n"
     ]
    },
    {
     "name": "stdout",
     "output_type": "stream",
     "text": [
      "Epoch 50: 100%|██████████| 1/1 [00:02<00:00,  0.40it/s, v_num=49, val_loss=0.0471, val_acc=0.980, val_f1=0.980, train_loss=0.0119, train_acc=0.998, train_f1=0.998] "
     ]
    },
    {
     "name": "stderr",
     "output_type": "stream",
     "text": [
      "Epoch 50, global step 51: 'val_loss' was not in top 1\n"
     ]
    },
    {
     "name": "stdout",
     "output_type": "stream",
     "text": [
      "Epoch 51: 100%|██████████| 1/1 [00:02<00:00,  0.49it/s, v_num=49, val_loss=0.0466, val_acc=0.980, val_f1=0.980, train_loss=0.00889, train_acc=1.000, train_f1=1.000]"
     ]
    },
    {
     "name": "stderr",
     "output_type": "stream",
     "text": [
      "Epoch 51, global step 52: 'val_loss' was not in top 1\n"
     ]
    },
    {
     "name": "stdout",
     "output_type": "stream",
     "text": [
      "Epoch 52: 100%|██████████| 1/1 [00:02<00:00,  0.49it/s, v_num=49, val_loss=0.046, val_acc=0.980, val_f1=0.980, train_loss=0.0143, train_acc=0.996, train_f1=0.996]  "
     ]
    },
    {
     "name": "stderr",
     "output_type": "stream",
     "text": [
      "Epoch 52, global step 53: 'val_loss' was not in top 1\n"
     ]
    },
    {
     "name": "stdout",
     "output_type": "stream",
     "text": [
      "Epoch 53: 100%|██████████| 1/1 [00:02<00:00,  0.45it/s, v_num=49, val_loss=0.0468, val_acc=0.980, val_f1=0.980, train_loss=0.0113, train_acc=0.996, train_f1=0.996]"
     ]
    },
    {
     "name": "stderr",
     "output_type": "stream",
     "text": [
      "Epoch 53, global step 54: 'val_loss' was not in top 1\n"
     ]
    },
    {
     "name": "stdout",
     "output_type": "stream",
     "text": [
      "Epoch 54: 100%|██████████| 1/1 [00:02<00:00,  0.45it/s, v_num=49, val_loss=0.0496, val_acc=0.980, val_f1=0.980, train_loss=0.00584, train_acc=1.000, train_f1=1.000]"
     ]
    },
    {
     "name": "stderr",
     "output_type": "stream",
     "text": [
      "Epoch 54, global step 55: 'val_loss' was not in top 1\n"
     ]
    },
    {
     "name": "stdout",
     "output_type": "stream",
     "text": [
      "Epoch 55: 100%|██████████| 1/1 [00:02<00:00,  0.46it/s, v_num=49, val_loss=0.0567, val_acc=0.980, val_f1=0.980, train_loss=0.00878, train_acc=0.996, train_f1=0.996]"
     ]
    },
    {
     "name": "stderr",
     "output_type": "stream",
     "text": [
      "Epoch 55, global step 56: 'val_loss' was not in top 1\n"
     ]
    },
    {
     "name": "stdout",
     "output_type": "stream",
     "text": [
      "Epoch 56: 100%|██████████| 1/1 [00:02<00:00,  0.46it/s, v_num=49, val_loss=0.0661, val_acc=0.980, val_f1=0.980, train_loss=0.00552, train_acc=1.000, train_f1=1.000]"
     ]
    },
    {
     "name": "stderr",
     "output_type": "stream",
     "text": [
      "Epoch 56, global step 57: 'val_loss' was not in top 1\n"
     ]
    },
    {
     "name": "stdout",
     "output_type": "stream",
     "text": [
      "Epoch 57: 100%|██████████| 1/1 [00:02<00:00,  0.44it/s, v_num=49, val_loss=0.0813, val_acc=0.970, val_f1=0.969, train_loss=0.00523, train_acc=1.000, train_f1=1.000]"
     ]
    },
    {
     "name": "stderr",
     "output_type": "stream",
     "text": [
      "Epoch 57, global step 58: 'val_loss' was not in top 1\n"
     ]
    },
    {
     "name": "stdout",
     "output_type": "stream",
     "text": [
      "Epoch 58: 100%|██████████| 1/1 [00:02<00:00,  0.46it/s, v_num=49, val_loss=0.0996, val_acc=0.960, val_f1=0.958, train_loss=0.00584, train_acc=1.000, train_f1=1.000]"
     ]
    },
    {
     "name": "stderr",
     "output_type": "stream",
     "text": [
      "Epoch 58, global step 59: 'val_loss' was not in top 1\n"
     ]
    },
    {
     "name": "stdout",
     "output_type": "stream",
     "text": [
      "Epoch 59: 100%|██████████| 1/1 [00:02<00:00,  0.49it/s, v_num=49, val_loss=0.0916, val_acc=0.970, val_f1=0.969, train_loss=0.015, train_acc=0.994, train_f1=0.994]  "
     ]
    },
    {
     "name": "stderr",
     "output_type": "stream",
     "text": [
      "Epoch 59, global step 60: 'val_loss' was not in top 1\n"
     ]
    },
    {
     "name": "stdout",
     "output_type": "stream",
     "text": [
      "Epoch 60: 100%|██████████| 1/1 [00:02<00:00,  0.46it/s, v_num=49, val_loss=0.0754, val_acc=0.970, val_f1=0.969, train_loss=0.0128, train_acc=1.000, train_f1=1.000]"
     ]
    },
    {
     "name": "stderr",
     "output_type": "stream",
     "text": [
      "Epoch 60, global step 61: 'val_loss' was not in top 1\n"
     ]
    },
    {
     "name": "stdout",
     "output_type": "stream",
     "text": [
      "Epoch 61: 100%|██████████| 1/1 [00:02<00:00,  0.44it/s, v_num=49, val_loss=0.0627, val_acc=0.980, val_f1=0.980, train_loss=0.00887, train_acc=0.998, train_f1=0.998]"
     ]
    },
    {
     "name": "stderr",
     "output_type": "stream",
     "text": [
      "Epoch 61, global step 62: 'val_loss' was not in top 1\n"
     ]
    },
    {
     "name": "stdout",
     "output_type": "stream",
     "text": [
      "Epoch 62: 100%|██████████| 1/1 [00:02<00:00,  0.49it/s, v_num=49, val_loss=0.0526, val_acc=0.980, val_f1=0.980, train_loss=0.00619, train_acc=0.998, train_f1=0.998]"
     ]
    },
    {
     "name": "stderr",
     "output_type": "stream",
     "text": [
      "Epoch 62, global step 63: 'val_loss' was not in top 1\n"
     ]
    },
    {
     "name": "stdout",
     "output_type": "stream",
     "text": [
      "Epoch 63: 100%|██████████| 1/1 [00:02<00:00,  0.45it/s, v_num=49, val_loss=0.045, val_acc=0.980, val_f1=0.980, train_loss=0.00511, train_acc=1.000, train_f1=1.000] "
     ]
    },
    {
     "name": "stderr",
     "output_type": "stream",
     "text": [
      "Epoch 63, global step 64: 'val_loss' was not in top 1\n"
     ]
    },
    {
     "name": "stdout",
     "output_type": "stream",
     "text": [
      "Epoch 64: 100%|██████████| 1/1 [00:02<00:00,  0.49it/s, v_num=49, val_loss=0.0395, val_acc=0.980, val_f1=0.980, train_loss=0.00292, train_acc=1.000, train_f1=1.000]"
     ]
    },
    {
     "name": "stderr",
     "output_type": "stream",
     "text": [
      "Epoch 64, global step 65: 'val_loss' was not in top 1\n"
     ]
    },
    {
     "name": "stdout",
     "output_type": "stream",
     "text": [
      "Epoch 65: 100%|██████████| 1/1 [00:02<00:00,  0.43it/s, v_num=49, val_loss=0.0356, val_acc=0.980, val_f1=0.980, train_loss=0.00448, train_acc=1.000, train_f1=1.000]"
     ]
    },
    {
     "name": "stderr",
     "output_type": "stream",
     "text": [
      "Epoch 65, global step 66: 'val_loss' was not in top 1\n"
     ]
    },
    {
     "name": "stdout",
     "output_type": "stream",
     "text": [
      "Epoch 66: 100%|██████████| 1/1 [00:02<00:00,  0.48it/s, v_num=49, val_loss=0.0327, val_acc=0.980, val_f1=0.980, train_loss=0.00406, train_acc=1.000, train_f1=1.000]"
     ]
    },
    {
     "name": "stderr",
     "output_type": "stream",
     "text": [
      "Epoch 66, global step 67: 'val_loss' was not in top 1\n"
     ]
    },
    {
     "name": "stdout",
     "output_type": "stream",
     "text": [
      "Epoch 67: 100%|██████████| 1/1 [00:02<00:00,  0.50it/s, v_num=49, val_loss=0.0306, val_acc=0.980, val_f1=0.980, train_loss=0.00508, train_acc=1.000, train_f1=1.000]"
     ]
    },
    {
     "name": "stderr",
     "output_type": "stream",
     "text": [
      "Metric val_loss improved by 0.001 >= min_delta = 0.0001. New best score: 0.031\n",
      "Epoch 67, global step 68: 'val_loss' reached 0.03060 (best 0.03060), saving model to 'C:\\\\Users\\\\moham\\\\OneDrive\\\\Desktop\\\\spiridon\\\\Spiridon\\\\output\\\\classification_data\\\\etude1_root_classification_data\\\\checkpoints\\\\best-checkpoint-v43.ckpt' as top 1\n"
     ]
    },
    {
     "name": "stdout",
     "output_type": "stream",
     "text": [
      "Epoch 68: 100%|██████████| 1/1 [00:02<00:00,  0.37it/s, v_num=49, val_loss=0.0297, val_acc=0.980, val_f1=0.980, train_loss=0.00544, train_acc=1.000, train_f1=1.000]"
     ]
    },
    {
     "name": "stderr",
     "output_type": "stream",
     "text": [
      "Metric val_loss improved by 0.001 >= min_delta = 0.0001. New best score: 0.030\n",
      "Epoch 68, global step 69: 'val_loss' reached 0.02967 (best 0.02967), saving model to 'C:\\\\Users\\\\moham\\\\OneDrive\\\\Desktop\\\\spiridon\\\\Spiridon\\\\output\\\\classification_data\\\\etude1_root_classification_data\\\\checkpoints\\\\best-checkpoint-v43.ckpt' as top 1\n"
     ]
    },
    {
     "name": "stdout",
     "output_type": "stream",
     "text": [
      "Epoch 69: 100%|██████████| 1/1 [00:02<00:00,  0.49it/s, v_num=49, val_loss=0.029, val_acc=0.980, val_f1=0.980, train_loss=0.00376, train_acc=1.000, train_f1=1.000] "
     ]
    },
    {
     "name": "stderr",
     "output_type": "stream",
     "text": [
      "Metric val_loss improved by 0.001 >= min_delta = 0.0001. New best score: 0.029\n",
      "Epoch 69, global step 70: 'val_loss' reached 0.02904 (best 0.02904), saving model to 'C:\\\\Users\\\\moham\\\\OneDrive\\\\Desktop\\\\spiridon\\\\Spiridon\\\\output\\\\classification_data\\\\etude1_root_classification_data\\\\checkpoints\\\\best-checkpoint-v43.ckpt' as top 1\n"
     ]
    },
    {
     "name": "stdout",
     "output_type": "stream",
     "text": [
      "Epoch 70: 100%|██████████| 1/1 [00:02<00:00,  0.45it/s, v_num=49, val_loss=0.0287, val_acc=0.990, val_f1=0.990, train_loss=0.00565, train_acc=1.000, train_f1=1.000]"
     ]
    },
    {
     "name": "stderr",
     "output_type": "stream",
     "text": [
      "Metric val_loss improved by 0.000 >= min_delta = 0.0001. New best score: 0.029\n",
      "Epoch 70, global step 71: 'val_loss' reached 0.02873 (best 0.02873), saving model to 'C:\\\\Users\\\\moham\\\\OneDrive\\\\Desktop\\\\spiridon\\\\Spiridon\\\\output\\\\classification_data\\\\etude1_root_classification_data\\\\checkpoints\\\\best-checkpoint-v43.ckpt' as top 1\n"
     ]
    },
    {
     "name": "stdout",
     "output_type": "stream",
     "text": [
      "Epoch 71: 100%|██████████| 1/1 [00:02<00:00,  0.43it/s, v_num=49, val_loss=0.0288, val_acc=0.990, val_f1=0.990, train_loss=0.00732, train_acc=0.998, train_f1=0.998]"
     ]
    },
    {
     "name": "stderr",
     "output_type": "stream",
     "text": [
      "Epoch 71, global step 72: 'val_loss' was not in top 1\n"
     ]
    },
    {
     "name": "stdout",
     "output_type": "stream",
     "text": [
      "Epoch 72: 100%|██████████| 1/1 [00:02<00:00,  0.43it/s, v_num=49, val_loss=0.030, val_acc=0.980, val_f1=0.980, train_loss=0.00917, train_acc=0.998, train_f1=0.998] "
     ]
    },
    {
     "name": "stderr",
     "output_type": "stream",
     "text": [
      "Epoch 72, global step 73: 'val_loss' was not in top 1\n"
     ]
    },
    {
     "name": "stdout",
     "output_type": "stream",
     "text": [
      "Epoch 73: 100%|██████████| 1/1 [00:02<00:00,  0.43it/s, v_num=49, val_loss=0.0313, val_acc=0.980, val_f1=0.980, train_loss=0.00335, train_acc=1.000, train_f1=1.000]"
     ]
    },
    {
     "name": "stderr",
     "output_type": "stream",
     "text": [
      "Epoch 73, global step 74: 'val_loss' was not in top 1\n"
     ]
    },
    {
     "name": "stdout",
     "output_type": "stream",
     "text": [
      "Epoch 74: 100%|██████████| 1/1 [00:02<00:00,  0.41it/s, v_num=49, val_loss=0.0326, val_acc=0.980, val_f1=0.980, train_loss=0.00247, train_acc=1.000, train_f1=1.000]"
     ]
    },
    {
     "name": "stderr",
     "output_type": "stream",
     "text": [
      "Epoch 74, global step 75: 'val_loss' was not in top 1\n"
     ]
    },
    {
     "name": "stdout",
     "output_type": "stream",
     "text": [
      "Epoch 75: 100%|██████████| 1/1 [00:02<00:00,  0.48it/s, v_num=49, val_loss=0.034, val_acc=0.980, val_f1=0.980, train_loss=0.00284, train_acc=1.000, train_f1=1.000] "
     ]
    },
    {
     "name": "stderr",
     "output_type": "stream",
     "text": [
      "Epoch 75, global step 76: 'val_loss' was not in top 1\n"
     ]
    },
    {
     "name": "stdout",
     "output_type": "stream",
     "text": [
      "Epoch 76: 100%|██████████| 1/1 [00:02<00:00,  0.47it/s, v_num=49, val_loss=0.0354, val_acc=0.980, val_f1=0.980, train_loss=0.00365, train_acc=1.000, train_f1=1.000]"
     ]
    },
    {
     "name": "stderr",
     "output_type": "stream",
     "text": [
      "Epoch 76, global step 77: 'val_loss' was not in top 1\n"
     ]
    },
    {
     "name": "stdout",
     "output_type": "stream",
     "text": [
      "Epoch 77: 100%|██████████| 1/1 [00:02<00:00,  0.41it/s, v_num=49, val_loss=0.0376, val_acc=0.980, val_f1=0.980, train_loss=0.00354, train_acc=1.000, train_f1=1.000]"
     ]
    },
    {
     "name": "stderr",
     "output_type": "stream",
     "text": [
      "Epoch 77, global step 78: 'val_loss' was not in top 1\n"
     ]
    },
    {
     "name": "stdout",
     "output_type": "stream",
     "text": [
      "Epoch 78: 100%|██████████| 1/1 [00:02<00:00,  0.45it/s, v_num=49, val_loss=0.0398, val_acc=0.980, val_f1=0.980, train_loss=0.00357, train_acc=1.000, train_f1=1.000]"
     ]
    },
    {
     "name": "stderr",
     "output_type": "stream",
     "text": [
      "Epoch 78, global step 79: 'val_loss' was not in top 1\n"
     ]
    },
    {
     "name": "stdout",
     "output_type": "stream",
     "text": [
      "Epoch 79: 100%|██████████| 1/1 [00:02<00:00,  0.44it/s, v_num=49, val_loss=0.0428, val_acc=0.980, val_f1=0.980, train_loss=0.00388, train_acc=1.000, train_f1=1.000]"
     ]
    },
    {
     "name": "stderr",
     "output_type": "stream",
     "text": [
      "Epoch 79, global step 80: 'val_loss' was not in top 1\n"
     ]
    },
    {
     "name": "stdout",
     "output_type": "stream",
     "text": [
      "Epoch 80: 100%|██████████| 1/1 [00:02<00:00,  0.44it/s, v_num=49, val_loss=0.0456, val_acc=0.980, val_f1=0.980, train_loss=0.00457, train_acc=1.000, train_f1=1.000]"
     ]
    },
    {
     "name": "stderr",
     "output_type": "stream",
     "text": [
      "Epoch 80, global step 81: 'val_loss' was not in top 1\n"
     ]
    },
    {
     "name": "stdout",
     "output_type": "stream",
     "text": [
      "Epoch 81: 100%|██████████| 1/1 [00:02<00:00,  0.48it/s, v_num=49, val_loss=0.0485, val_acc=0.980, val_f1=0.980, train_loss=0.00351, train_acc=1.000, train_f1=1.000]"
     ]
    },
    {
     "name": "stderr",
     "output_type": "stream",
     "text": [
      "Epoch 81, global step 82: 'val_loss' was not in top 1\n"
     ]
    },
    {
     "name": "stdout",
     "output_type": "stream",
     "text": [
      "Epoch 82: 100%|██████████| 1/1 [00:02<00:00,  0.43it/s, v_num=49, val_loss=0.0499, val_acc=0.980, val_f1=0.980, train_loss=0.00211, train_acc=1.000, train_f1=1.000]"
     ]
    },
    {
     "name": "stderr",
     "output_type": "stream",
     "text": [
      "Epoch 82, global step 83: 'val_loss' was not in top 1\n"
     ]
    },
    {
     "name": "stdout",
     "output_type": "stream",
     "text": [
      "Epoch 83: 100%|██████████| 1/1 [00:02<00:00,  0.48it/s, v_num=49, val_loss=0.0511, val_acc=0.980, val_f1=0.980, train_loss=0.00476, train_acc=0.998, train_f1=0.998]"
     ]
    },
    {
     "name": "stderr",
     "output_type": "stream",
     "text": [
      "Epoch 83, global step 84: 'val_loss' was not in top 1\n"
     ]
    },
    {
     "name": "stdout",
     "output_type": "stream",
     "text": [
      "Epoch 84: 100%|██████████| 1/1 [00:02<00:00,  0.40it/s, v_num=49, val_loss=0.0525, val_acc=0.980, val_f1=0.980, train_loss=0.00532, train_acc=0.998, train_f1=0.998]"
     ]
    },
    {
     "name": "stderr",
     "output_type": "stream",
     "text": [
      "Epoch 84, global step 85: 'val_loss' was not in top 1\n"
     ]
    },
    {
     "name": "stdout",
     "output_type": "stream",
     "text": [
      "Epoch 85: 100%|██████████| 1/1 [00:02<00:00,  0.49it/s, v_num=49, val_loss=0.0539, val_acc=0.980, val_f1=0.980, train_loss=0.00328, train_acc=1.000, train_f1=1.000]"
     ]
    },
    {
     "name": "stderr",
     "output_type": "stream",
     "text": [
      "Epoch 85, global step 86: 'val_loss' was not in top 1\n"
     ]
    },
    {
     "name": "stdout",
     "output_type": "stream",
     "text": [
      "Epoch 86: 100%|██████████| 1/1 [00:02<00:00,  0.47it/s, v_num=49, val_loss=0.0551, val_acc=0.980, val_f1=0.980, train_loss=0.00239, train_acc=1.000, train_f1=1.000]"
     ]
    },
    {
     "name": "stderr",
     "output_type": "stream",
     "text": [
      "Epoch 86, global step 87: 'val_loss' was not in top 1\n"
     ]
    },
    {
     "name": "stdout",
     "output_type": "stream",
     "text": [
      "Epoch 87: 100%|██████████| 1/1 [00:02<00:00,  0.41it/s, v_num=49, val_loss=0.056, val_acc=0.980, val_f1=0.980, train_loss=0.00288, train_acc=1.000, train_f1=1.000] "
     ]
    },
    {
     "name": "stderr",
     "output_type": "stream",
     "text": [
      "Epoch 87, global step 88: 'val_loss' was not in top 1\n"
     ]
    },
    {
     "name": "stdout",
     "output_type": "stream",
     "text": [
      "Epoch 88: 100%|██████████| 1/1 [00:02<00:00,  0.48it/s, v_num=49, val_loss=0.0565, val_acc=0.980, val_f1=0.980, train_loss=0.00295, train_acc=1.000, train_f1=1.000]"
     ]
    },
    {
     "name": "stderr",
     "output_type": "stream",
     "text": [
      "Epoch 88, global step 89: 'val_loss' was not in top 1\n"
     ]
    },
    {
     "name": "stdout",
     "output_type": "stream",
     "text": [
      "Epoch 89: 100%|██████████| 1/1 [00:02<00:00,  0.45it/s, v_num=49, val_loss=0.0571, val_acc=0.980, val_f1=0.980, train_loss=0.00315, train_acc=1.000, train_f1=1.000]"
     ]
    },
    {
     "name": "stderr",
     "output_type": "stream",
     "text": [
      "Epoch 89, global step 90: 'val_loss' was not in top 1\n"
     ]
    },
    {
     "name": "stdout",
     "output_type": "stream",
     "text": [
      "Epoch 90: 100%|██████████| 1/1 [00:02<00:00,  0.48it/s, v_num=49, val_loss=0.0574, val_acc=0.980, val_f1=0.980, train_loss=0.00212, train_acc=1.000, train_f1=1.000]"
     ]
    },
    {
     "name": "stderr",
     "output_type": "stream",
     "text": [
      "Epoch 90, global step 91: 'val_loss' was not in top 1\n"
     ]
    },
    {
     "name": "stdout",
     "output_type": "stream",
     "text": [
      "Epoch 91: 100%|██████████| 1/1 [00:02<00:00,  0.44it/s, v_num=49, val_loss=0.0574, val_acc=0.980, val_f1=0.980, train_loss=0.00313, train_acc=1.000, train_f1=1.000]"
     ]
    },
    {
     "name": "stderr",
     "output_type": "stream",
     "text": [
      "Epoch 91, global step 92: 'val_loss' was not in top 1\n"
     ]
    },
    {
     "name": "stdout",
     "output_type": "stream",
     "text": [
      "Epoch 92: 100%|██████████| 1/1 [00:02<00:00,  0.44it/s, v_num=49, val_loss=0.057, val_acc=0.980, val_f1=0.980, train_loss=0.00375, train_acc=1.000, train_f1=1.000] "
     ]
    },
    {
     "name": "stderr",
     "output_type": "stream",
     "text": [
      "Epoch 92, global step 93: 'val_loss' was not in top 1\n"
     ]
    },
    {
     "name": "stdout",
     "output_type": "stream",
     "text": [
      "Epoch 93: 100%|██████████| 1/1 [00:02<00:00,  0.45it/s, v_num=49, val_loss=0.0568, val_acc=0.980, val_f1=0.980, train_loss=0.00239, train_acc=1.000, train_f1=1.000]"
     ]
    },
    {
     "name": "stderr",
     "output_type": "stream",
     "text": [
      "Epoch 93, global step 94: 'val_loss' was not in top 1\n"
     ]
    },
    {
     "name": "stdout",
     "output_type": "stream",
     "text": [
      "Epoch 94: 100%|██████████| 1/1 [00:02<00:00,  0.41it/s, v_num=49, val_loss=0.0565, val_acc=0.980, val_f1=0.980, train_loss=0.00323, train_acc=1.000, train_f1=1.000]"
     ]
    },
    {
     "name": "stderr",
     "output_type": "stream",
     "text": [
      "Epoch 94, global step 95: 'val_loss' was not in top 1\n"
     ]
    },
    {
     "name": "stdout",
     "output_type": "stream",
     "text": [
      "Epoch 95: 100%|██████████| 1/1 [00:02<00:00,  0.49it/s, v_num=49, val_loss=0.0562, val_acc=0.980, val_f1=0.980, train_loss=0.00398, train_acc=1.000, train_f1=1.000]"
     ]
    },
    {
     "name": "stderr",
     "output_type": "stream",
     "text": [
      "Epoch 95, global step 96: 'val_loss' was not in top 1\n"
     ]
    },
    {
     "name": "stdout",
     "output_type": "stream",
     "text": [
      "Epoch 96: 100%|██████████| 1/1 [00:02<00:00,  0.48it/s, v_num=49, val_loss=0.0559, val_acc=0.980, val_f1=0.980, train_loss=0.00302, train_acc=1.000, train_f1=1.000]"
     ]
    },
    {
     "name": "stderr",
     "output_type": "stream",
     "text": [
      "Epoch 96, global step 97: 'val_loss' was not in top 1\n"
     ]
    },
    {
     "name": "stdout",
     "output_type": "stream",
     "text": [
      "Epoch 97: 100%|██████████| 1/1 [00:02<00:00,  0.40it/s, v_num=49, val_loss=0.0556, val_acc=0.980, val_f1=0.980, train_loss=0.00275, train_acc=1.000, train_f1=1.000]"
     ]
    },
    {
     "name": "stderr",
     "output_type": "stream",
     "text": [
      "Epoch 97, global step 98: 'val_loss' was not in top 1\n"
     ]
    },
    {
     "name": "stdout",
     "output_type": "stream",
     "text": [
      "Epoch 98: 100%|██████████| 1/1 [00:02<00:00,  0.49it/s, v_num=49, val_loss=0.0554, val_acc=0.980, val_f1=0.980, train_loss=0.00361, train_acc=1.000, train_f1=1.000]"
     ]
    },
    {
     "name": "stderr",
     "output_type": "stream",
     "text": [
      "Epoch 98, global step 99: 'val_loss' was not in top 1\n"
     ]
    },
    {
     "name": "stdout",
     "output_type": "stream",
     "text": [
      "Epoch 99: 100%|██████████| 1/1 [00:02<00:00,  0.45it/s, v_num=49, val_loss=0.0552, val_acc=0.980, val_f1=0.980, train_loss=0.00238, train_acc=1.000, train_f1=1.000]"
     ]
    },
    {
     "name": "stderr",
     "output_type": "stream",
     "text": [
      "Epoch 99, global step 100: 'val_loss' was not in top 1\n",
      "`Trainer.fit` stopped: `max_epochs=100` reached.\n"
     ]
    },
    {
     "name": "stdout",
     "output_type": "stream",
     "text": [
      "Epoch 99: 100%|██████████| 1/1 [00:02<00:00,  0.44it/s, v_num=49, val_loss=0.0552, val_acc=0.980, val_f1=0.980, train_loss=0.00238, train_acc=1.000, train_f1=1.000]"
     ]
    },
    {
     "name": "stderr",
     "output_type": "stream",
     "text": [
      "Restoring states from the checkpoint path at C:\\Users\\moham\\OneDrive\\Desktop\\spiridon\\Spiridon\\output\\classification_data\\etude1_root_classification_data\\checkpoints\\best-checkpoint-v43.ckpt\n"
     ]
    },
    {
     "name": "stdout",
     "output_type": "stream",
     "text": [
      "\n",
      "Training completed.\n",
      "Best model checkpoint: C:\\Users\\moham\\OneDrive\\Desktop\\spiridon\\Spiridon\\output\\classification_data\\etude1_root_classification_data\\checkpoints\\best-checkpoint-v43.ckpt\n",
      "Starting model testing...\n",
      "Loading best model from checkpoint for testing.\n"
     ]
    },
    {
     "name": "stderr",
     "output_type": "stream",
     "text": [
      "Loaded model weights from the checkpoint at C:\\Users\\moham\\OneDrive\\Desktop\\spiridon\\Spiridon\\output\\classification_data\\etude1_root_classification_data\\checkpoints\\best-checkpoint-v43.ckpt\n",
      "c:\\ProgramData\\miniconda3\\Lib\\site-packages\\pytorch_lightning\\trainer\\connectors\\data_connector.py:425: The 'test_dataloader' does not have many workers which may be a bottleneck. Consider increasing the value of the `num_workers` argument` to `num_workers=7` in the `DataLoader` to improve performance.\n"
     ]
    },
    {
     "name": "stdout",
     "output_type": "stream",
     "text": [
      "Testing DataLoader 0: 100%|██████████| 1/1 [00:00<00:00,  2.06it/s]\n",
      "────────────────────────────────────────────────────────────────────────────────────────────────────────────────────────\n",
      "       Test metric             DataLoader 0\n",
      "────────────────────────────────────────────────────────────────────────────────────────────────────────────────────────\n",
      "        test_acc            0.9727272987365723\n",
      "         test_f1            0.9726848602294922\n",
      "        test_loss           0.21026752889156342\n",
      "     test_precision         0.9746376872062683\n",
      "       test_recall          0.9727272391319275\n",
      "────────────────────────────────────────────────────────────────────────────────────────────────────────────────────────\n",
      "Final Test Metrics:\n",
      "  test_loss: 0.2103\n",
      "  test_acc: 0.9727\n",
      "  test_f1: 0.9727\n",
      "  test_precision: 0.9746\n",
      "  test_recall: 0.9727\n",
      "Testing completed.\n",
      "Plotting training history...\n",
      "  Looking for metrics file directly in: c:\\Users\\moham\\OneDrive\\Desktop\\spiridon\\Spiridon\\output\\classification_data\\etude1_logs\\version_49\\metrics.csv\n",
      "  Saved training history plot to c:\\Users\\moham\\OneDrive\\Desktop\\spiridon\\Spiridon\\output\\classification_data\\etude1_logs\\version_49\\etude1_training_history.png\n"
     ]
    },
    {
     "data": {
      "image/png": "[encoded data removed]",
      "text/plain": [
       "<Figure size 1200x500 with 2 Axes>"
      ]
     },
     "metadata": {},
     "output_type": "display_data"
    },
    {
     "name": "stdout",
     "output_type": "stream",
     "text": [
      "❌ Error plotting training history for 'etude1' from c:\\Users\\moham\\OneDrive\\Desktop\\spiridon\\Spiridon\\output\\classification_data\\etude1_logs\\version_49\\metrics.csv: name 'base_output_dir' is not defined\n",
      "\n",
      ">>> Finished processing study: etude1 <<<\n",
      "\n",
      "--- RGCN+MLP Training Test Complete ---\n",
      "Test run finished successfully.\n",
      "  Log Directory: c:\\Users\\moham\\OneDrive\\Desktop\\spiridon\\Spiridon\\output\\classification_data\\etude1_logs\\version_49\n",
      "  Best Checkpoint: C:\\Users\\moham\\OneDrive\\Desktop\\spiridon\\Spiridon\\output\\classification_data\\etude1_root_classification_data\\checkpoints\\best-checkpoint-v43.ckpt\n",
      "  Test Metrics:\n",
      "    test_loss: 0.2103\n",
      "    test_acc: 0.9727\n",
      "    test_f1: 0.9727\n",
      "    test_precision: 0.9746\n",
      "    test_recall: 0.9727\n"
     ]
    },
    {
     "name": "stderr",
     "output_type": "stream",
     "text": [
      "Traceback (most recent call last):\n",
      "  File \"c:\\Users\\moham\\OneDrive\\Desktop\\spiridon\\Spiridon\\src\\utils.py\", line 163, in plot_training_history\n",
      "    plot_save_dir = os.path.join(base_output_dir, \"lightning_logs\", study_name, \"version_0\" if not version_dirs else version_dirs[-1] )\n",
      "                                 ^^^^^^^^^^^^^^^\n",
      "NameError: name 'base_output_dir' is not defined\n"
     ]
    },
    {
     "data": {
      "image/png": "[encoded data removed]",
      "text/plain": [
       "<Figure size 1200x500 with 2 Axes>"
      ]
     },
     "metadata": {},
     "output_type": "display_data"
    }
   ],
   "source": [
    "# Import the main training function for the RGCN-based classifier\n",
    "from src.training.rgcn_mlp_classification_pipeline import train_and_test_classification_model\n",
    "import torch\n",
    "\n",
    "print(\"\\n--- Testing RGCN+MLP Training and Evaluation Pipeline ---\")\n",
    "print(\"NOTE: This test requires the full pre-processed graph data from 'main_prepare_data.py'.\")\n",
    "print(\"It will fail if the data has not been generated first.\")\n",
    "\n",
    "STUDY_NAME_RGCN = \"etude1\"\n",
    "clf_data_dir = os.path.join(config.CLASSIFICATION_DATA_DIR, f\"{STUDY_NAME_RGCN}_root_classification_data\")\n",
    "clf_data_file = os.path.join(clf_data_dir, \"data.pt\")\n",
    "\n",
    "\n",
    "print(f\"\\nFound classification data for study '{STUDY_NAME_RGCN}'.\")\n",
    "print(\"Proceeding with a short training session (2 epochs)...\")\n",
    "\n",
    "# Define lightweight hyperparameters and trainer params for a quick test\n",
    "test_hyperparams = {\n",
    "    'rgcn_hidden_dim': 128,\n",
    "    'learning_rate': 1e-3,\n",
    "    'patience': 20,\n",
    "    'dropout': 0.3,\n",
    "    'l2_reg': 1e-4\n",
    "}\n",
    "\n",
    "test_trainer_params = {\n",
    "    'max_epochs': 100, # Just to test the pipeline runs\n",
    "    'accelerator': 'cpu', # Force CPU for simple test\n",
    "    'devices': 1,\n",
    "    'enable_progress_bar': True\n",
    "}\n",
    "\n",
    "# Run the training and evaluation pipeline\n",
    "rgcn_mlp_results = train_and_test_classification_model(\n",
    "    study_name=STUDY_NAME_RGCN,\n",
    "    base_data_dir=config.CLASSIFICATION_DATA_DIR,\n",
    "    hyperparameters=test_hyperparams,\n",
    "    trainer_params=test_trainer_params,\n",
    "    plot_history=True\n",
    ")\n",
    "\n",
    "print(\"\\n--- RGCN+MLP Training Test Complete ---\")\n",
    "if rgcn_mlp_results:\n",
    "    print(\"Test run finished successfully.\")\n",
    "    print(f\"  Log Directory: {rgcn_mlp_results.get('log_dir', 'N/A')}\")\n",
    "    print(f\"  Best Checkpoint: {rgcn_mlp_results.get('best_checkpoint_path', 'N/A')}\")\n",
    "    print(\"  Test Metrics:\")\n",
    "    if rgcn_mlp_results.get('test_metrics'):\n",
    "        for metric, value in rgcn_mlp_results.get('test_metrics', {}).items():\n",
    "            print(f\"    {metric}: {value:.4f}\")\n",
    "else:\n",
    "    print(\"RGCN+MLP training pipeline failed or was skipped.\")"
   ]
  },
  {
   "cell_type": "markdown",
   "metadata": {},
   "source": [
    "## Inductive RGCN + MLP"
   ]
  },
  {
   "cell_type": "code",
   "execution_count": 3,
   "metadata": {},
   "outputs": [
    {
     "name": "stdout",
     "output_type": "stream",
     "text": [
      "================================================================================\n",
      "INDUCTIVE RGCN CLASSIFICATION - REAL DATA EXECUTION\n",
      "================================================================================\n",
      "✓ PyTorch Geometric is available\n",
      "\n",
      "--- Starting Inductive RGCN Training Pipeline ---\n",
      "Study Name: etude1\n",
      "Data Directory: c:\\Users\\moham\\OneDrive\\Desktop\\spiridon\\Spiridon\\output\\classification_data\\etude1_root_classification_data\n",
      "\n",
      "--- Loading Real Data for Study: etude1 ---\n",
      "Data directory: c:\\Users\\moham\\OneDrive\\Desktop\\spiridon\\Spiridon\\output\\classification_data\\etude1_root_classification_data\n",
      "  - Loaded ceramic labels: 690 labeled nodes\n",
      "  - Loaded node mapping: 812 nodes\n",
      "  - Loaded relation mapping: 11 relations\n",
      "  - Loaded training triplets: 3605 triplets\n",
      "  - Loaded node embeddings: torch.Size([812, 768])\n",
      "  - Loaded label mapping: 5 classes\n",
      "  - Loaded classification stats\n",
      "\n",
      "--- Data Summary ---\n",
      "  - Total nodes: 812\n",
      "  - Total edges: 3605\n",
      "  - Labeled nodes: 690\n",
      "  - Embedding dimension: 768\n",
      "  - Number of classes: 5\n",
      "  - Number of relations: 11\n",
      "\n",
      "--- Validating Data Consistency ---\n",
      "  ✓ All data consistency checks passed\n",
      "\n",
      "--- Configuration Summary ---\n",
      "  Model: RGCN with 2 layers\n",
      "  Hidden dim: 128\n",
      "  Learning rate: 0.001\n",
      "  Max epochs: 100\n",
      "  Dropout: 0.2\n",
      "  L2 regularization: 0.0001\n",
      "\n",
      "--- Starting Training for 'etude1' ---\n",
      "================================================================================\n",
      "STARTING CERAMIC INDUCTIVE RGCN TRAINING PIPELINE\n",
      "================================================================================\n",
      "\n",
      "=== Creating Ceramic-Focused Inductive Splits for etude1 ===\n",
      "Node type distribution:\n",
      "  - Ceramic nodes (labeled): 690\n",
      "  - Feature/Function nodes: 122\n",
      "  - Total nodes: 812\n",
      "\n",
      "Ceramic node splits:\n",
      "  - Train ceramics: 483\n",
      "  - Val ceramics: 103\n",
      "  - Test ceramics: 104\n",
      "\n",
      "Class distribution:\n",
      "  - Train: {np.int64(0): np.int64(96), np.int64(1): np.int64(97), np.int64(2): np.int64(97), np.int64(3): np.int64(96), np.int64(4): np.int64(97)}\n",
      "  - Val: {np.int64(0): np.int64(21), np.int64(1): np.int64(20), np.int64(2): np.int64(21), np.int64(3): np.int64(21), np.int64(4): np.int64(20)}\n",
      "  - Test: {np.int64(0): np.int64(21), np.int64(1): np.int64(21), np.int64(2): np.int64(20), np.int64(3): np.int64(21), np.int64(4): np.int64(21)}\n",
      "\n",
      "Creating training subgraph...\n",
      "  Extracting training subgraph with 605 nodes...\n",
      "    Original node range: 0 to 811\n",
      "    Found 2563 valid edges in training subgraph\n",
      "  training subgraph: 605 nodes, 2563 edges\n",
      "  Embedding shape: torch.Size([605, 768])\n",
      "  Mapped index range: 0 to 604\n",
      "Creating validation subgraph...\n",
      "  Extracting validation subgraph with 708 nodes...\n",
      "    Original node range: 0 to 811\n",
      "    Found 3076 valid edges in validation subgraph\n",
      "  validation subgraph: 708 nodes, 3076 edges\n",
      "  Embedding shape: torch.Size([708, 768])\n",
      "  Mapped index range: 0 to 707\n",
      "Creating test subgraph...\n",
      "  Extracting test subgraph with 812 nodes...\n",
      "    Original node range: 0 to 811\n",
      "    Found 3605 valid edges in test subgraph\n",
      "  test subgraph: 812 nodes, 3605 edges\n",
      "  Embedding shape: torch.Size([812, 768])\n",
      "  Mapped index range: 0 to 811\n",
      "    Creating node mapping: 605 -> 708 nodes\n",
      "    Mapping created: 605 valid mappings\n",
      "    Creating node mapping: 708 -> 812 nodes\n",
      "    Mapping created: 708 valid mappings\n",
      "\n",
      "  Validating node mappings...\n",
      "    ✓ Node mapping validation passed\n",
      "\n",
      "  Creating train DataLoader:\n",
      "    Original ceramic nodes: 483\n",
      "    Subgraph nodes: 605\n",
      "    Node mapping size: 605\n",
      "    Successfully mapped: 483 ceramic nodes\n",
      "    Local index range: 5 to 487\n",
      "    Created train DataLoader: 483 samples, batch_size=32\n",
      "\n",
      "  Creating val_on_train_graph DataLoader:\n",
      "    Original val ceramic nodes: 103\n",
      "    Subgraph nodes: 605\n",
      "    Nodes present in subgraph: 0\n",
      "    Nodes skipped (not in subgraph): 103\n",
      "    WARNING: No validation nodes found in val_on_train_graph! Creating dummy loader.\n",
      "\n",
      "  Creating val DataLoader:\n",
      "    Original ceramic nodes: 103\n",
      "    Subgraph nodes: 708\n",
      "    Node mapping size: 708\n",
      "    Successfully mapped: 103 ceramic nodes\n",
      "    Local index range: 6 to 589\n",
      "    Created val DataLoader: 103 samples, batch_size=32\n",
      "\n",
      "  Creating test DataLoader:\n",
      "    Original ceramic nodes: 104\n",
      "    Subgraph nodes: 812\n",
      "    Node mapping size: 812\n",
      "    Successfully mapped: 104 ceramic nodes\n",
      "    Local index range: 7 to 691\n",
      "    Created test DataLoader: 104 samples, batch_size=32\n",
      "\n",
      "=== Edge Statistics ===\n",
      "Original graph: 3605 edges\n",
      "Training subgraph: 2563 edges\n",
      "Validation subgraph: 3076 edges\n",
      "Test subgraph: 3605 edges\n",
      "\n",
      "============================================================\n",
      "STAGE 1: TRAINING ON TRAINING SUBGRAPH\n",
      "============================================================\n",
      "Initializing InductiveRGCNClassifier:\n",
      "  - Nodes: 605\n",
      "  - Base relations: 11\n",
      "  - Total relations: 22\n",
      "  - Embedding dim: 768\n",
      "  - Classes: 5\n",
      "\n",
      "Training stage1_training...\n"
     ]
    },
    {
     "name": "stderr",
     "output_type": "stream",
     "text": [
      "c:\\Users\\moham\\OneDrive\\Desktop\\spiridon\\Spiridon\\src\\models\\inductive_classifier.py:113: UserWarning: To copy construct from a tensor, it is recommended to use sourceTensor.clone().detach() or sourceTensor.clone().detach().requires_grad_(True), rather than torch.tensor(sourceTensor).\n",
      "  torch.tensor(initial_node_embeddings, dtype=torch.float32),\n",
      "GPU available: False, used: False\n",
      "TPU available: False, using: 0 TPU cores\n",
      "HPU available: False, using: 0 HPUs\n",
      "c:\\ProgramData\\miniconda3\\Lib\\site-packages\\torch\\optim\\lr_scheduler.py:60: UserWarning: The verbose parameter is deprecated. Please use get_last_lr() to access the learning rate.\n",
      "  warnings.warn(\n",
      "\n",
      "   | Name                | Type                | Params | Mode \n",
      "---------------------------------------------------------------------\n",
      "0  | train_acc           | MulticlassAccuracy  | 0      | train\n",
      "1  | val_acc             | MulticlassAccuracy  | 0      | train\n",
      "2  | test_acc            | MulticlassAccuracy  | 0      | train\n",
      "3  | train_f1            | MulticlassF1Score   | 0      | train\n",
      "4  | val_f1              | MulticlassF1Score   | 0      | train\n",
      "5  | test_f1             | MulticlassF1Score   | 0      | train\n",
      "6  | test_precision      | MulticlassPrecision | 0      | train\n",
      "7  | test_recall         | MulticlassRecall    | 0      | train\n",
      "8  | node_emb            | Embedding           | 464 K  | train\n",
      "9  | rgcn_layers         | ModuleList          | 1.7 M  | train\n",
      "10 | dropout_layer       | Dropout             | 0      | train\n",
      "11 | classification_head | Sequential          | 8.8 K  | train\n",
      "12 | loss_fn             | CrossEntropyLoss    | 0      | train\n",
      "---------------------------------------------------------------------\n",
      "2.2 M     Trainable params\n",
      "0         Non-trainable params\n",
      "2.2 M     Total params\n",
      "8.778     Total estimated model params size (MB)\n",
      "22        Modules in train mode\n",
      "0         Modules in eval mode\n"
     ]
    },
    {
     "name": "stdout",
     "output_type": "stream",
     "text": [
      "Starting training for stage1_training...\n",
      "Sanity Checking DataLoader 0:   0%|          | 0/1 [00:00<?, ?it/s]"
     ]
    },
    {
     "name": "stderr",
     "output_type": "stream",
     "text": [
      "c:\\ProgramData\\miniconda3\\Lib\\site-packages\\pytorch_lightning\\trainer\\connectors\\data_connector.py:425: The 'val_dataloader' does not have many workers which may be a bottleneck. Consider increasing the value of the `num_workers` argument` to `num_workers=7` in the `DataLoader` to improve performance.\n"
     ]
    },
    {
     "name": "stdout",
     "output_type": "stream",
     "text": [
      "                                                                           "
     ]
    },
    {
     "name": "stderr",
     "output_type": "stream",
     "text": [
      "c:\\ProgramData\\miniconda3\\Lib\\site-packages\\pytorch_lightning\\trainer\\connectors\\data_connector.py:425: The 'train_dataloader' does not have many workers which may be a bottleneck. Consider increasing the value of the `num_workers` argument` to `num_workers=7` in the `DataLoader` to improve performance.\n"
     ]
    },
    {
     "name": "stdout",
     "output_type": "stream",
     "text": [
      "Epoch 0: 100%|██████████| 16/16 [00:22<00:00,  0.72it/s, v_num=0, val_loss=0.550, val_acc=1.000, val_f1=1.000, train_loss=0.950, train_acc=0.671, train_f1=0.669]"
     ]
    },
    {
     "name": "stderr",
     "output_type": "stream",
     "text": [
      "Metric val_loss improved. New best score: 0.550\n",
      "Epoch 0, global step 16: 'val_loss' reached 0.55030 (best 0.55030), saving model to 'C:\\\\Users\\\\moham\\\\OneDrive\\\\Desktop\\\\spiridon\\\\Spiridon\\\\src\\\\checkpoints\\\\etude1\\\\stage1_training-epoch=00-val_loss=0.5503.ckpt' as top 1\n"
     ]
    },
    {
     "name": "stdout",
     "output_type": "stream",
     "text": [
      "Epoch 1: 100%|██████████| 16/16 [00:21<00:00,  0.73it/s, v_num=0, val_loss=0.440, val_acc=1.000, val_f1=1.000, train_loss=0.297, train_acc=0.923, train_f1=0.923]"
     ]
    },
    {
     "name": "stderr",
     "output_type": "stream",
     "text": [
      "Metric val_loss improved by 0.110 >= min_delta = 0.0. New best score: 0.440\n",
      "Epoch 1, global step 32: 'val_loss' reached 0.43998 (best 0.43998), saving model to 'C:\\\\Users\\\\moham\\\\OneDrive\\\\Desktop\\\\spiridon\\\\Spiridon\\\\src\\\\checkpoints\\\\etude1\\\\stage1_training-epoch=01-val_loss=0.4400.ckpt' as top 1\n"
     ]
    },
    {
     "name": "stdout",
     "output_type": "stream",
     "text": [
      "Epoch 2: 100%|██████████| 16/16 [00:25<00:00,  0.63it/s, v_num=0, val_loss=0.403, val_acc=1.000, val_f1=1.000, train_loss=0.176, train_acc=0.957, train_f1=0.956]"
     ]
    },
    {
     "name": "stderr",
     "output_type": "stream",
     "text": [
      "Metric val_loss improved by 0.037 >= min_delta = 0.0. New best score: 0.403\n",
      "Epoch 2, global step 48: 'val_loss' reached 0.40262 (best 0.40262), saving model to 'C:\\\\Users\\\\moham\\\\OneDrive\\\\Desktop\\\\spiridon\\\\Spiridon\\\\src\\\\checkpoints\\\\etude1\\\\stage1_training-epoch=02-val_loss=0.4026.ckpt' as top 1\n"
     ]
    },
    {
     "name": "stdout",
     "output_type": "stream",
     "text": [
      "Epoch 3:  31%|███▏      | 5/16 [00:11<00:25,  0.42it/s, v_num=0, val_loss=0.403, val_acc=1.000, val_f1=1.000, train_loss=0.176, train_acc=0.957, train_f1=0.956] "
     ]
    },
    {
     "name": "stderr",
     "output_type": "stream",
     "text": [
      "\n",
      "Detected KeyboardInterrupt, attempting graceful shutdown ...\n"
     ]
    },
    {
     "name": "stdout",
     "output_type": "stream",
     "text": [
      "Error in inductive training pipeline: name 'exit' is not defined\n",
      "\n",
      "--- Inductive Training Complete ---\n",
      "❌ Training pipeline failed or returned incomplete results\n",
      "\n",
      "================================================================================\n",
      "EXECUTION COMPLETE\n",
      "================================================================================\n"
     ]
    },
    {
     "name": "stderr",
     "output_type": "stream",
     "text": [
      "Traceback (most recent call last):\n",
      "  File \"c:\\ProgramData\\miniconda3\\Lib\\site-packages\\pytorch_lightning\\trainer\\call.py\", line 48, in _call_and_handle_interrupt\n",
      "    return trainer_fn(*args, **kwargs)\n",
      "           ^^^^^^^^^^^^^^^^^^^^^^^^^^^\n",
      "  File \"c:\\ProgramData\\miniconda3\\Lib\\site-packages\\pytorch_lightning\\trainer\\trainer.py\", line 599, in _fit_impl\n",
      "    self._run(model, ckpt_path=ckpt_path)\n",
      "  File \"c:\\ProgramData\\miniconda3\\Lib\\site-packages\\pytorch_lightning\\trainer\\trainer.py\", line 1012, in _run\n",
      "    results = self._run_stage()\n",
      "              ^^^^^^^^^^^^^^^^^\n",
      "  File \"c:\\ProgramData\\miniconda3\\Lib\\site-packages\\pytorch_lightning\\trainer\\trainer.py\", line 1056, in _run_stage\n",
      "    self.fit_loop.run()\n",
      "  File \"c:\\ProgramData\\miniconda3\\Lib\\site-packages\\pytorch_lightning\\loops\\fit_loop.py\", line 216, in run\n",
      "    self.advance()\n",
      "  File \"c:\\ProgramData\\miniconda3\\Lib\\site-packages\\pytorch_lightning\\loops\\fit_loop.py\", line 455, in advance\n",
      "    self.epoch_loop.run(self._data_fetcher)\n",
      "  File \"c:\\ProgramData\\miniconda3\\Lib\\site-packages\\pytorch_lightning\\loops\\training_epoch_loop.py\", line 150, in run\n",
      "    self.advance(data_fetcher)\n",
      "  File \"c:\\ProgramData\\miniconda3\\Lib\\site-packages\\pytorch_lightning\\loops\\training_epoch_loop.py\", line 320, in advance\n",
      "    batch_output = self.automatic_optimization.run(trainer.optimizers[0], batch_idx, kwargs)\n",
      "                   ^^^^^^^^^^^^^^^^^^^^^^^^^^^^^^^^^^^^^^^^^^^^^^^^^^^^^^^^^^^^^^^^^^^^^^^^^\n",
      "  File \"c:\\ProgramData\\miniconda3\\Lib\\site-packages\\pytorch_lightning\\loops\\optimization\\automatic.py\", line 192, in run\n",
      "    self._optimizer_step(batch_idx, closure)\n",
      "  File \"c:\\ProgramData\\miniconda3\\Lib\\site-packages\\pytorch_lightning\\loops\\optimization\\automatic.py\", line 270, in _optimizer_step\n",
      "    call._call_lightning_module_hook(\n",
      "  File \"c:\\ProgramData\\miniconda3\\Lib\\site-packages\\pytorch_lightning\\trainer\\call.py\", line 176, in _call_lightning_module_hook\n",
      "    output = fn(*args, **kwargs)\n",
      "             ^^^^^^^^^^^^^^^^^^^\n",
      "  File \"c:\\ProgramData\\miniconda3\\Lib\\site-packages\\pytorch_lightning\\core\\module.py\", line 1302, in optimizer_step\n",
      "    optimizer.step(closure=optimizer_closure)\n",
      "  File \"c:\\ProgramData\\miniconda3\\Lib\\site-packages\\pytorch_lightning\\core\\optimizer.py\", line 154, in step\n",
      "    step_output = self._strategy.optimizer_step(self._optimizer, closure, **kwargs)\n",
      "                  ^^^^^^^^^^^^^^^^^^^^^^^^^^^^^^^^^^^^^^^^^^^^^^^^^^^^^^^^^^^^^^^^^\n",
      "  File \"c:\\ProgramData\\miniconda3\\Lib\\site-packages\\pytorch_lightning\\strategies\\strategy.py\", line 239, in optimizer_step\n",
      "    return self.precision_plugin.optimizer_step(optimizer, model=model, closure=closure, **kwargs)\n",
      "           ^^^^^^^^^^^^^^^^^^^^^^^^^^^^^^^^^^^^^^^^^^^^^^^^^^^^^^^^^^^^^^^^^^^^^^^^^^^^^^^^^^^^^^^\n",
      "  File \"c:\\ProgramData\\miniconda3\\Lib\\site-packages\\pytorch_lightning\\plugins\\precision\\precision.py\", line 123, in optimizer_step\n",
      "    return optimizer.step(closure=closure, **kwargs)\n",
      "           ^^^^^^^^^^^^^^^^^^^^^^^^^^^^^^^^^^^^^^^^^\n",
      "  File \"c:\\ProgramData\\miniconda3\\Lib\\site-packages\\torch\\optim\\optimizer.py\", line 484, in wrapper\n",
      "    out = func(*args, **kwargs)\n",
      "          ^^^^^^^^^^^^^^^^^^^^^\n",
      "  File \"c:\\ProgramData\\miniconda3\\Lib\\site-packages\\torch\\optim\\optimizer.py\", line 89, in _use_grad\n",
      "    ret = func(self, *args, **kwargs)\n",
      "          ^^^^^^^^^^^^^^^^^^^^^^^^^^^\n",
      "  File \"c:\\ProgramData\\miniconda3\\Lib\\site-packages\\torch\\optim\\adamw.py\", line 204, in step\n",
      "    loss = closure()\n",
      "           ^^^^^^^^^\n",
      "  File \"c:\\ProgramData\\miniconda3\\Lib\\site-packages\\pytorch_lightning\\plugins\\precision\\precision.py\", line 109, in _wrap_closure\n",
      "    closure_result = closure()\n",
      "                     ^^^^^^^^^\n",
      "  File \"c:\\ProgramData\\miniconda3\\Lib\\site-packages\\pytorch_lightning\\loops\\optimization\\automatic.py\", line 146, in __call__\n",
      "    self._result = self.closure(*args, **kwargs)\n",
      "                   ^^^^^^^^^^^^^^^^^^^^^^^^^^^^^\n",
      "  File \"c:\\ProgramData\\miniconda3\\Lib\\site-packages\\torch\\utils\\_contextlib.py\", line 116, in decorate_context\n",
      "    return func(*args, **kwargs)\n",
      "           ^^^^^^^^^^^^^^^^^^^^^\n",
      "  File \"c:\\ProgramData\\miniconda3\\Lib\\site-packages\\pytorch_lightning\\loops\\optimization\\automatic.py\", line 140, in closure\n",
      "    self._backward_fn(step_output.closure_loss)\n",
      "  File \"c:\\ProgramData\\miniconda3\\Lib\\site-packages\\pytorch_lightning\\loops\\optimization\\automatic.py\", line 241, in backward_fn\n",
      "    call._call_strategy_hook(self.trainer, \"backward\", loss, optimizer)\n",
      "  File \"c:\\ProgramData\\miniconda3\\Lib\\site-packages\\pytorch_lightning\\trainer\\call.py\", line 328, in _call_strategy_hook\n",
      "    output = fn(*args, **kwargs)\n",
      "             ^^^^^^^^^^^^^^^^^^^\n",
      "  File \"c:\\ProgramData\\miniconda3\\Lib\\site-packages\\pytorch_lightning\\strategies\\strategy.py\", line 213, in backward\n",
      "    self.precision_plugin.backward(closure_loss, self.lightning_module, optimizer, *args, **kwargs)\n",
      "  File \"c:\\ProgramData\\miniconda3\\Lib\\site-packages\\pytorch_lightning\\plugins\\precision\\precision.py\", line 73, in backward\n",
      "    model.backward(tensor, *args, **kwargs)\n",
      "  File \"c:\\ProgramData\\miniconda3\\Lib\\site-packages\\pytorch_lightning\\core\\module.py\", line 1097, in backward\n",
      "    loss.backward(*args, **kwargs)\n",
      "  File \"c:\\ProgramData\\miniconda3\\Lib\\site-packages\\torch\\_tensor.py\", line 521, in backward\n",
      "    torch.autograd.backward(\n",
      "  File \"c:\\ProgramData\\miniconda3\\Lib\\site-packages\\torch\\autograd\\__init__.py\", line 289, in backward\n",
      "    _engine_run_backward(\n",
      "  File \"c:\\ProgramData\\miniconda3\\Lib\\site-packages\\torch\\autograd\\graph.py\", line 769, in _engine_run_backward\n",
      "    return Variable._execution_engine.run_backward(  # Calls into the C++ engine to run the backward pass\n",
      "           ^^^^^^^^^^^^^^^^^^^^^^^^^^^^^^^^^^^^^^^^^^^^^^^^^^^^^^^^^^^^^^^^^^^^^^^^^^^^^^^^^^^^^^^^^^^^^^\n",
      "KeyboardInterrupt\n",
      "\n",
      "During handling of the above exception, another exception occurred:\n",
      "\n",
      "Traceback (most recent call last):\n",
      "  File \"c:\\Users\\moham\\OneDrive\\Desktop\\spiridon\\Spiridon\\src\\training\\inductive_rgcn_mlp_classification_pipeline.py\", line 504, in run_inductive_training\n",
      "    stage1_results = train_model_stage(\n",
      "                     ^^^^^^^^^^^^^^^^^^\n",
      "  File \"c:\\Users\\moham\\OneDrive\\Desktop\\spiridon\\Spiridon\\src\\training\\inductive_rgcn_mlp_classification_pipeline.py\", line 650, in train_model_stage\n",
      "    trainer.fit(model, train_loader, val_loader)\n",
      "  File \"c:\\ProgramData\\miniconda3\\Lib\\site-packages\\pytorch_lightning\\trainer\\trainer.py\", line 561, in fit\n",
      "    call._call_and_handle_interrupt(\n",
      "  File \"c:\\ProgramData\\miniconda3\\Lib\\site-packages\\pytorch_lightning\\trainer\\call.py\", line 65, in _call_and_handle_interrupt\n",
      "    exit(1)\n",
      "    ^^^^\n",
      "NameError: name 'exit' is not defined\n"
     ]
    }
   ],
   "source": [
    "import os\n",
    "import json\n",
    "import pandas as pd\n",
    "import numpy as np\n",
    "import torch\n",
    "from src.training.inductive_rgcn_mlp_classification_pipeline import run_inductive_training\n",
    "\n",
    "# ==============================================================================\n",
    "#  DATA LOADING FUNCTIONS\n",
    "# ==============================================================================\n",
    "\n",
    "def load_real_data(clf_data_dir, study_name):\n",
    "    \"\"\"Load the actual data from the classification data directory.\"\"\"\n",
    "    print(f\"\\n--- Loading Real Data for Study: {study_name} ---\")\n",
    "    print(f\"Data directory: {clf_data_dir}\")\n",
    "    \n",
    "    # Check if directory exists\n",
    "    if not os.path.exists(clf_data_dir):\n",
    "        raise FileNotFoundError(f\"Classification data directory not found: {clf_data_dir}\")\n",
    "    \n",
    "    # Load all required files\n",
    "    try:\n",
    "        # 1. Load ceramic labels (labeled nodes for classification)\n",
    "        ceramic_labels_file = os.path.join(clf_data_dir, \"ceramic_labels.csv\")\n",
    "        ceramic_labels_df = pd.read_csv(ceramic_labels_file)\n",
    "        print(f\"  - Loaded ceramic labels: {ceramic_labels_df.shape[0]} labeled nodes\")\n",
    "        \n",
    "        # Create labeled_nodes_and_labels tensor\n",
    "        labeled_nodes_and_labels = torch.tensor(\n",
    "            ceramic_labels_df[['new_ceramic_node_idx', 'label_id']].values, \n",
    "            dtype=torch.long\n",
    "        )\n",
    "        \n",
    "        # 2. Load node mapping\n",
    "        node_mapping_file = os.path.join(clf_data_dir, \"node_mapping.csv\")\n",
    "        node_mapping_df = pd.read_csv(node_mapping_file)\n",
    "        print(f\"  - Loaded node mapping: {node_mapping_df.shape[0]} nodes\")\n",
    "        \n",
    "        # 3. Load relation mapping\n",
    "        relation_mapping_file = os.path.join(clf_data_dir, \"relation_mapping.csv\")\n",
    "        relation_mapping_df = pd.read_csv(relation_mapping_file)\n",
    "        print(f\"  - Loaded relation mapping: {relation_mapping_df.shape[0]} relations\")\n",
    "        \n",
    "        # 4. Load training triplets\n",
    "        training_triplets_file = os.path.join(clf_data_dir, \"training_triplets.csv\")\n",
    "        training_triplets_df = pd.read_csv(training_triplets_file)\n",
    "        print(f\"  - Loaded training triplets: {training_triplets_df.shape[0]} triplets\")\n",
    "        \n",
    "        # Create edge_index and edge_type from triplets\n",
    "        edge_index = torch.tensor(\n",
    "            training_triplets_df[['head_idx', 'tail_idx']].values.T, \n",
    "            dtype=torch.long\n",
    "        )\n",
    "        edge_type = torch.tensor(\n",
    "            training_triplets_df['relation_idx'].values, \n",
    "            dtype=torch.long\n",
    "        )\n",
    "        \n",
    "        # 5. Load node embeddings\n",
    "        node_embeddings_file = os.path.join(clf_data_dir, \"node_embeddings.npy\")\n",
    "        node_embeddings = np.load(node_embeddings_file)\n",
    "        node_embeddings = torch.tensor(node_embeddings, dtype=torch.float32)\n",
    "        print(f\"  - Loaded node embeddings: {node_embeddings.shape}\")\n",
    "        \n",
    "        # 6. Load label mapping\n",
    "        label_mapping_file = os.path.join(clf_data_dir, \"label_mapping.csv\")\n",
    "        label_mapping_df = pd.read_csv(label_mapping_file)\n",
    "        print(f\"  - Loaded label mapping: {label_mapping_df.shape[0]} classes\")\n",
    "        \n",
    "        # 7. Load classification stats\n",
    "        stats_file = os.path.join(clf_data_dir, \"classification_stats.json\")\n",
    "        with open(stats_file, 'r') as f:\n",
    "            classification_stats = json.load(f)\n",
    "        print(f\"  - Loaded classification stats\")\n",
    "        \n",
    "        # Extract key parameters from stats\n",
    "        num_nodes = classification_stats['classification_num_nodes']\n",
    "        num_classes = classification_stats['classification_num_classes']\n",
    "        num_relations = classification_stats['total_relations']\n",
    "        embedding_dim = classification_stats['final_embedding_dim']\n",
    "        \n",
    "        print(f\"\\n--- Data Summary ---\")\n",
    "        print(f\"  - Total nodes: {num_nodes}\")\n",
    "        print(f\"  - Total edges: {edge_index.shape[1]}\")\n",
    "        print(f\"  - Labeled nodes: {labeled_nodes_and_labels.shape[0]}\")\n",
    "        print(f\"  - Embedding dimension: {embedding_dim}\")\n",
    "        print(f\"  - Number of classes: {num_classes}\")\n",
    "        print(f\"  - Number of relations: {num_relations}\")\n",
    "        \n",
    "        # Validate data consistency\n",
    "        validate_data_consistency(\n",
    "            node_embeddings, edge_index, edge_type, labeled_nodes_and_labels, \n",
    "            num_nodes, num_classes, num_relations\n",
    "        )\n",
    "        \n",
    "        return {\n",
    "            'node_embeddings': node_embeddings,\n",
    "            'edge_index': edge_index,\n",
    "            'edge_type': edge_type,\n",
    "            'labeled_nodes_and_labels': labeled_nodes_and_labels,\n",
    "            'num_nodes': num_nodes,\n",
    "            'embedding_dim': embedding_dim,\n",
    "            'num_classes': num_classes,\n",
    "            'num_relations': num_relations,\n",
    "            'classification_stats': classification_stats,\n",
    "            'node_mapping_df': node_mapping_df,\n",
    "            'relation_mapping_df': relation_mapping_df,\n",
    "            'label_mapping_df': label_mapping_df\n",
    "        }\n",
    "        \n",
    "    except Exception as e:\n",
    "        print(f\"Error loading data: {e}\")\n",
    "        raise\n",
    "\n",
    "\n",
    "def validate_data_consistency(node_embeddings, edge_index, edge_type, labeled_nodes_and_labels, \n",
    "                            num_nodes, num_classes, num_relations):\n",
    "    \"\"\"Validate that all data is consistent and properly formatted.\"\"\"\n",
    "    print(\"\\n--- Validating Data Consistency ---\")\n",
    "    \n",
    "    # Check node embeddings\n",
    "    assert node_embeddings.shape[0] == num_nodes, \\\n",
    "        f\"Node embeddings shape {node_embeddings.shape[0]} != num_nodes {num_nodes}\"\n",
    "    \n",
    "    # Check edge indices are within valid range\n",
    "    max_node_in_edges = torch.max(edge_index).item()\n",
    "    assert max_node_in_edges < num_nodes, \\\n",
    "        f\"Max node index in edges ({max_node_in_edges}) >= num_nodes ({num_nodes})\"\n",
    "    \n",
    "    # Check labeled nodes are within valid range\n",
    "    max_labeled_node = torch.max(labeled_nodes_and_labels[:, 0]).item()\n",
    "    assert max_labeled_node < num_nodes, \\\n",
    "        f\"Max labeled node index ({max_labeled_node}) >= num_nodes ({num_nodes})\"\n",
    "    \n",
    "    # Check labels are within valid range\n",
    "    max_label = torch.max(labeled_nodes_and_labels[:, 1]).item()\n",
    "    assert max_label < num_classes, \\\n",
    "        f\"Max label ({max_label}) >= num_classes ({num_classes})\"\n",
    "    \n",
    "    # Check edge types are within valid range\n",
    "    max_relation = torch.max(edge_type).item()\n",
    "    assert max_relation < num_relations, \\\n",
    "        f\"Max relation type ({max_relation}) >= num_relations ({num_relations})\"\n",
    "    \n",
    "    print(\"  ✓ All data consistency checks passed\")\n",
    "\n",
    "\n",
    "# ==============================================================================\n",
    "#  EXECUTION SCRIPT\n",
    "# ==============================================================================\n",
    "\n",
    "def main():\n",
    "    \"\"\"Main execution function.\"\"\"\n",
    "    try:\n",
    "        # Configuration\n",
    "        STUDY_NAME_RGCN = \"etude1\"\n",
    "        \n",
    "        # You may need to adjust this path based on your project structure\n",
    "        # Assuming config.CLASSIFICATION_DATA_DIR is available or set it directly\n",
    "        try:\n",
    "            from config import CLASSIFICATION_DATA_DIR\n",
    "        except ImportError:\n",
    "            # If config is not available, set the path directly\n",
    "            CLASSIFICATION_DATA_DIR = \"data/classification\"  # Adjust this path as needed\n",
    "            print(f\"Warning: Could not import config. Using default path: {CLASSIFICATION_DATA_DIR}\")\n",
    "        \n",
    "        clf_data_dir = os.path.join(CLASSIFICATION_DATA_DIR, f\"{STUDY_NAME_RGCN}_root_classification_data\")\n",
    "        \n",
    "        print(\"\\n--- Starting Inductive RGCN Training Pipeline ---\")\n",
    "        print(f\"Study Name: {STUDY_NAME_RGCN}\")\n",
    "        print(f\"Data Directory: {clf_data_dir}\")\n",
    "        \n",
    "        # Load real data\n",
    "        real_data = load_real_data(clf_data_dir, STUDY_NAME_RGCN)\n",
    "        \n",
    "        # Define configuration for the training pipeline\n",
    "        pipeline_config = {\n",
    "            # Data from our real data loader\n",
    "            'node_embeddings': real_data['node_embeddings'],\n",
    "            'edge_index': real_data['edge_index'],\n",
    "            'edge_type': real_data['edge_type'],\n",
    "            'labeled_nodes_and_labels': real_data['labeled_nodes_and_labels'],\n",
    "            'num_nodes': real_data['num_nodes'],\n",
    "            'embedding_dim': real_data['embedding_dim'],\n",
    "            'num_classes': real_data['num_classes'],\n",
    "            'num_relations': real_data['num_relations'],\n",
    "            'node_mapping_df': real_data['node_mapping_df'],  # FIXED: Added missing node_mapping_df\n",
    "            \n",
    "            # Study Name\n",
    "            'study_name': STUDY_NAME_RGCN,\n",
    "            \n",
    "            # Model Hyperparameters - adjusted for your data size\n",
    "            'rgcn_hidden_dim': 128,  # Increased for better capacity\n",
    "            'num_rgcn_layers': 2,\n",
    "            'num_bases': 4,  # Limit bases for efficiency\n",
    "            'dropout': 0.2,\n",
    "            'learning_rate': 1e-3,\n",
    "            'l2_reg': 1e-4,\n",
    "            \n",
    "            # Trainer & Pipeline Parameters\n",
    "            'max_epochs': 100,  # Full training\n",
    "            'patience': 15,     # Early stopping patience\n",
    "            \n",
    "            # Split and Subgraph Parameters\n",
    "            'train_size': 0.7,\n",
    "            'val_size': 0.15,\n",
    "            'test_size': 0.15,\n",
    "            'k_hop_train': 0,   # 2-hop neighbors for training subgraph\n",
    "            'k_hop_val': 0,     # 1-hop expansion for validation\n",
    "            'k_hop_test': 0     # 1-hop expansion for test\n",
    "        }\n",
    "        \n",
    "        print(f\"\\n--- Configuration Summary ---\")\n",
    "        print(f\"  Model: RGCN with {pipeline_config['num_rgcn_layers']} layers\")\n",
    "        print(f\"  Hidden dim: {pipeline_config['rgcn_hidden_dim']}\")\n",
    "        print(f\"  Learning rate: {pipeline_config['learning_rate']}\")\n",
    "        print(f\"  Max epochs: {pipeline_config['max_epochs']}\")\n",
    "        print(f\"  Dropout: {pipeline_config['dropout']}\")\n",
    "        print(f\"  L2 regularization: {pipeline_config['l2_reg']}\")\n",
    "        \n",
    "        # Run the Inductive Training Pipeline\n",
    "        print(f\"\\n--- Starting Training for '{STUDY_NAME_RGCN}' ---\")\n",
    "        results = run_inductive_training(config=pipeline_config)\n",
    "        \n",
    "        # Print Summary of Results\n",
    "        print(\"\\n--- Inductive Training Complete ---\")\n",
    "        if results and results.get('final_results'):\n",
    "            final_summary = results['final_results']\n",
    "            print(\"✓ Training finished successfully!\")\n",
    "            print(f\"  Results saved to: results/{STUDY_NAME_RGCN}/inductive_summary.json\")\n",
    "            \n",
    "            # Print final metrics if available\n",
    "            final_stage = final_summary['stage_summaries'].get('stage3')\n",
    "            if final_stage and final_stage.get('test_metrics'):\n",
    "                print(\"\\n--- Final Test Results ---\")\n",
    "                test_metrics = final_stage['test_metrics']\n",
    "                print(f\"  Test Accuracy:  {test_metrics.get('test_acc', 0):.4f}\")\n",
    "                print(f\"  Test F1 Score:  {test_metrics.get('test_f1', 0):.4f}\")\n",
    "                print(f\"  Test Precision: {test_metrics.get('test_precision', 0):.4f}\")\n",
    "                print(f\"  Test Recall:    {test_metrics.get('test_recall', 0):.4f}\")\n",
    "            else:\n",
    "                print(\"\\n⚠️  No final test metrics available\")\n",
    "                \n",
    "            # Print stage completion status\n",
    "            print(f\"\\n--- Stage Completion Status ---\")\n",
    "            for stage_name, stage_info in final_summary['stage_summaries'].items():\n",
    "                status = stage_info.get('completed', 'Unknown')\n",
    "                print(f\"  {stage_name}: {status}\")\n",
    "                \n",
    "        else:\n",
    "            print(\"❌ Training pipeline failed or returned incomplete results\")\n",
    "            if results:\n",
    "                print(\"Available result keys:\", list(results.keys()))\n",
    "            \n",
    "        return results\n",
    "        \n",
    "    except Exception as e:\n",
    "        print(f\"❌ Error in main execution: {e}\")\n",
    "        import traceback\n",
    "        traceback.print_exc()\n",
    "        return None\n",
    "\n",
    "\n",
    "# ==============================================================================\n",
    "#  SCRIPT ENTRY POINT\n",
    "# ==============================================================================\n",
    "\n",
    "if __name__ == \"__main__\":\n",
    "    print(\"=\"*80)\n",
    "    print(\"INDUCTIVE RGCN CLASSIFICATION - REAL DATA EXECUTION\")\n",
    "    print(\"=\"*80)\n",
    "    \n",
    "    # Check dependencies\n",
    "    try:\n",
    "        import torch_geometric\n",
    "        print(\"✓ PyTorch Geometric is available\")\n",
    "    except ImportError:\n",
    "        raise ImportError(\"Please install PyTorch Geometric: `pip install torch_geometric`\")\n",
    "    \n",
    "    # Run main execution\n",
    "    results = main()\n",
    "    \n",
    "    print(\"\\n\" + \"=\"*80)\n",
    "    print(\"EXECUTION COMPLETE\")\n",
    "    print(\"=\"*80)"
   ]
  },
  {
   "cell_type": "code",
   "execution_count": null,
   "metadata": {},
   "outputs": [],
   "source": []
  }
 ],
 "metadata": {
  "kernelspec": {
   "display_name": "Python 3",
   "language": "python",
   "name": "python3"
  },
  "language_info": {
   "codemirror_mode": {
    "name": "ipython",
    "version": 3
   },
   "file_extension": ".py",
   "mimetype": "text/x-python",
   "name": "python",
   "nbconvert_exporter": "python",
   "pygments_lexer": "ipython3",
   "version": "3.12.7"
  }
 },
 "nbformat": 4,
 "nbformat_minor": 2
}
